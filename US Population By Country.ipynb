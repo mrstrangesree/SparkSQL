{
 "cells": [
  {
   "cell_type": "markdown",
   "metadata": {
    "application/vnd.databricks.v1+cell": {
     "cellMetadata": {},
     "inputWidgets": {},
     "nuid": "5f9dd443-f69b-4ab0-9961-db82b8857668",
     "showTitle": false,
     "title": ""
    }
   },
   "source": [
    "### Access respective Azure storage container and blob to fetch data."
   ]
  },
  {
   "cell_type": "code",
   "execution_count": 0,
   "metadata": {
    "application/vnd.databricks.v1+cell": {
     "cellMetadata": {
      "byteLimit": 2048000,
      "rowLimit": 10000
     },
     "inputWidgets": {},
     "nuid": "e5ebff6a-8e45-403c-81ad-5c93a357549f",
     "showTitle": false,
     "title": ""
    }
   },
   "outputs": [],
   "source": [
    "# Azure storage access info\n",
    "blob_account_name = \"azureopendatastorage\"\n",
    "blob_container_name = \"censusdatacontainer\"\n",
    "blob_relative_path = \"release/us_population_county/\"\n",
    "blob_sas_token = r\"\""
   ]
  },
  {
   "cell_type": "markdown",
   "metadata": {
    "application/vnd.databricks.v1+cell": {
     "cellMetadata": {},
     "inputWidgets": {},
     "nuid": "1ab9ab8a-b5f9-4b17-90dc-d9623d5bb2e1",
     "showTitle": false,
     "title": ""
    }
   },
   "source": [
    "### Construct remote blob path to access the parquet files remotely."
   ]
  },
  {
   "cell_type": "code",
   "execution_count": 0,
   "metadata": {
    "application/vnd.databricks.v1+cell": {
     "cellMetadata": {
      "byteLimit": 2048000,
      "rowLimit": 10000
     },
     "inputWidgets": {},
     "nuid": "a011e7bf-e8d4-43b4-a3a1-075da5ee7b0d",
     "showTitle": false,
     "title": ""
    }
   },
   "outputs": [
    {
     "output_type": "stream",
     "name": "stdout",
     "output_type": "stream",
     "text": [
      "Remote blob path: wasbs://censusdatacontainer@azureopendatastorage.blob.core.windows.net/release/us_population_county/\n"
     ]
    }
   ],
   "source": [
    "# Allow SPARK to read from Blob remotely\n",
    "wasbs_path = 'wasbs://%s@%s.blob.core.windows.net/%s' % (blob_container_name, blob_account_name, blob_relative_path)\n",
    "spark.conf.set(\n",
    "  'fs.azure.sas.%s.%s.blob.core.windows.net' % (blob_container_name, blob_account_name),\n",
    "  blob_sas_token)\n",
    "print('Remote blob path: ' + wasbs_path)"
   ]
  },
  {
   "cell_type": "markdown",
   "metadata": {
    "application/vnd.databricks.v1+cell": {
     "cellMetadata": {},
     "inputWidgets": {},
     "nuid": "f1f306b7-b1e3-4476-87c5-ed79f9905f79",
     "showTitle": false,
     "title": ""
    }
   },
   "source": [
    "### Read the parquet files and load the data into Temporary view."
   ]
  },
  {
   "cell_type": "code",
   "execution_count": 0,
   "metadata": {
    "application/vnd.databricks.v1+cell": {
     "cellMetadata": {
      "byteLimit": 2048000,
      "rowLimit": 10000
     },
     "inputWidgets": {},
     "nuid": "b80c1878-9d03-4be0-92d8-cb47fc97f531",
     "showTitle": false,
     "title": ""
    }
   },
   "outputs": [
    {
     "output_type": "stream",
     "name": "stdout",
     "output_type": "stream",
     "text": [
      "Register the DataFrame as a SQL temporary view: source\n"
     ]
    }
   ],
   "source": [
    "# SPARK read parquet, note that it won't load any data yet by now\n",
    "df = spark.read.parquet(wasbs_path)\n",
    "print('Register the DataFrame as a SQL temporary view: source')\n",
    "df.createOrReplaceTempView('source')"
   ]
  },
  {
   "cell_type": "markdown",
   "metadata": {
    "application/vnd.databricks.v1+cell": {
     "cellMetadata": {},
     "inputWidgets": {},
     "nuid": "f6dbba79-542b-4504-b5cf-db1dce20c92f",
     "showTitle": false,
     "title": ""
    }
   },
   "source": [
    "### SQL Operations on the Temporary View."
   ]
  },
  {
   "cell_type": "markdown",
   "metadata": {
    "application/vnd.databricks.v1+cell": {
     "cellMetadata": {},
     "inputWidgets": {},
     "nuid": "a5b1905e-4be8-4382-8ce3-949e29b931ba",
     "showTitle": false,
     "title": ""
    }
   },
   "source": [
    "Display total number of rows"
   ]
  },
  {
   "cell_type": "code",
   "execution_count": 0,
   "metadata": {
    "application/vnd.databricks.v1+cell": {
     "cellMetadata": {
      "byteLimit": 2048000,
      "rowLimit": 10000
     },
     "inputWidgets": {},
     "nuid": "53d756a9-f0f4-4a99-a85c-b85371623227",
     "showTitle": false,
     "title": ""
    }
   },
   "outputs": [
    {
     "output_type": "stream",
     "name": "stdout",
     "output_type": "stream",
     "text": [
      "Count of rows :\n"
     ]
    },
    {
     "output_type": "display_data",
     "data": {
      "text/html": [
       "<style scoped>\n",
       "  .table-result-container {\n",
       "    max-height: 300px;\n",
       "    overflow: auto;\n",
       "  }\n",
       "  table, th, td {\n",
       "    border: 1px solid black;\n",
       "    border-collapse: collapse;\n",
       "  }\n",
       "  th, td {\n",
       "    padding: 5px;\n",
       "  }\n",
       "  th {\n",
       "    text-align: left;\n",
       "  }\n",
       "</style><div class='table-result-container'><table class='table-result'><thead style='background-color: white'><tr><th>Count</th></tr></thead><tbody><tr><td>3664512</td></tr></tbody></table></div>"
      ]
     },
     "metadata": {
      "application/vnd.databricks.v1+output": {
       "addedWidgets": {},
       "aggData": [],
       "aggError": "",
       "aggOverflow": false,
       "aggSchema": [],
       "aggSeriesLimitReached": false,
       "aggType": "",
       "arguments": {},
       "columnCustomDisplayInfos": {},
       "data": [
        [
         3664512
        ]
       ],
       "datasetInfos": [],
       "dbfsResultPath": null,
       "isJsonSchema": true,
       "metadata": {},
       "overflow": false,
       "plotOptions": {
        "customPlotOptions": {},
        "displayType": "table",
        "pivotAggregation": null,
        "pivotColumns": null,
        "xColumns": null,
        "yColumns": null
       },
       "removedWidgets": [],
       "schema": [
        {
         "metadata": "{}",
         "name": "Count",
         "type": "\"long\""
        }
       ],
       "type": "table"
      }
     },
     "output_type": "display_data"
    }
   ],
   "source": [
    "#Display total number of rows:\n",
    "print(\"Count of rows :\")\n",
    "display(spark.sql('SELECT count(*) as Count FROM source'))"
   ]
  },
  {
   "cell_type": "markdown",
   "metadata": {
    "application/vnd.databricks.v1+cell": {
     "cellMetadata": {},
     "inputWidgets": {},
     "nuid": "5923550b-be77-4cdd-a611-df36e13d7b90",
     "showTitle": false,
     "title": ""
    }
   },
   "source": [
    "Display top 10 rows"
   ]
  },
  {
   "cell_type": "code",
   "execution_count": 0,
   "metadata": {
    "application/vnd.databricks.v1+cell": {
     "cellMetadata": {
      "byteLimit": 2048000,
      "rowLimit": 10000
     },
     "inputWidgets": {},
     "nuid": "1a672f37-ba69-4e21-bf90-5646f9b9987d",
     "showTitle": false,
     "title": ""
    }
   },
   "outputs": [
    {
     "output_type": "stream",
     "name": "stdout",
     "output_type": "stream",
     "text": [
      "Displaying top 10 rows: \n"
     ]
    },
    {
     "output_type": "display_data",
     "data": {
      "text/html": [
       "<style scoped>\n",
       "  .table-result-container {\n",
       "    max-height: 300px;\n",
       "    overflow: auto;\n",
       "  }\n",
       "  table, th, td {\n",
       "    border: 1px solid black;\n",
       "    border-collapse: collapse;\n",
       "  }\n",
       "  th, td {\n",
       "    padding: 5px;\n",
       "  }\n",
       "  th {\n",
       "    text-align: left;\n",
       "  }\n",
       "</style><div class='table-result-container'><table class='table-result'><thead style='background-color: white'><tr><th>decennialTime</th><th>stateName</th><th>countyName</th><th>population</th><th>race</th><th>sex</th><th>minAge</th><th>maxAge</th><th>year</th></tr></thead><tbody><tr><td>2010</td><td>Texas</td><td>Crockett County</td><td>123</td><td>WHITE ALONE</td><td>Male</td><td>5</td><td>9</td><td>2010</td></tr><tr><td>2010</td><td>Texas</td><td>Crockett County</td><td>1</td><td>ASIAN ALONE</td><td>Female</td><td>67</td><td>69</td><td>2010</td></tr><tr><td>2010</td><td>Texas</td><td>Crockett County</td><td>111</td><td>WHITE ALONE</td><td>Female</td><td>55</td><td>59</td><td>2010</td></tr><tr><td>2010</td><td>Texas</td><td>Crockett County</td><td>64</td><td>TWO OR MORE RACES</td><td>null</td><td>null</td><td>null</td><td>2010</td></tr><tr><td>2010</td><td>Texas</td><td>Crockett County</td><td>18</td><td>null</td><td>Male</td><td>85</td><td>null</td><td>2010</td></tr><tr><td>2010</td><td>Texas</td><td>Crockett County</td><td>16</td><td>AMERICAN INDIAN AND ALASKA NATIVE ALONE</td><td>Female</td><td>null</td><td>null</td><td>2010</td></tr><tr><td>2010</td><td>Texas</td><td>Crockett County</td><td>7</td><td>WHITE ALONE</td><td>Male</td><td>21</td><td>21</td><td>2010</td></tr><tr><td>2010</td><td>Texas</td><td>Crockett County</td><td>45</td><td>null</td><td>Female</td><td>85</td><td>null</td><td>2010</td></tr><tr><td>2010</td><td>Texas</td><td>Crockett County</td><td>0</td><td>NATIVE HAWAIIAN AND OTHER PACIFIC ISLANDER ALONE</td><td>Female</td><td>67</td><td>69</td><td>2010</td></tr><tr><td>2010</td><td>Texas</td><td>Crockett County</td><td>4</td><td>SOME OTHER RACE ALONE</td><td>Male</td><td>67</td><td>69</td><td>2010</td></tr></tbody></table></div>"
      ]
     },
     "metadata": {
      "application/vnd.databricks.v1+output": {
       "addedWidgets": {},
       "aggData": [],
       "aggError": "",
       "aggOverflow": false,
       "aggSchema": [],
       "aggSeriesLimitReached": false,
       "aggType": "",
       "arguments": {},
       "columnCustomDisplayInfos": {},
       "data": [
        [
         "2010",
         "Texas",
         "Crockett County",
         123,
         "WHITE ALONE",
         "Male",
         5,
         9,
         2010
        ],
        [
         "2010",
         "Texas",
         "Crockett County",
         1,
         "ASIAN ALONE",
         "Female",
         67,
         69,
         2010
        ],
        [
         "2010",
         "Texas",
         "Crockett County",
         111,
         "WHITE ALONE",
         "Female",
         55,
         59,
         2010
        ],
        [
         "2010",
         "Texas",
         "Crockett County",
         64,
         "TWO OR MORE RACES",
         null,
         null,
         null,
         2010
        ],
        [
         "2010",
         "Texas",
         "Crockett County",
         18,
         null,
         "Male",
         85,
         null,
         2010
        ],
        [
         "2010",
         "Texas",
         "Crockett County",
         16,
         "AMERICAN INDIAN AND ALASKA NATIVE ALONE",
         "Female",
         null,
         null,
         2010
        ],
        [
         "2010",
         "Texas",
         "Crockett County",
         7,
         "WHITE ALONE",
         "Male",
         21,
         21,
         2010
        ],
        [
         "2010",
         "Texas",
         "Crockett County",
         45,
         null,
         "Female",
         85,
         null,
         2010
        ],
        [
         "2010",
         "Texas",
         "Crockett County",
         0,
         "NATIVE HAWAIIAN AND OTHER PACIFIC ISLANDER ALONE",
         "Female",
         67,
         69,
         2010
        ],
        [
         "2010",
         "Texas",
         "Crockett County",
         4,
         "SOME OTHER RACE ALONE",
         "Male",
         67,
         69,
         2010
        ]
       ],
       "datasetInfos": [],
       "dbfsResultPath": null,
       "isJsonSchema": true,
       "metadata": {},
       "overflow": false,
       "plotOptions": {
        "customPlotOptions": {},
        "displayType": "table",
        "pivotAggregation": null,
        "pivotColumns": null,
        "xColumns": null,
        "yColumns": null
       },
       "removedWidgets": [],
       "schema": [
        {
         "metadata": "{}",
         "name": "decennialTime",
         "type": "\"string\""
        },
        {
         "metadata": "{}",
         "name": "stateName",
         "type": "\"string\""
        },
        {
         "metadata": "{}",
         "name": "countyName",
         "type": "\"string\""
        },
        {
         "metadata": "{}",
         "name": "population",
         "type": "\"integer\""
        },
        {
         "metadata": "{}",
         "name": "race",
         "type": "\"string\""
        },
        {
         "metadata": "{}",
         "name": "sex",
         "type": "\"string\""
        },
        {
         "metadata": "{}",
         "name": "minAge",
         "type": "\"integer\""
        },
        {
         "metadata": "{}",
         "name": "maxAge",
         "type": "\"integer\""
        },
        {
         "metadata": "{}",
         "name": "year",
         "type": "\"integer\""
        }
       ],
       "type": "table"
      }
     },
     "output_type": "display_data"
    }
   ],
   "source": [
    "# Display top 10 rows\n",
    "print('Displaying top 10 rows: ')\n",
    "display(spark.sql('SELECT * FROM source LIMIT 10'))"
   ]
  },
  {
   "cell_type": "code",
   "execution_count": 0,
   "metadata": {
    "application/vnd.databricks.v1+cell": {
     "cellMetadata": {
      "byteLimit": 2048000,
      "rowLimit": 10000
     },
     "inputWidgets": {},
     "nuid": "e1d5f274-b597-464d-bb0b-e07af96a25c0",
     "showTitle": false,
     "title": ""
    }
   },
   "outputs": [
    {
     "output_type": "display_data",
     "data": {
      "text/html": [
       "<style scoped>\n",
       "  .table-result-container {\n",
       "    max-height: 300px;\n",
       "    overflow: auto;\n",
       "  }\n",
       "  table, th, td {\n",
       "    border: 1px solid black;\n",
       "    border-collapse: collapse;\n",
       "  }\n",
       "  th, td {\n",
       "    padding: 5px;\n",
       "  }\n",
       "  th {\n",
       "    text-align: left;\n",
       "  }\n",
       "</style><div class='table-result-container'><table class='table-result'><thead style='background-color: white'><tr><th>year</th><th>statename</th><th>countyname</th><th>race</th><th>sex</th><th>minage</th><th>maxage</th><th>population</th></tr></thead><tbody><tr><td>2010</td><td>Texas</td><td>Crockett County</td><td>WHITE ALONE</td><td>Male</td><td>5</td><td>9</td><td>123</td></tr><tr><td>2010</td><td>Texas</td><td>Crockett County</td><td>ASIAN ALONE</td><td>Female</td><td>67</td><td>69</td><td>1</td></tr><tr><td>2010</td><td>Texas</td><td>Crockett County</td><td>WHITE ALONE</td><td>Female</td><td>55</td><td>59</td><td>111</td></tr><tr><td>2010</td><td>Texas</td><td>Crockett County</td><td>TWO OR MORE RACES</td><td>null</td><td>null</td><td>null</td><td>64</td></tr><tr><td>2010</td><td>Texas</td><td>Crockett County</td><td>null</td><td>Male</td><td>85</td><td>null</td><td>18</td></tr><tr><td>2010</td><td>Texas</td><td>Crockett County</td><td>AMERICAN INDIAN AND ALASKA NATIVE ALONE</td><td>Female</td><td>null</td><td>null</td><td>16</td></tr><tr><td>2010</td><td>Texas</td><td>Crockett County</td><td>WHITE ALONE</td><td>Male</td><td>21</td><td>21</td><td>7</td></tr><tr><td>2010</td><td>Texas</td><td>Crockett County</td><td>null</td><td>Female</td><td>85</td><td>null</td><td>45</td></tr><tr><td>2010</td><td>Texas</td><td>Crockett County</td><td>NATIVE HAWAIIAN AND OTHER PACIFIC ISLANDER ALONE</td><td>Female</td><td>67</td><td>69</td><td>0</td></tr><tr><td>2010</td><td>Texas</td><td>Crockett County</td><td>SOME OTHER RACE ALONE</td><td>Male</td><td>67</td><td>69</td><td>4</td></tr></tbody></table></div>"
      ]
     },
     "metadata": {
      "application/vnd.databricks.v1+output": {
       "addedWidgets": {},
       "aggData": [],
       "aggError": "",
       "aggOverflow": false,
       "aggSchema": [],
       "aggSeriesLimitReached": false,
       "aggType": "",
       "arguments": {},
       "columnCustomDisplayInfos": {},
       "data": [
        [
         2010,
         "Texas",
         "Crockett County",
         "WHITE ALONE",
         "Male",
         5,
         9,
         123
        ],
        [
         2010,
         "Texas",
         "Crockett County",
         "ASIAN ALONE",
         "Female",
         67,
         69,
         1
        ],
        [
         2010,
         "Texas",
         "Crockett County",
         "WHITE ALONE",
         "Female",
         55,
         59,
         111
        ],
        [
         2010,
         "Texas",
         "Crockett County",
         "TWO OR MORE RACES",
         null,
         null,
         null,
         64
        ],
        [
         2010,
         "Texas",
         "Crockett County",
         null,
         "Male",
         85,
         null,
         18
        ],
        [
         2010,
         "Texas",
         "Crockett County",
         "AMERICAN INDIAN AND ALASKA NATIVE ALONE",
         "Female",
         null,
         null,
         16
        ],
        [
         2010,
         "Texas",
         "Crockett County",
         "WHITE ALONE",
         "Male",
         21,
         21,
         7
        ],
        [
         2010,
         "Texas",
         "Crockett County",
         null,
         "Female",
         85,
         null,
         45
        ],
        [
         2010,
         "Texas",
         "Crockett County",
         "NATIVE HAWAIIAN AND OTHER PACIFIC ISLANDER ALONE",
         "Female",
         67,
         69,
         0
        ],
        [
         2010,
         "Texas",
         "Crockett County",
         "SOME OTHER RACE ALONE",
         "Male",
         67,
         69,
         4
        ]
       ],
       "datasetInfos": [],
       "dbfsResultPath": null,
       "isJsonSchema": true,
       "metadata": {},
       "overflow": false,
       "plotOptions": {
        "customPlotOptions": {},
        "displayType": "table",
        "pivotAggregation": null,
        "pivotColumns": null,
        "xColumns": null,
        "yColumns": null
       },
       "removedWidgets": [],
       "schema": [
        {
         "metadata": "{}",
         "name": "year",
         "type": "\"integer\""
        },
        {
         "metadata": "{}",
         "name": "statename",
         "type": "\"string\""
        },
        {
         "metadata": "{}",
         "name": "countyname",
         "type": "\"string\""
        },
        {
         "metadata": "{}",
         "name": "race",
         "type": "\"string\""
        },
        {
         "metadata": "{}",
         "name": "sex",
         "type": "\"string\""
        },
        {
         "metadata": "{}",
         "name": "minage",
         "type": "\"integer\""
        },
        {
         "metadata": "{}",
         "name": "maxage",
         "type": "\"integer\""
        },
        {
         "metadata": "{}",
         "name": "population",
         "type": "\"integer\""
        }
       ],
       "type": "table"
      }
     },
     "output_type": "display_data"
    }
   ],
   "source": [
    "display(spark.sql('SELECT year, statename, countyname, race, sex, minage, maxage, population FROM source LIMIT 10'))"
   ]
  },
  {
   "cell_type": "markdown",
   "metadata": {
    "application/vnd.databricks.v1+cell": {
     "cellMetadata": {},
     "inputWidgets": {},
     "nuid": "e775220c-01be-429d-90e1-4b301cf661a7",
     "showTitle": false,
     "title": ""
    }
   },
   "source": [
    "Display list of unique years in the data"
   ]
  },
  {
   "cell_type": "code",
   "execution_count": 0,
   "metadata": {
    "application/vnd.databricks.v1+cell": {
     "cellMetadata": {
      "byteLimit": 2048000,
      "rowLimit": 10000
     },
     "inputWidgets": {},
     "nuid": "c85b4696-0c49-4db4-8cc9-db84b3acce9d",
     "showTitle": false,
     "title": ""
    }
   },
   "outputs": [
    {
     "output_type": "display_data",
     "data": {
      "text/html": [
       "<style scoped>\n",
       "  .table-result-container {\n",
       "    max-height: 300px;\n",
       "    overflow: auto;\n",
       "  }\n",
       "  table, th, td {\n",
       "    border: 1px solid black;\n",
       "    border-collapse: collapse;\n",
       "  }\n",
       "  th, td {\n",
       "    padding: 5px;\n",
       "  }\n",
       "  th {\n",
       "    text-align: left;\n",
       "  }\n",
       "</style><div class='table-result-container'><table class='table-result'><thead style='background-color: white'><tr><th>year</th></tr></thead><tbody><tr><td>2010</td></tr><tr><td>2000</td></tr></tbody></table></div>"
      ]
     },
     "metadata": {
      "application/vnd.databricks.v1+output": {
       "addedWidgets": {},
       "aggData": [],
       "aggError": "",
       "aggOverflow": false,
       "aggSchema": [],
       "aggSeriesLimitReached": false,
       "aggType": "",
       "arguments": {},
       "columnCustomDisplayInfos": {},
       "data": [
        [
         2010
        ],
        [
         2000
        ]
       ],
       "datasetInfos": [],
       "dbfsResultPath": null,
       "isJsonSchema": true,
       "metadata": {},
       "overflow": false,
       "plotOptions": {
        "customPlotOptions": {},
        "displayType": "table",
        "pivotAggregation": null,
        "pivotColumns": null,
        "xColumns": null,
        "yColumns": null
       },
       "removedWidgets": [],
       "schema": [
        {
         "metadata": "{}",
         "name": "year",
         "type": "\"integer\""
        }
       ],
       "type": "table"
      }
     },
     "output_type": "display_data"
    }
   ],
   "source": [
    "\n",
    "display(spark.sql('SELECT distinct year FROM source'))"
   ]
  },
  {
   "cell_type": "markdown",
   "metadata": {
    "application/vnd.databricks.v1+cell": {
     "cellMetadata": {},
     "inputWidgets": {},
     "nuid": "62452147-e0b9-4fd2-8672-807b5d5c43f2",
     "showTitle": false,
     "title": ""
    }
   },
   "source": [
    "Display the list of unique state names in the data"
   ]
  },
  {
   "cell_type": "code",
   "execution_count": 0,
   "metadata": {
    "application/vnd.databricks.v1+cell": {
     "cellMetadata": {
      "byteLimit": 2048000,
      "rowLimit": 10000
     },
     "inputWidgets": {},
     "nuid": "f91fbc14-bcf9-48a3-8d91-0a4b1c80129a",
     "showTitle": false,
     "title": ""
    }
   },
   "outputs": [
    {
     "output_type": "display_data",
     "data": {
      "text/html": [
       "<style scoped>\n",
       "  .table-result-container {\n",
       "    max-height: 300px;\n",
       "    overflow: auto;\n",
       "  }\n",
       "  table, th, td {\n",
       "    border: 1px solid black;\n",
       "    border-collapse: collapse;\n",
       "  }\n",
       "  th, td {\n",
       "    padding: 5px;\n",
       "  }\n",
       "  th {\n",
       "    text-align: left;\n",
       "  }\n",
       "</style><div class='table-result-container'><table class='table-result'><thead style='background-color: white'><tr><th>statename</th></tr></thead><tbody><tr><td>Utah</td></tr><tr><td>Hawaii</td></tr><tr><td>Minnesota</td></tr><tr><td>Ohio</td></tr><tr><td>Oregon</td></tr><tr><td>Arkansas</td></tr><tr><td>Texas</td></tr><tr><td>North Dakota</td></tr><tr><td>Pennsylvania</td></tr><tr><td>Connecticut</td></tr><tr><td>Vermont</td></tr><tr><td>Nebraska</td></tr><tr><td>Nevada</td></tr><tr><td>Puerto Rico</td></tr><tr><td>Washington</td></tr><tr><td>Illinois</td></tr><tr><td>Oklahoma</td></tr><tr><td>District of Columbia</td></tr><tr><td>Delaware</td></tr><tr><td>Alaska</td></tr><tr><td>New Mexico</td></tr><tr><td>West Virginia</td></tr><tr><td>Missouri</td></tr><tr><td>Rhode Island</td></tr><tr><td>Georgia</td></tr><tr><td>Montana</td></tr><tr><td>Virginia</td></tr><tr><td>Michigan</td></tr><tr><td>North Carolina</td></tr><tr><td>Wyoming</td></tr><tr><td>Kansas</td></tr><tr><td>New Jersey</td></tr><tr><td>Maryland</td></tr><tr><td>Alabama</td></tr><tr><td>Arizona</td></tr><tr><td>Iowa</td></tr><tr><td>Massachusetts</td></tr><tr><td>Kentucky</td></tr><tr><td>Louisiana</td></tr><tr><td>Mississippi</td></tr><tr><td>Tennessee</td></tr><tr><td>New Hampshire</td></tr><tr><td>Indiana</td></tr><tr><td>Florida</td></tr><tr><td>Idaho</td></tr><tr><td>South Carolina</td></tr><tr><td>South Dakota</td></tr><tr><td>California</td></tr><tr><td>New York</td></tr><tr><td>Wisconsin</td></tr><tr><td>Maine</td></tr><tr><td>Colorado</td></tr></tbody></table></div>"
      ]
     },
     "metadata": {
      "application/vnd.databricks.v1+output": {
       "addedWidgets": {},
       "aggData": [],
       "aggError": "",
       "aggOverflow": false,
       "aggSchema": [],
       "aggSeriesLimitReached": false,
       "aggType": "",
       "arguments": {},
       "columnCustomDisplayInfos": {},
       "data": [
        [
         "Utah"
        ],
        [
         "Hawaii"
        ],
        [
         "Minnesota"
        ],
        [
         "Ohio"
        ],
        [
         "Oregon"
        ],
        [
         "Arkansas"
        ],
        [
         "Texas"
        ],
        [
         "North Dakota"
        ],
        [
         "Pennsylvania"
        ],
        [
         "Connecticut"
        ],
        [
         "Vermont"
        ],
        [
         "Nebraska"
        ],
        [
         "Nevada"
        ],
        [
         "Puerto Rico"
        ],
        [
         "Washington"
        ],
        [
         "Illinois"
        ],
        [
         "Oklahoma"
        ],
        [
         "District of Columbia"
        ],
        [
         "Delaware"
        ],
        [
         "Alaska"
        ],
        [
         "New Mexico"
        ],
        [
         "West Virginia"
        ],
        [
         "Missouri"
        ],
        [
         "Rhode Island"
        ],
        [
         "Georgia"
        ],
        [
         "Montana"
        ],
        [
         "Virginia"
        ],
        [
         "Michigan"
        ],
        [
         "North Carolina"
        ],
        [
         "Wyoming"
        ],
        [
         "Kansas"
        ],
        [
         "New Jersey"
        ],
        [
         "Maryland"
        ],
        [
         "Alabama"
        ],
        [
         "Arizona"
        ],
        [
         "Iowa"
        ],
        [
         "Massachusetts"
        ],
        [
         "Kentucky"
        ],
        [
         "Louisiana"
        ],
        [
         "Mississippi"
        ],
        [
         "Tennessee"
        ],
        [
         "New Hampshire"
        ],
        [
         "Indiana"
        ],
        [
         "Florida"
        ],
        [
         "Idaho"
        ],
        [
         "South Carolina"
        ],
        [
         "South Dakota"
        ],
        [
         "California"
        ],
        [
         "New York"
        ],
        [
         "Wisconsin"
        ],
        [
         "Maine"
        ],
        [
         "Colorado"
        ]
       ],
       "datasetInfos": [],
       "dbfsResultPath": null,
       "isJsonSchema": true,
       "metadata": {},
       "overflow": false,
       "plotOptions": {
        "customPlotOptions": {},
        "displayType": "table",
        "pivotAggregation": null,
        "pivotColumns": null,
        "xColumns": null,
        "yColumns": null
       },
       "removedWidgets": [],
       "schema": [
        {
         "metadata": "{}",
         "name": "statename",
         "type": "\"string\""
        }
       ],
       "type": "table"
      }
     },
     "output_type": "display_data"
    }
   ],
   "source": [
    "display(spark.sql('SELECT distinct statename FROM source'))"
   ]
  },
  {
   "cell_type": "markdown",
   "metadata": {
    "application/vnd.databricks.v1+cell": {
     "cellMetadata": {},
     "inputWidgets": {},
     "nuid": "1b0682f9-9aea-4efa-adee-61cda7a973a6",
     "showTitle": false,
     "title": ""
    }
   },
   "source": [
    "Display the list of unique County names in the data"
   ]
  },
  {
   "cell_type": "code",
   "execution_count": 0,
   "metadata": {
    "application/vnd.databricks.v1+cell": {
     "cellMetadata": {
      "byteLimit": 2048000,
      "rowLimit": 10000
     },
     "inputWidgets": {},
     "nuid": "143bde54-7a2a-44be-a6db-ef9127071ffc",
     "showTitle": false,
     "title": ""
    }
   },
   "outputs": [
    {
     "output_type": "display_data",
     "data": {
      "text/html": [
       "<style scoped>\n",
       "  .table-result-container {\n",
       "    max-height: 300px;\n",
       "    overflow: auto;\n",
       "  }\n",
       "  table, th, td {\n",
       "    border: 1px solid black;\n",
       "    border-collapse: collapse;\n",
       "  }\n",
       "  th, td {\n",
       "    padding: 5px;\n",
       "  }\n",
       "  th {\n",
       "    text-align: left;\n",
       "  }\n",
       "</style><div class='table-result-container'><table class='table-result'><thead style='background-color: white'><tr><th>countyname</th></tr></thead><tbody><tr><td>Owen County</td></tr><tr><td>McLennan County</td></tr><tr><td>Williamson County</td></tr><tr><td>Yoakum County</td></tr><tr><td>Wasatch County</td></tr><tr><td>Canadian County</td></tr><tr><td>Unicoi County</td></tr><tr><td>Rock County</td></tr><tr><td>Lewis and Clark County</td></tr><tr><td>Webster County</td></tr><tr><td>Cumberland County</td></tr><tr><td>Woodward County</td></tr><tr><td>Muskegon County</td></tr><tr><td>Kingman County</td></tr><tr><td>Wexford County</td></tr><tr><td>DuPage County</td></tr><tr><td>Rosebud County</td></tr><tr><td>Cole County</td></tr><tr><td>La Plata County</td></tr><tr><td>Hempstead County</td></tr><tr><td>El Paso County</td></tr><tr><td>Robertson County</td></tr><tr><td>Dakota County</td></tr><tr><td>Sutter County</td></tr><tr><td>Montcalm County</td></tr><tr><td>Roscommon County</td></tr><tr><td>Williamsburg city</td></tr><tr><td>Garrett County</td></tr><tr><td>Will County</td></tr><tr><td>Bryan County</td></tr><tr><td>Beltrami County</td></tr><tr><td>Lycoming County</td></tr><tr><td>Rhea County</td></tr><tr><td>Habersham County</td></tr><tr><td>Yazoo County</td></tr><tr><td>Wade Hampton Census Area</td></tr><tr><td>Blanco County</td></tr><tr><td>Cochran County</td></tr><tr><td>Concho County</td></tr><tr><td>Eastland County</td></tr><tr><td>Lucas County</td></tr><tr><td>Ness County</td></tr><tr><td>Kinney County</td></tr><tr><td>Benton County</td></tr><tr><td>Wyandotte County</td></tr><tr><td>Woodson County</td></tr><tr><td>Garvin County</td></tr><tr><td>Lumpkin County</td></tr><tr><td>Clinch County</td></tr><tr><td>Bladen County</td></tr><tr><td>Osceola County</td></tr><tr><td>Starr County</td></tr><tr><td>Clermont County</td></tr><tr><td>Knox County</td></tr><tr><td>Gilliam County</td></tr><tr><td>Custer County</td></tr><tr><td>Roanoke County</td></tr><tr><td>St. Helena Parish</td></tr><tr><td>Dundy County</td></tr><tr><td>Morrill County</td></tr><tr><td>Gratiot County</td></tr><tr><td>Colusa County</td></tr><tr><td>Butts County</td></tr><tr><td>Bernalillo County</td></tr><tr><td>Lorain County</td></tr><tr><td>Reeves County</td></tr><tr><td>Muhlenberg County</td></tr><tr><td>Waseca County</td></tr><tr><td>Kalkaska County</td></tr><tr><td>Deer Lodge County</td></tr><tr><td>Labette County</td></tr><tr><td>St. Charles Parish</td></tr><tr><td>Fairfax city</td></tr><tr><td>Bayam?n Municipio</td></tr><tr><td>Dyer County</td></tr><tr><td>Madera County</td></tr><tr><td>Conecuh County</td></tr><tr><td>Dickey County</td></tr><tr><td>Frio County</td></tr><tr><td>Shawnee County</td></tr><tr><td>Bourbon County</td></tr><tr><td>McLean County</td></tr><tr><td>Ballard County</td></tr><tr><td>Livingston Parish</td></tr><tr><td>Martinsville city</td></tr><tr><td>Claiborne County</td></tr><tr><td>Mackinac County</td></tr><tr><td>Denver County</td></tr><tr><td>Ouachita County</td></tr><tr><td>McHenry County</td></tr><tr><td>LaMoure County</td></tr><tr><td>Cottonwood County</td></tr><tr><td>Wicomico County</td></tr><tr><td>Hillsborough County</td></tr><tr><td>Routt County</td></tr><tr><td>Juneau City and Borough</td></tr><tr><td>Kenai Peninsula Borough</td></tr><tr><td>Yolo County</td></tr><tr><td>Nueces County</td></tr><tr><td>Muskogee County</td></tr><tr><td>Kenosha County</td></tr><tr><td>Patrick County</td></tr><tr><td>Richland Parish</td></tr><tr><td>Bannock County</td></tr><tr><td>Trujillo Alto Municipio</td></tr><tr><td>Del Norte County</td></tr><tr><td>Chilton County</td></tr><tr><td>Gulf County</td></tr><tr><td>Wise County</td></tr><tr><td>Box Elder County</td></tr><tr><td>Craig County</td></tr><tr><td>Oscoda County</td></tr><tr><td>Olmsted County</td></tr><tr><td>Snohomish County</td></tr><tr><td>Winston County</td></tr><tr><td>Riverside County</td></tr><tr><td>Solano County</td></tr><tr><td>Grundy County</td></tr><tr><td>Slope County</td></tr><tr><td>Missaukee County</td></tr><tr><td>Cass County</td></tr><tr><td>Pickett County</td></tr><tr><td>Corson County</td></tr><tr><td>Kittitas County</td></tr><tr><td>Pend Oreille County</td></tr><tr><td>McDowell County</td></tr><tr><td>Crenshaw County</td></tr><tr><td>Scotland County</td></tr><tr><td>Highland County</td></tr><tr><td>Clackamas County</td></tr><tr><td>Oglethorpe County</td></tr><tr><td>Calhoun County</td></tr><tr><td>Aguas Buenas Municipio</td></tr><tr><td>Hatillo Municipio</td></tr><tr><td>Grenada County</td></tr><tr><td>Modoc County</td></tr><tr><td>Parker County</td></tr><tr><td>Champaign County</td></tr><tr><td>Lamar County</td></tr><tr><td>Major County</td></tr><tr><td>Acadia Parish</td></tr><tr><td>Creek County</td></tr><tr><td>Washington Parish</td></tr><tr><td>Mineral County</td></tr><tr><td>Montezuma County</td></tr><tr><td>Rusk County</td></tr><tr><td>Lampasas County</td></tr><tr><td>Somerset County</td></tr><tr><td>Dawes County</td></tr><tr><td>Cowlitz County</td></tr><tr><td>Waldo County</td></tr><tr><td>Hinds County</td></tr><tr><td>Merced County</td></tr><tr><td>Sacramento County</td></tr><tr><td>Moffat County</td></tr><tr><td>Suwannee County</td></tr><tr><td>Maries County</td></tr><tr><td>Williams County</td></tr><tr><td>Cowley County</td></tr><tr><td>Fluvanna County</td></tr><tr><td>Simpson County</td></tr><tr><td>Shawano County</td></tr><tr><td>Plaquemines Parish</td></tr><tr><td>St. Tammany Parish</td></tr><tr><td>Dane County</td></tr><tr><td>Mohave County</td></tr><tr><td>St. Lawrence County</td></tr><tr><td>Hays County</td></tr><tr><td>Craven County</td></tr><tr><td>Caledonia County</td></tr><tr><td>Sunflower County</td></tr><tr><td>Broward County</td></tr><tr><td>Nome Census Area</td></tr><tr><td>De Baca County</td></tr><tr><td>Fremont County</td></tr><tr><td>Jackson County</td></tr><tr><td>Clay County</td></tr><tr><td>Geary County</td></tr><tr><td>Rogers County</td></tr><tr><td>Accomack County</td></tr><tr><td>Wabaunsee County</td></tr><tr><td>Allegheny County</td></tr><tr><td>Rapides Parish</td></tr><tr><td>Traverse County</td></tr><tr><td>Barceloneta Municipio</td></tr><tr><td>Luquillo Municipio</td></tr><tr><td>Benewah County</td></tr><tr><td>Camas County</td></tr><tr><td>Otero County</td></tr><tr><td>Bartow County</td></tr><tr><td>Broomfield County</td></tr><tr><td>Taos County</td></tr><tr><td>Vermilion County</td></tr><tr><td>Collingsworth County</td></tr><tr><td>Phillips County</td></tr><tr><td>Kearny County</td></tr><tr><td>Mayes County</td></tr><tr><td>Willacy County</td></tr><tr><td>Menifee County</td></tr><tr><td>Juneau County</td></tr><tr><td>Chester County</td></tr><tr><td>Mellette County</td></tr><tr><td>Nash County</td></tr><tr><td>Rush County</td></tr><tr><td>Menard County</td></tr><tr><td>Edmonson County</td></tr><tr><td>East Baton Rouge Parish</td></tr><tr><td>Dillon County</td></tr><tr><td>Manassas city</td></tr><tr><td>Portsmouth city</td></tr><tr><td>Staunton city</td></tr><tr><td>Leake County</td></tr><tr><td>Kitsap County</td></tr><tr><td>Yabucoa Municipio</td></tr><tr><td>Rains County</td></tr><tr><td>Piute County</td></tr><tr><td>Coos County</td></tr><tr><td>Heard County</td></tr><tr><td>Grant Parish</td></tr><tr><td>Harrisonburg city</td></tr><tr><td>Iosco County</td></tr><tr><td>Hot Spring County</td></tr><tr><td>Echols County</td></tr><tr><td>St. Louis city</td></tr><tr><td>Watauga County</td></tr><tr><td>Shackelford County</td></tr><tr><td>Spotsylvania County</td></tr><tr><td>Sweetwater County</td></tr><tr><td>Bureau County</td></tr><tr><td>Benzie County</td></tr><tr><td>Gladwin County</td></tr><tr><td>Brevard County</td></tr><tr><td>Pickaway County</td></tr><tr><td>Manitowoc County</td></tr><tr><td>Morehouse Parish</td></tr><tr><td>Troup County</td></tr><tr><td>Queen Anne's County</td></tr><tr><td>Klickitat County</td></tr><tr><td>Naguabo Municipio</td></tr><tr><td>Cleburne County</td></tr><tr><td>Adams County</td></tr><tr><td>McClain County</td></tr><tr><td>Lebanon County</td></tr><tr><td>Bossier Parish</td></tr><tr><td>Tensas Parish</td></tr><tr><td>St. Louis County</td></tr><tr><td>Edgefield County</td></tr><tr><td>Cedar County</td></tr><tr><td>Audrain County</td></tr><tr><td>Navajo County</td></tr><tr><td>Mississippi County</td></tr><tr><td>Laclede County</td></tr><tr><td>Pratt County</td></tr><tr><td>Kendall County</td></tr><tr><td>Tuscola County</td></tr><tr><td>Roane County</td></tr><tr><td>Waupaca County</td></tr><tr><td>McCone County</td></tr><tr><td>Newport County</td></tr><tr><td>Baltimore city</td></tr><tr><td>Beadle County</td></tr><tr><td>Ionia County</td></tr><tr><td>Lake and Peninsula Borough</td></tr><tr><td>Pima County</td></tr><tr><td>Chenango County</td></tr><tr><td>Hertford County</td></tr><tr><td>Harrison County</td></tr><tr><td>Dickinson County</td></tr><tr><td>Fleming County</td></tr><tr><td>Iroquois County</td></tr><tr><td>Kershaw County</td></tr><tr><td>Chesapeake city</td></tr><tr><td>Richardson County</td></tr><tr><td>Strafford County</td></tr><tr><td>Monongalia County</td></tr><tr><td>Dolores County</td></tr><tr><td>Pueblo County</td></tr><tr><td>Maricopa County</td></tr><tr><td>Gasconade County</td></tr><tr><td>Gentry County</td></tr><tr><td>Dimmit County</td></tr><tr><td>Donley County</td></tr><tr><td>Hardeman County</td></tr><tr><td>Whitley County</td></tr><tr><td>Bullitt County</td></tr><tr><td>Schoolcraft County</td></tr><tr><td>Mahnomen County</td></tr><tr><td>Keya Paha County</td></tr><tr><td>Hanson County</td></tr><tr><td>Genesee County</td></tr><tr><td>DeKalb County</td></tr><tr><td>Macomb County</td></tr><tr><td>Ketchikan Gateway Borough</td></tr><tr><td>Bee County</td></tr><tr><td>Winneshiek County</td></tr><tr><td>Humboldt County</td></tr><tr><td>Garrard County</td></tr><tr><td>Spalding County</td></tr><tr><td>Amite County</td></tr><tr><td>Norfolk County</td></tr><tr><td>Manistee County</td></tr><tr><td>Nassau County</td></tr><tr><td>Bulloch County</td></tr><tr><td>Van Buren County</td></tr><tr><td>Yadkin County</td></tr><tr><td>Newton County</td></tr><tr><td>Midland County</td></tr><tr><td>Garden County</td></tr><tr><td>Brooke County</td></tr><tr><td>Ulster County</td></tr><tr><td>Foard County</td></tr><tr><td>Garza County</td></tr><tr><td>Greene County</td></tr><tr><td>Gallia County</td></tr><tr><td>Nottoway County</td></tr><tr><td>Washburn County</td></tr><tr><td>Otter Tail County</td></tr><tr><td>Hampton city</td></tr><tr><td>Cayey Municipio</td></tr><tr><td>Spink County</td></tr><tr><td>Sitka City and Borough</td></tr><tr><td>Santa Barbara County</td></tr><tr><td>Stanislaus County</td></tr><tr><td>Alamosa County</td></tr><tr><td>Weber County</td></tr><tr><td>Berkeley County</td></tr><tr><td>Worcester County</td></tr><tr><td>San Bernardino County</td></tr><tr><td>Chouteau County</td></tr><tr><td>Nodaway County</td></tr><tr><td>Madison County</td></tr><tr><td>Matagorda County</td></tr><tr><td>Utah County</td></tr><tr><td>Choctaw County</td></tr><tr><td>King George County</td></tr><tr><td>Peach County</td></tr><tr><td>Waynesboro city</td></tr><tr><td>Bolivar County</td></tr><tr><td>Spartanburg County</td></tr><tr><td>Pacific County</td></tr><tr><td>Hunterdon County</td></tr><tr><td>Northwest Arctic Borough</td></tr><tr><td>Ashley County</td></tr><tr><td>Hodgeman County</td></tr><tr><td>Lafayette County</td></tr><tr><td>Phelps County</td></tr><tr><td>Ponce Municipio</td></tr><tr><td>Nez Perce County</td></tr><tr><td>Mono County</td></tr><tr><td>Moniteau County</td></tr><tr><td>Fayette County</td></tr><tr><td>Chautauqua County</td></tr><tr><td>Charlotte County</td></tr><tr><td>Jo Daviess County</td></tr><tr><td>Cata?o Municipio</td></tr><tr><td>Piscataquis County</td></tr><tr><td>Rinc?n Municipio</td></tr><tr><td>Cheshire County</td></tr><tr><td>Yell County</td></tr><tr><td>Mountrail County</td></tr><tr><td>La Salle County</td></tr><tr><td>Frederick County</td></tr><tr><td>Windham County</td></tr><tr><td>Trousdale County</td></tr><tr><td>Webster Parish</td></tr><tr><td>Juncos Municipio</td></tr><tr><td>Jefferson Davis County</td></tr><tr><td>Wahkiakum County</td></tr><tr><td>Duplin County</td></tr><tr><td>Jack County</td></tr><tr><td>Barton County</td></tr><tr><td>Union Parish</td></tr><tr><td>Barron County</td></tr><tr><td>Schoharie County</td></tr><tr><td>Bosque County</td></tr><tr><td>Cavalier County</td></tr><tr><td>Bracken County</td></tr><tr><td>Jessamine County</td></tr><tr><td>Macon County</td></tr><tr><td>James City County</td></tr><tr><td>Lanier County</td></tr><tr><td>Meriwether County</td></tr><tr><td>Jackson Parish</td></tr><tr><td>Charlottesville city</td></tr><tr><td>Issaquena County</td></tr><tr><td>Prince George's County</td></tr><tr><td>Hamlin County</td></tr><tr><td>Dade County</td></tr><tr><td>Decatur County</td></tr><tr><td>Ramsey County</td></tr><tr><td>Laurel County</td></tr><tr><td>Gordon County</td></tr><tr><td>Arenac County</td></tr><tr><td>Granite County</td></tr><tr><td>Schenectady County</td></tr><tr><td>Swain County</td></tr><tr><td>Switzerland County</td></tr><tr><td>Edgecombe County</td></tr><tr><td>Kaufman County</td></tr><tr><td>Casey County</td></tr><tr><td>Moultrie County</td></tr><tr><td>Pittsylvania County</td></tr><tr><td>Lafourche Parish</td></tr><tr><td>Westmoreland County</td></tr><tr><td>Jerauld County</td></tr><tr><td>Tate County</td></tr><tr><td>Lee County</td></tr><tr><td>LaPorte County</td></tr><tr><td>Perry County</td></tr><tr><td>San Augustine County</td></tr><tr><td>Doniphan County</td></tr><tr><td>Lauderdale County</td></tr><tr><td>Mathews County</td></tr><tr><td>Jefferson Davis Parish</td></tr><tr><td>Lyman County</td></tr><tr><td>Cross County</td></tr><tr><td>Chaves County</td></tr><tr><td>Palo Alto County</td></tr><tr><td>Vanderburgh County</td></tr><tr><td>Amelia County</td></tr><tr><td>Oconto County</td></tr><tr><td>La Salle Parish</td></tr><tr><td>Lapeer County</td></tr><tr><td>Fresno County</td></tr><tr><td>Las Animas County</td></tr><tr><td>Pender County</td></tr><tr><td>Charles City County</td></tr><tr><td>Freeborn County</td></tr><tr><td>Silver Bow County</td></tr><tr><td>Charles County</td></tr><tr><td>Litchfield County</td></tr><tr><td>Bandera County</td></tr><tr><td>Borden County</td></tr><tr><td>Childress County</td></tr><tr><td>Floyd County</td></tr><tr><td>Des Moines County</td></tr><tr><td>Cleveland County</td></tr><tr><td>Russell County</td></tr><tr><td>Renville County</td></tr><tr><td>Young County</td></tr><tr><td>Chittenden County</td></tr><tr><td>Miller County</td></tr><tr><td>Winn Parish</td></tr><tr><td>Hopewell city</td></tr><tr><td>Lenawee County</td></tr><tr><td>Coffee County</td></tr><tr><td>Elko County</td></tr><tr><td>Denali Borough</td></tr><tr><td>St. Johns County</td></tr><tr><td>Wrangell City and Borough</td></tr><tr><td>Santa Clara County</td></tr><tr><td>Freestone County</td></tr><tr><td>Kenedy County</td></tr><tr><td>Holmes County</td></tr><tr><td>Zapata County</td></tr><tr><td>Montmorency County</td></tr><tr><td>Merrick County</td></tr><tr><td>Arkansas County</td></tr><tr><td>Chatham County</td></tr><tr><td>Nowata County</td></tr><tr><td>Halifax County</td></tr><tr><td>Fajardo Municipio</td></tr><tr><td>Marlboro County</td></tr><tr><td>Bronx County</td></tr><tr><td>Ransom County</td></tr><tr><td>Carroll County</td></tr><tr><td>Hunt County</td></tr><tr><td>Green Lake County</td></tr><tr><td>Armstrong County</td></tr><tr><td>Stewart County</td></tr><tr><td>St. Bernard Parish</td></tr><tr><td>Musselshell County</td></tr><tr><td>Florence County</td></tr><tr><td>Sagadahoc County</td></tr><tr><td>Marengo County</td></tr><tr><td>Broome County</td></tr><tr><td>Burleigh County</td></tr><tr><td>Caswell County</td></tr><tr><td>Osage County</td></tr><tr><td>Buckingham County</td></tr><tr><td>Culpeper County</td></tr><tr><td>Mecklenburg County</td></tr><tr><td>Bristol County</td></tr><tr><td>Nobles County</td></tr><tr><td>Sherburne County</td></tr><tr><td>Mayag?ez Municipio</td></tr><tr><td>Alpena County</td></tr><tr><td>Santa Rosa County</td></tr><tr><td>Crisp County</td></tr><tr><td>Ralls County</td></tr><tr><td>Crawford County</td></tr><tr><td>Uintah County</td></tr><tr><td>Harford County</td></tr><tr><td>Raleigh County</td></tr><tr><td>Mesa County</td></tr><tr><td>Ben Hill County</td></tr><tr><td>Crittenden County</td></tr><tr><td>Hot Springs County</td></tr><tr><td>Iberia Parish</td></tr><tr><td>Esmeralda County</td></tr><tr><td>Bottineau County</td></tr><tr><td>Billings County</td></tr><tr><td>Catawba County</td></tr><tr><td>Cuyahoga County</td></tr><tr><td>Hopkins County</td></tr><tr><td>Travis County</td></tr><tr><td>Cimarron County</td></tr><tr><td>Harding County</td></tr><tr><td>Vega Alta Municipio</td></tr><tr><td>Lemhi County</td></tr><tr><td>Pearl River County</td></tr><tr><td>Burnett County</td></tr><tr><td>Talladega County</td></tr><tr><td>Levy County</td></tr><tr><td>Golden Valley County</td></tr><tr><td>Page County</td></tr><tr><td>Sac County</td></tr><tr><td>Tyrrell County</td></tr><tr><td>Presidio County</td></tr><tr><td>Runnels County</td></tr><tr><td>Tarrant County</td></tr><tr><td>Vilas County</td></tr><tr><td>Quitman County</td></tr><tr><td>Kings County</td></tr><tr><td>Mahaska County</td></tr><tr><td>Portage County</td></tr><tr><td>Parmer County</td></tr><tr><td>Reno County</td></tr><tr><td>Traill County</td></tr><tr><td>Seminole County</td></tr><tr><td>Albemarle County</td></tr><tr><td>Ogle County</td></tr><tr><td>Henrico County</td></tr><tr><td>Greenville County</td></tr><tr><td>Hamblen County</td></tr><tr><td>Black Hawk County</td></tr><tr><td>Deaf Smith County</td></tr><tr><td>Caddo Parish</td></tr><tr><td>Jenkins County</td></tr><tr><td>Pembina County</td></tr><tr><td>Ford County</td></tr><tr><td>Juab County</td></tr><tr><td>Itasca County</td></tr><tr><td>West Feliciana Parish</td></tr><tr><td>Coahoma County</td></tr><tr><td>Braxton County</td></tr><tr><td>Miner County</td></tr><tr><td>White Pine County</td></tr><tr><td>Rio Blanco County</td></tr><tr><td>New London County</td></tr><tr><td>Kidder County</td></tr><tr><td>Richmond County</td></tr><tr><td>Surry County</td></tr><tr><td>San Jacinto County</td></tr><tr><td>Kimble County</td></tr><tr><td>Talbot County</td></tr><tr><td>Valencia County</td></tr><tr><td>Hettinger County</td></tr><tr><td>Transylvania County</td></tr><tr><td>Wright County</td></tr><tr><td>Love County</td></tr><tr><td>Owsley County</td></tr><tr><td>Letcher County</td></tr><tr><td>Colfax County</td></tr><tr><td>Whatcom County</td></tr><tr><td>Hendry County</td></tr><tr><td>Tehama County</td></tr><tr><td>Eagle County</td></tr><tr><td>Rock Island County</td></tr><tr><td>Hardin County</td></tr><tr><td>Rowan County</td></tr><tr><td>Scurry County</td></tr><tr><td>Sherman County</td></tr><tr><td>Cotton County</td></tr><tr><td>Koochiching County</td></tr><tr><td>Roanoke city</td></tr><tr><td>Naranjito Municipio</td></tr><tr><td>Alexander County</td></tr><tr><td>Bollinger County</td></tr><tr><td>Hudson County</td></tr><tr><td>Charlton County</td></tr><tr><td>Chemung County</td></tr><tr><td>Starke County</td></tr><tr><td>Cherokee County</td></tr><tr><td>Lane County</td></tr><tr><td>Tom Green County</td></tr><tr><td>Salt Lake County</td></tr><tr><td>Tooele County</td></tr><tr><td>Lunenburg County</td></tr><tr><td>Wythe County</td></tr><tr><td>Sweet Grass County</td></tr><tr><td>Oktibbeha County</td></tr><tr><td>Alachua County</td></tr><tr><td>Alamance County</td></tr><tr><td>Galveston County</td></tr><tr><td>Stanly County</td></tr><tr><td>Pulaski County</td></tr><tr><td>Beauregard Parish</td></tr><tr><td>Price County</td></tr><tr><td>Susquehanna County</td></tr><tr><td>Beaufort County</td></tr><tr><td>Newport News city</td></tr><tr><td>Nuckolls County</td></tr><tr><td>Clayton County</td></tr><tr><td>Judith Basin County</td></tr><tr><td>Herkimer County</td></tr><tr><td>Reynolds County</td></tr><tr><td>Fannin County</td></tr><tr><td>Houston County</td></tr><tr><td>Pepin County</td></tr><tr><td>Prairie County</td></tr><tr><td>Aguada Municipio</td></tr><tr><td>Jayuya Municipio</td></tr><tr><td>Lajas Municipio</td></tr><tr><td>Walton County</td></tr><tr><td>New Haven County</td></tr><tr><td>Queens County</td></tr><tr><td>Jay County</td></tr><tr><td>Beckham County</td></tr><tr><td>Venango County</td></tr><tr><td>Norton city</td></tr><tr><td>Kanawha County</td></tr><tr><td>Carson City</td></tr><tr><td>Huerfano County</td></tr><tr><td>Morgan County</td></tr><tr><td>Greeley County</td></tr><tr><td>Johnston County</td></tr><tr><td>Waller County</td></tr><tr><td>Campbell County</td></tr><tr><td>McDuffie County</td></tr><tr><td>Hillsdale County</td></tr><tr><td>Bibb County</td></tr><tr><td>Oregon County</td></tr><tr><td>Catron County</td></tr><tr><td>Bailey County</td></tr><tr><td>DeWitt County</td></tr><tr><td>Vinton County</td></tr><tr><td>Republic County</td></tr><tr><td>Steele County</td></tr><tr><td>Powell County</td></tr><tr><td>Roger Mills County</td></tr><tr><td>Blair County</td></tr><tr><td>Gilmer County</td></tr><tr><td>Alpine County</td></tr><tr><td>Cibola County</td></tr><tr><td>Loving County</td></tr><tr><td>Prince William County</td></tr><tr><td>Mille Lacs County</td></tr><tr><td>Gu?nica Municipio</td></tr><tr><td>Guayanilla Municipio</td></tr><tr><td>Brookings County</td></tr><tr><td>Maricao Municipio</td></tr><tr><td>Haines Borough</td></tr><tr><td>Foster County</td></tr><tr><td>Haskell County</td></tr><tr><td>Spencer County</td></tr><tr><td>Sheridan County</td></tr><tr><td>Walker County</td></tr><tr><td>Sequoyah County</td></tr><tr><td>White County</td></tr><tr><td>Leelanau County</td></tr><tr><td>Petersburg Census Area</td></tr><tr><td>Chicot County</td></tr><tr><td>Dent County</td></tr><tr><td>Colorado County</td></tr><tr><td>Putnam County</td></tr><tr><td>Pottawatomie County</td></tr><tr><td>Jim Hogg County</td></tr><tr><td>Boyd County</td></tr><tr><td>Towns County</td></tr><tr><td>Upson County</td></tr><tr><td>Niagara County</td></tr><tr><td>Burnet County</td></tr><tr><td>Steuben County</td></tr><tr><td>Durham County</td></tr><tr><td>Clinton County</td></tr><tr><td>Trinity County</td></tr><tr><td>Effingham County</td></tr><tr><td>Irwin County</td></tr><tr><td>Dorchester County</td></tr><tr><td>Franklin city</td></tr><tr><td>Jerome County</td></tr><tr><td>Teller County</td></tr><tr><td>Hoonah-Angoon Census Area</td></tr><tr><td>Huntington County</td></tr><tr><td>Jefferson County</td></tr><tr><td>Davidson County</td></tr><tr><td>Arlington County</td></tr><tr><td>Shiawassee County</td></tr><tr><td>Maury County</td></tr><tr><td>Walworth County</td></tr><tr><td>Catahoula Parish</td></tr><tr><td>Twin Falls County</td></tr><tr><td>Gogebic County</td></tr><tr><td>Brantley County</td></tr><tr><td>Cayuga County</td></tr><tr><td>Wake County</td></tr><tr><td>Hudspeth County</td></tr><tr><td>Clatsop County</td></tr><tr><td>Le Sueur County</td></tr><tr><td>Lafayette Parish</td></tr><tr><td>Wyoming County</td></tr><tr><td>Morrison County</td></tr><tr><td>Swift County</td></tr><tr><td>Calvert County</td></tr><tr><td>Thayer County</td></tr><tr><td>Autauga County</td></tr><tr><td>Franklin County</td></tr><tr><td>Hancock County</td></tr><tr><td>Wilbarger County</td></tr><tr><td>Christian County</td></tr><tr><td>Josephine County</td></tr><tr><td>Bell County</td></tr><tr><td>Macoupin County</td></tr><tr><td>Platte County</td></tr><tr><td>Sharkey County</td></tr><tr><td>Walthall County</td></tr><tr><td>Ziebach County</td></tr><tr><td>Kodiak Island Borough</td></tr><tr><td>Brewster County</td></tr><tr><td>Oklahoma County</td></tr><tr><td>Windsor County</td></tr><tr><td>Prince Edward County</td></tr><tr><td>Outagamie County</td></tr><tr><td>Calcasieu Parish</td></tr><tr><td>Pondera County</td></tr><tr><td>Hampshire County</td></tr><tr><td>Dillingham Census Area</td></tr><tr><td>Coconino County</td></tr><tr><td>Bleckley County</td></tr><tr><td>Catoosa County</td></tr><tr><td>Ste. Genevieve County</td></tr><tr><td>Hall County</td></tr><tr><td>Hemphill County</td></tr><tr><td>Nelson County</td></tr><tr><td>Breathitt County</td></tr><tr><td>St. Martin Parish</td></tr><tr><td>Snyder County</td></tr><tr><td>Covington city</td></tr><tr><td>Arecibo Municipio</td></tr><tr><td>Covington County</td></tr><tr><td>Faulk County</td></tr><tr><td>Moca Municipio</td></tr><tr><td>Baldwin County</td></tr><tr><td>Terrell County</td></tr><tr><td>Alleghany County</td></tr><tr><td>Augusta County</td></tr><tr><td>Hubbard County</td></tr><tr><td>Barnwell County</td></tr><tr><td>Lynchburg city</td></tr><tr><td>Clallam County</td></tr><tr><td>Screven County</td></tr><tr><td>Leflore County</td></tr><tr><td>Costilla County</td></tr><tr><td>Pamlico County</td></tr><tr><td>Guernsey County</td></tr><tr><td>Kenton County</td></tr><tr><td>Sanders County</td></tr><tr><td>Davison County</td></tr><tr><td>Bonneville County</td></tr><tr><td>Contra Costa County</td></tr><tr><td>Kane County</td></tr><tr><td>San Juan County</td></tr><tr><td>Elliott County</td></tr><tr><td>Addison County</td></tr><tr><td>Atoka County</td></tr><tr><td>Callaway County</td></tr><tr><td>Andrew County</td></tr><tr><td>Prowers County</td></tr><tr><td>Chattahoochee County</td></tr><tr><td>Onondaga County</td></tr><tr><td>Bowie County</td></tr><tr><td>Tipton County</td></tr><tr><td>Meigs County</td></tr><tr><td>Stanton County</td></tr><tr><td>Oliver County</td></tr><tr><td>Columbiana County</td></tr><tr><td>Carbon County</td></tr><tr><td>Carolina Municipio</td></tr><tr><td>Gibson County</td></tr><tr><td>District of Columbia</td></tr><tr><td>Milam County</td></tr><tr><td>San Patricio County</td></tr><tr><td>Albany County</td></tr><tr><td>Long County</td></tr><tr><td>Sublette County</td></tr><tr><td>Flathead County</td></tr><tr><td>Lamb County</td></tr><tr><td>Breckinridge County</td></tr><tr><td>Stearns County</td></tr><tr><td>Gooding County</td></tr><tr><td>Shannon County</td></tr><tr><td>Chaffee County</td></tr><tr><td>Dallas County</td></tr><tr><td>Vermillion County</td></tr><tr><td>Terrebonne Parish</td></tr><tr><td>Orocovis Municipio</td></tr><tr><td>Broadwater County</td></tr><tr><td>Lea County</td></tr><tr><td>Henderson County</td></tr><tr><td>Marshall County</td></tr><tr><td>Ida County</td></tr><tr><td>Stephens County</td></tr><tr><td>Harney County</td></tr><tr><td>Stevens County</td></tr><tr><td>Faribault County</td></tr><tr><td>East Carroll Parish</td></tr><tr><td>Bamberg County</td></tr><tr><td>Cabo Rojo Municipio</td></tr><tr><td>Poquoson city</td></tr><tr><td>Hawaii County</td></tr><tr><td>Codington County</td></tr><tr><td>Emanuel County</td></tr><tr><td>Warrick County</td></tr><tr><td>Harper County</td></tr><tr><td>Adair County</td></tr><tr><td>Ontonagon County</td></tr><tr><td>East Feliciana Parish</td></tr><tr><td>Hardy County</td></tr><tr><td>Barry County</td></tr><tr><td>Amador County</td></tr><tr><td>Colquitt County</td></tr><tr><td>Poinsett County</td></tr><tr><td>Kosciusko County</td></tr><tr><td>Divide County</td></tr><tr><td>Stark County</td></tr><tr><td>Fairfield County</td></tr><tr><td>Orleans County</td></tr><tr><td>Hawkins County</td></tr><tr><td>Horry County</td></tr><tr><td>Ciales Municipio</td></tr><tr><td>Yankton County</td></tr><tr><td>Burlington County</td></tr><tr><td>Sandoval County</td></tr><tr><td>Comal County</td></tr><tr><td>Pocahontas County</td></tr><tr><td>Sutton County</td></tr><tr><td>Neosho County</td></tr><tr><td>Metcalfe County</td></tr><tr><td>Assumption Parish</td></tr><tr><td>Knott County</td></tr><tr><td>Rappahannock County</td></tr><tr><td>Richmond city</td></tr><tr><td>Gregory County</td></tr><tr><td>Toa Alta Municipio</td></tr><tr><td>Wetzel County</td></tr><tr><td>Dixie County</td></tr><tr><td>Skagway Municipality</td></tr><tr><td>New York County</td></tr><tr><td>Granville County</td></tr><tr><td>Polk County</td></tr><tr><td>Navarro County</td></tr><tr><td>Sargent County</td></tr><tr><td>Wood County</td></tr><tr><td>Calloway County</td></tr><tr><td>Monmouth County</td></tr><tr><td>Pickens County</td></tr><tr><td>Manassas Park city</td></tr><tr><td>Quebradillas Municipio</td></tr><tr><td>Coles County</td></tr><tr><td>Cochise County</td></tr><tr><td>Cerro Gordo County</td></tr><tr><td>Goliad County</td></tr><tr><td>Gillespie County</td></tr><tr><td>Rice County</td></tr><tr><td>Beaver County</td></tr><tr><td>Larue County</td></tr><tr><td>Dauphin County</td></tr><tr><td>Powder River County</td></tr><tr><td>Mariposa County</td></tr><tr><td>San Miguel County</td></tr><tr><td>Banks County</td></tr><tr><td>Evans County</td></tr><tr><td>Westchester County</td></tr><tr><td>Quay County</td></tr><tr><td>Archer County</td></tr><tr><td>Coke County</td></tr><tr><td>Ellsworth County</td></tr><tr><td>Trego County</td></tr><tr><td>Wallace County</td></tr><tr><td>Burt County</td></tr><tr><td>Adjuntas Municipio</td></tr><tr><td>Whitfield County</td></tr><tr><td>Bennett County</td></tr><tr><td>Charles Mix County</td></tr><tr><td>Itawamba County</td></tr><tr><td>Doddridge County</td></tr><tr><td>Greenbrier County</td></tr><tr><td>Washoe County</td></tr><tr><td>Grant County</td></tr><tr><td>Rooks County</td></tr><tr><td>Terry County</td></tr><tr><td>Leslie County</td></tr><tr><td>De Witt County</td></tr><tr><td>Peoria County</td></tr><tr><td>Marathon County</td></tr><tr><td>Menominee County</td></tr><tr><td>Iberville Parish</td></tr><tr><td>Ravalli County</td></tr><tr><td>Yellowstone County</td></tr><tr><td>Banner County</td></tr><tr><td>Kearney County</td></tr><tr><td>Caribou County</td></tr><tr><td>Payette County</td></tr><tr><td>Nevada County</td></tr><tr><td>Gilchrist County</td></tr><tr><td>Highlands County</td></tr><tr><td>Pettis County</td></tr><tr><td>Do?a Ana County</td></tr><tr><td>Logan County</td></tr><tr><td>Hansford County</td></tr><tr><td>Pottawattamie County</td></tr><tr><td>Clearfield County</td></tr><tr><td>Oneida County</td></tr><tr><td>Claiborne Parish</td></tr><tr><td>Kittson County</td></tr><tr><td>Pointe Coupee Parish</td></tr><tr><td>Redwood County</td></tr><tr><td>Providence County</td></tr><tr><td>Neshoba County</td></tr><tr><td>Blount County</td></tr><tr><td>Eau Claire County</td></tr><tr><td>Sarasota County</td></tr><tr><td>Cobb County</td></tr><tr><td>Mora County</td></tr><tr><td>Appanoose County</td></tr><tr><td>Panola County</td></tr><tr><td>Liberty County</td></tr><tr><td>Okfuskee County</td></tr><tr><td>Kennebec County</td></tr><tr><td>Ware County</td></tr><tr><td>Monterey County</td></tr><tr><td>Ellis County</td></tr><tr><td>Henry County</td></tr><tr><td>Tillamook County</td></tr><tr><td>Corozal Municipio</td></tr><tr><td>Vega Baja Municipio</td></tr><tr><td>Yalobusha County</td></tr><tr><td>Dickson County</td></tr><tr><td>Fond du Lac County</td></tr><tr><td>Collin County</td></tr><tr><td>Allen County</td></tr><tr><td>McCulloch County</td></tr><tr><td>Mason County</td></tr><tr><td>Alfalfa County</td></tr><tr><td>Big Stone County</td></tr><tr><td>St. Landry Parish</td></tr><tr><td>Watonwan County</td></tr><tr><td>Tift County</td></tr><tr><td>Williamsburg County</td></tr><tr><td>Gem County</td></tr><tr><td>Storey County</td></tr><tr><td>Tallapoosa County</td></tr><tr><td>Glacier County</td></tr><tr><td>Hood County</td></tr><tr><td>Forest County</td></tr><tr><td>Ouachita Parish</td></tr><tr><td>Fall River County</td></tr><tr><td>Bledsoe County</td></tr><tr><td>Atlantic County</td></tr><tr><td>Bent County</td></tr><tr><td>Searcy County</td></tr><tr><td>McIntosh County</td></tr><tr><td>Noble County</td></tr><tr><td>Camden County</td></tr><tr><td>Newaygo County</td></tr><tr><td>Radford city</td></tr><tr><td>Santa Isabel Municipio</td></tr><tr><td>Door County</td></tr><tr><td>Anchorage Municipality</td></tr><tr><td>Real County</td></tr><tr><td>Lancaster County</td></tr><tr><td>Aibonito Municipio</td></tr><tr><td>Dunn County</td></tr><tr><td>Bullock County</td></tr><tr><td>Dougherty County</td></tr><tr><td>San Mateo County</td></tr><tr><td>Carson County</td></tr><tr><td>Potter County</td></tr><tr><td>Toombs County</td></tr><tr><td>Noxubee County</td></tr><tr><td>Little River County</td></tr><tr><td>St. Francis County</td></tr><tr><td>Taney County</td></tr><tr><td>Sangamon County</td></tr><tr><td>Mercer County</td></tr><tr><td>Mower County</td></tr><tr><td>Bedford city</td></tr><tr><td>Hooker County</td></tr><tr><td>St. Lucie County</td></tr><tr><td>Dooly County</td></tr><tr><td>Clear Creek County</td></tr><tr><td>Elkhart County</td></tr><tr><td>Gates County</td></tr><tr><td>Scott County</td></tr><tr><td>Maverick County</td></tr><tr><td>Kingfisher County</td></tr><tr><td>Boyle County</td></tr><tr><td>Frontier County</td></tr><tr><td>Skagit County</td></tr><tr><td>Pe?uelas Municipio</td></tr><tr><td>Moody County</td></tr><tr><td>Geneva County</td></tr><tr><td>Wakulla County</td></tr><tr><td>Siskiyou County</td></tr><tr><td>Torrance County</td></tr><tr><td>Glasscock County</td></tr><tr><td>Sioux County</td></tr><tr><td>Rich County</td></tr><tr><td>McMinn County</td></tr><tr><td>Sarpy County</td></tr><tr><td>Wirt County</td></tr><tr><td>Gregg County</td></tr><tr><td>Pawnee County</td></tr><tr><td>Kewaunee County</td></tr><tr><td>Waukesha County</td></tr><tr><td>Can?vanas Municipio</td></tr><tr><td>Hyde County</td></tr><tr><td>Barbour County</td></tr><tr><td>Salinas Municipio</td></tr><tr><td>Bremer County</td></tr><tr><td>Ross County</td></tr><tr><td>Harvey County</td></tr><tr><td>Glynn County</td></tr><tr><td>Taliaferro County</td></tr><tr><td>Prentiss County</td></tr><tr><td>Rankin County</td></tr><tr><td>Eureka County</td></tr><tr><td>Yavapai County</td></tr><tr><td>Daniels County</td></tr><tr><td>Taylor County</td></tr><tr><td>Trigg County</td></tr><tr><td>Clearwater County</td></tr><tr><td>Grainger County</td></tr><tr><td>Piatt County</td></tr><tr><td>Aiken County</td></tr><tr><td>Placer County</td></tr><tr><td>Fairbanks North Star Borough</td></tr><tr><td>Tolland County</td></tr><tr><td>Faulkner County</td></tr><tr><td>St. Francois County</td></tr><tr><td>Hoke County</td></tr><tr><td>Lavaca County</td></tr><tr><td>Graham County</td></tr><tr><td>Stafford County</td></tr><tr><td>Nicollet County</td></tr><tr><td>Walla Walla County</td></tr><tr><td>Saunders County</td></tr><tr><td>Pershing County</td></tr><tr><td>New Madrid County</td></tr><tr><td>Harnett County</td></tr><tr><td>Lenoir County</td></tr><tr><td>Washington County</td></tr><tr><td>Rutherford County</td></tr><tr><td>Lawrence County</td></tr><tr><td>Smith County</td></tr><tr><td>Titus County</td></tr><tr><td>Emery County</td></tr><tr><td>McKean County</td></tr><tr><td>Salem city</td></tr><tr><td>Cassia County</td></tr><tr><td>Cape Girardeau County</td></tr><tr><td>Keweenaw County</td></tr><tr><td>St. Charles County</td></tr><tr><td>Fergus County</td></tr><tr><td>Jasper County</td></tr><tr><td>Louisa County</td></tr><tr><td>Barnes County</td></tr><tr><td>McMullen County</td></tr><tr><td>La Crosse County</td></tr><tr><td>Cameron Parish</td></tr><tr><td>Falls Church city</td></tr><tr><td>Kimball County</td></tr><tr><td>Okanogan County</td></tr><tr><td>Kern County</td></tr><tr><td>Chambers County</td></tr><tr><td>Ashe County</td></tr><tr><td>Bartholomew County</td></tr><tr><td>Austin County</td></tr><tr><td>Fort Bend County</td></tr><tr><td>Nemaha County</td></tr><tr><td>Leavenworth County</td></tr><tr><td>Estill County</td></tr><tr><td>Evangeline Parish</td></tr><tr><td>Red River Parish</td></tr><tr><td>Comer?o Municipio</td></tr><tr><td>Bond County</td></tr><tr><td>Baca County</td></tr><tr><td>Montgomery County</td></tr><tr><td>Story County</td></tr><tr><td>Van Wert County</td></tr><tr><td>Pine County</td></tr><tr><td>Cuming County</td></tr><tr><td>Gurabo Municipio</td></tr><tr><td>Alcona County</td></tr><tr><td>Sonoma County</td></tr><tr><td>Griggs County</td></tr><tr><td>Preble County</td></tr><tr><td>Hidalgo County</td></tr><tr><td>Aitkin County</td></tr><tr><td>Racine County</td></tr><tr><td>Dickens County</td></tr><tr><td>Tuscarawas County</td></tr><tr><td>Ashtabula County</td></tr><tr><td>Lewis County</td></tr><tr><td>Multnomah County</td></tr><tr><td>Bedford County</td></tr><tr><td>St. Croix County</td></tr><tr><td>Suffolk city</td></tr><tr><td>Nance County</td></tr><tr><td>Toa Baja Municipio</td></tr><tr><td>Duval County</td></tr><tr><td>Gaines County</td></tr><tr><td>Hickman County</td></tr><tr><td>Woods County</td></tr><tr><td>Carlton County</td></tr><tr><td>Gwinnett County</td></tr><tr><td>Lake of the Woods County</td></tr><tr><td>Vermilion Parish</td></tr><tr><td>Coamo Municipio</td></tr><tr><td>Culebra Municipio</td></tr><tr><td>Kauai County</td></tr><tr><td>Scotts Bluff County</td></tr><tr><td>Ritchie County</td></tr><tr><td>Santa Fe County</td></tr><tr><td>Walsh County</td></tr><tr><td>Greenwood County</td></tr><tr><td>Giles County</td></tr><tr><td>Shenandoah County</td></tr><tr><td>Pennington County</td></tr><tr><td>Yakima County</td></tr><tr><td>San Lorenzo Municipio</td></tr><tr><td>Berrien County</td></tr><tr><td>Glenn County</td></tr><tr><td>Aleutians West Census Area</td></tr><tr><td>Montrose County</td></tr><tr><td>Atkinson County</td></tr><tr><td>Chariton County</td></tr><tr><td>Warren County</td></tr><tr><td>Schleicher County</td></tr><tr><td>Chippewa County</td></tr><tr><td>De Soto Parish</td></tr><tr><td>Jefferson Parish</td></tr><tr><td>Tangipahoa Parish</td></tr><tr><td>Missoula County</td></tr><tr><td>Aurora County</td></tr><tr><td>Tunica County</td></tr><tr><td>Sanborn County</td></tr><tr><td>Hinsdale County</td></tr><tr><td>Apache County</td></tr><tr><td>Delta County</td></tr><tr><td>Stokes County</td></tr><tr><td>Dinwiddie County</td></tr><tr><td>Wyandot County</td></tr><tr><td>Guaynabo Municipio</td></tr><tr><td>Passaic County</td></tr><tr><td>Ouray County</td></tr><tr><td>Collier County</td></tr><tr><td>Conejos County</td></tr><tr><td>Mahoning County</td></tr><tr><td>Coffey County</td></tr><tr><td>Comanche County</td></tr><tr><td>Haywood County</td></tr><tr><td>Big Horn County</td></tr><tr><td>Allendale County</td></tr><tr><td>McCormick County</td></tr><tr><td>Lexington County</td></tr><tr><td>Alcorn County</td></tr><tr><td>Jennings County</td></tr><tr><td>New Hanover County</td></tr><tr><td>Benson County</td></tr><tr><td>Cottle County</td></tr><tr><td>Oldham County</td></tr><tr><td>Reagan County</td></tr><tr><td>San Saba County</td></tr><tr><td>Jim Wells County</td></tr><tr><td>Zavala County</td></tr><tr><td>Rutland County</td></tr><tr><td>Carver County</td></tr><tr><td>Clarion County</td></tr><tr><td>Sheboygan County</td></tr><tr><td>Darlington County</td></tr><tr><td>Allegany County</td></tr><tr><td>Stone County</td></tr><tr><td>Pitkin County</td></tr><tr><td>Grimes County</td></tr><tr><td>Culberson County</td></tr><tr><td>Anoka County</td></tr><tr><td>McNairy County</td></tr><tr><td>Toole County</td></tr><tr><td>Flagler County</td></tr><tr><td>Pitt County</td></tr><tr><td>Licking County</td></tr><tr><td>Rawlins County</td></tr><tr><td>Wharton County</td></tr><tr><td>Allen Parish</td></tr><tr><td>Crow Wing County</td></tr><tr><td>Jersey County</td></tr><tr><td>Stanley County</td></tr><tr><td>Coosa County</td></tr><tr><td>Le Flore County</td></tr><tr><td>Edmunds County</td></tr><tr><td>Vieques Municipio</td></tr><tr><td>Kootenai County</td></tr><tr><td>Cheboygan County</td></tr><tr><td>Ector County</td></tr><tr><td>Orange County</td></tr><tr><td>Cabarrus County</td></tr><tr><td>Fulton County</td></tr><tr><td>Kerr County</td></tr><tr><td>Victoria County</td></tr><tr><td>York County</td></tr><tr><td>Treasure County</td></tr><tr><td>Maunabo Municipio</td></tr><tr><td>Ingham County</td></tr><tr><td>Bergen County</td></tr><tr><td>Etowah County</td></tr><tr><td>Pinellas County</td></tr><tr><td>Valdez-Cordova Census Area</td></tr><tr><td>Callahan County</td></tr><tr><td>Fisher County</td></tr><tr><td>Seneca County</td></tr><tr><td>Sanpete County</td></tr><tr><td>Washtenaw County</td></tr><tr><td>Oconee County</td></tr><tr><td>Baraga County</td></tr><tr><td>Kit Carson County</td></tr><tr><td>Okeechobee County</td></tr><tr><td>San Luis Obispo County</td></tr><tr><td>Ozark County</td></tr><tr><td>Keokuk County</td></tr><tr><td>Plymouth County</td></tr><tr><td>Sabine County</td></tr><tr><td>Chase County</td></tr><tr><td>Buchanan County</td></tr><tr><td>Juniata County</td></tr><tr><td>Vigo County</td></tr><tr><td>Jewell County</td></tr><tr><td>Texas County</td></tr><tr><td>Caddo County</td></tr><tr><td>Meagher County</td></tr><tr><td>Wibaux County</td></tr><tr><td>Bradley County</td></tr><tr><td>Mobile County</td></tr><tr><td>Mitchell County</td></tr><tr><td>Sandusky County</td></tr><tr><td>Lincoln County</td></tr><tr><td>Cache County</td></tr><tr><td>Prince George County</td></tr><tr><td>Lander County</td></tr><tr><td>Socorro County</td></tr><tr><td>Tama County</td></tr><tr><td>Belmont County</td></tr><tr><td>Irion County</td></tr><tr><td>Murray County</td></tr><tr><td>Greenup County</td></tr><tr><td>Crook County</td></tr><tr><td>Lamoille County</td></tr><tr><td>Boone County</td></tr><tr><td>Smyth County</td></tr><tr><td>Arroyo Municipio</td></tr><tr><td>Kalamazoo County</td></tr><tr><td>El Dorado County</td></tr><tr><td>Brooks County</td></tr><tr><td>McDonald County</td></tr><tr><td>Shelby County</td></tr><tr><td>Throckmorton County</td></tr><tr><td>King and Queen County</td></tr><tr><td>Tuolumne County</td></tr><tr><td>Saratoga County</td></tr><tr><td>Aransas County</td></tr><tr><td>Buena Vista County</td></tr><tr><td>Gonzales County</td></tr><tr><td>Stutsman County</td></tr><tr><td>Trimble County</td></tr><tr><td>Tattnall County</td></tr><tr><td>Androscoggin County</td></tr><tr><td>Houghton County</td></tr><tr><td>Bayfield County</td></tr><tr><td>Citrus County</td></tr><tr><td>Cattaraugus County</td></tr><tr><td>Coleman County</td></tr><tr><td>Livingston County</td></tr><tr><td>Montour County</td></tr><tr><td>George County</td></tr><tr><td>Palm Beach County</td></tr><tr><td>LaGrange County</td></tr><tr><td>Whiteside County</td></tr><tr><td>Forsyth County</td></tr><tr><td>Morris County</td></tr><tr><td>Barren County</td></tr><tr><td>Petersburg city</td></tr><tr><td>Ferry County</td></tr><tr><td>Summers County</td></tr><tr><td>Escambia County</td></tr><tr><td>Howard County</td></tr><tr><td>Yamhill County</td></tr><tr><td>Winchester city</td></tr><tr><td>Dale County</td></tr><tr><td>Coryell County</td></tr><tr><td>Erath County</td></tr><tr><td>Marion County</td></tr><tr><td>Richland County</td></tr><tr><td>Morton County</td></tr><tr><td>Lipscomb County</td></tr><tr><td>Payne County</td></tr><tr><td>Lowndes County</td></tr><tr><td>Baltimore County</td></tr><tr><td>Imperial County</td></tr><tr><td>San Francisco County</td></tr><tr><td>Dawson County</td></tr><tr><td>Guthrie County</td></tr><tr><td>Sullivan County</td></tr><tr><td>Karnes County</td></tr><tr><td>Daggett County</td></tr><tr><td>Cecil County</td></tr><tr><td>Yellow Medicine County</td></tr><tr><td>Power County</td></tr><tr><td>Gilpin County</td></tr><tr><td>Anson County</td></tr><tr><td>Pemiscot County</td></tr><tr><td>Stephenson County</td></tr><tr><td>Guilford County</td></tr><tr><td>Burleson County</td></tr><tr><td>Caldwell County</td></tr><tr><td>Morrow County</td></tr><tr><td>Geauga County</td></tr><tr><td>Carlisle County</td></tr><tr><td>Greensville County</td></tr><tr><td>Roosevelt County</td></tr><tr><td>Cidra Municipio</td></tr><tr><td>Tishomingo County</td></tr><tr><td>Southeast Fairbanks Census Area</td></tr><tr><td>Bertie County</td></tr><tr><td>Ray County</td></tr><tr><td>Winnebago County</td></tr><tr><td>Pasquotank County</td></tr><tr><td>Defiance County</td></tr><tr><td>Sabine Parish</td></tr><tr><td>Park County</td></tr><tr><td>Cherry County</td></tr><tr><td>Gage County</td></tr><tr><td>Churchill County</td></tr><tr><td>Calaveras County</td></tr><tr><td>Shasta County</td></tr><tr><td>Woodruff County</td></tr><tr><td>Cascade County</td></tr><tr><td>Appling County</td></tr><tr><td>Monona County</td></tr><tr><td>Ogemaw County</td></tr><tr><td>Humacao Municipio</td></tr><tr><td>Inyo County</td></tr><tr><td>Aleutians East Borough</td></tr><tr><td>Stoddard County</td></tr><tr><td>Cortland County</td></tr><tr><td>Bennington County</td></tr><tr><td>Northumberland County</td></tr><tr><td>Tazewell County</td></tr><tr><td>Kalawao County</td></tr><tr><td>Winona County</td></tr><tr><td>Alameda County</td></tr><tr><td>Los Angeles County</td></tr><tr><td>Okaloosa County</td></tr><tr><td>Arapahoe County</td></tr><tr><td>Hale County</td></tr><tr><td>Wichita County</td></tr><tr><td>Harlan County</td></tr><tr><td>Presque Isle County</td></tr><tr><td>Laurens County</td></tr><tr><td>Norman County</td></tr><tr><td>Sully County</td></tr><tr><td>Mendocino County</td></tr><tr><td>Andrews County</td></tr><tr><td>Rockingham County</td></tr><tr><td>Daviess County</td></tr><tr><td>Oceana County</td></tr><tr><td>Sawyer County</td></tr><tr><td>Cabell County</td></tr><tr><td>Elmore County</td></tr><tr><td>Iredell County</td></tr><tr><td>Linn County</td></tr><tr><td>Union County</td></tr><tr><td>Yancey County</td></tr><tr><td>Posey County</td></tr><tr><td>Somervell County</td></tr><tr><td>Butler County</td></tr><tr><td>Hill County</td></tr><tr><td>Tillman County</td></tr><tr><td>Waushara County</td></tr><tr><td>DeSoto County</td></tr><tr><td>Yukon-Koyukuk Census Area</td></tr><tr><td>Craighead County</td></tr><tr><td>Rockland County</td></tr><tr><td>Hickory County</td></tr><tr><td>Pike County</td></tr><tr><td>Nacogdoches County</td></tr><tr><td>Tulsa County</td></tr><tr><td>Kandiyohi County</td></tr><tr><td>McLeod County</td></tr><tr><td>Attala County</td></tr><tr><td>McCook County</td></tr><tr><td>Tallahatchie County</td></tr><tr><td>Manatee County</td></tr><tr><td>Barrow County</td></tr><tr><td>Onslow County</td></tr><tr><td>Woodbury County</td></tr><tr><td>Limestone County</td></tr><tr><td>Clarke County</td></tr><tr><td>Bradford County</td></tr><tr><td>Colleton County</td></tr><tr><td>Lexington city</td></tr><tr><td>Suffolk County</td></tr><tr><td>Edwards County</td></tr><tr><td>Columbus County</td></tr><tr><td>Fauquier County</td></tr><tr><td>Columbia County</td></tr><tr><td>Trempealeau County</td></tr><tr><td>Box Butte County</td></tr><tr><td>Bonner County</td></tr><tr><td>Saguache County</td></tr><tr><td>Garland County</td></tr><tr><td>Salem County</td></tr><tr><td>O'Brien County</td></tr><tr><td>Rolette County</td></tr><tr><td>Lubbock County</td></tr><tr><td>Valley County</td></tr><tr><td>Merrimack County</td></tr><tr><td>Glades County</td></tr><tr><td>Desha County</td></tr><tr><td>Monroe County</td></tr><tr><td>Wabash County</td></tr><tr><td>Latimer County</td></tr><tr><td>Wheeler County</td></tr><tr><td>Natrona County</td></tr><tr><td>Lac qui Parle County</td></tr><tr><td>Camuy Municipio</td></tr><tr><td>Fallon County</td></tr><tr><td>Hartley County</td></tr><tr><td>Lyon County</td></tr><tr><td>Brown County</td></tr><tr><td>Pontotoc County</td></tr><tr><td>Aroostook County</td></tr><tr><td>Yauco Municipio</td></tr><tr><td>Calumet County</td></tr><tr><td>Plumas County</td></tr><tr><td>Burke County</td></tr><tr><td>Pecos County</td></tr><tr><td>Lynn County</td></tr><tr><td>Tyler County</td></tr><tr><td>Cambria County</td></tr><tr><td>Wilkin County</td></tr><tr><td>Georgetown County</td></tr><tr><td>Las Mar?as Municipio</td></tr><tr><td>Hand County</td></tr><tr><td>Early County</td></tr><tr><td>Medina County</td></tr><tr><td>Pierce County</td></tr><tr><td>Duchesne County</td></tr><tr><td>Ascension Parish</td></tr><tr><td>Thomas County</td></tr><tr><td>Cameron County</td></tr><tr><td>Weston County</td></tr><tr><td>Chelan County</td></tr><tr><td>Chickasaw County</td></tr><tr><td>Hitchcock County</td></tr><tr><td>Pleasants County</td></tr><tr><td>Palo Pinto County</td></tr><tr><td>Dewey County</td></tr><tr><td>Isle of Wight County</td></tr><tr><td>Pipestone County</td></tr><tr><td>Bristol city</td></tr><tr><td>Belknap County</td></tr><tr><td>Gadsden County</td></tr><tr><td>Dutchess County</td></tr><tr><td>Castro County</td></tr><tr><td>Kossuth County</td></tr><tr><td>King County</td></tr><tr><td>Pendleton County</td></tr><tr><td>Essex County</td></tr><tr><td>Blue Earth County</td></tr><tr><td>Goshen County</td></tr><tr><td>Boise County</td></tr><tr><td>Antrim County</td></tr><tr><td>Grafton County</td></tr><tr><td>Ventura County</td></tr><tr><td>Wilson County</td></tr><tr><td>St. Joseph County</td></tr><tr><td>Norton County</td></tr><tr><td>Worth County</td></tr><tr><td>Hutchinson County</td></tr><tr><td>Elk County</td></tr><tr><td>Isanti County</td></tr><tr><td>Ceiba Municipio</td></tr><tr><td>Island County</td></tr><tr><td>Clare County</td></tr><tr><td>Volusia County</td></tr><tr><td>Delaware County</td></tr><tr><td>Davie County</td></tr><tr><td>Sterling County</td></tr><tr><td>Van Zandt County</td></tr><tr><td>Wolfe County</td></tr><tr><td>St. Mary Parish</td></tr><tr><td>Petroleum County</td></tr><tr><td>Mecosta County</td></tr><tr><td>Baylor County</td></tr><tr><td>Johnson County</td></tr><tr><td>Emmet County</td></tr><tr><td>Chowan County</td></tr><tr><td>Trumbull County</td></tr><tr><td>Hocking County</td></tr><tr><td>Wasco County</td></tr><tr><td>Becker County</td></tr><tr><td>St. John the Baptist Parish</td></tr><tr><td>San Joaquin County</td></tr><tr><td>Wayne County</td></tr><tr><td>Scioto County</td></tr><tr><td>Pittsburg County</td></tr><tr><td>Massac County</td></tr><tr><td>Goodhue County</td></tr><tr><td>Colbert County</td></tr><tr><td>San Diego County</td></tr><tr><td>Dare County</td></tr><tr><td>Millard County</td></tr><tr><td>Okmulgee County</td></tr><tr><td>Clarendon County</td></tr><tr><td>Isabela Municipio</td></tr><tr><td>Lares Municipio</td></tr><tr><td>Hampden County</td></tr><tr><td>Loup County</td></tr><tr><td>Day County</td></tr><tr><td>San Benito County</td></tr><tr><td>McKinley County</td></tr><tr><td>Ringgold County</td></tr><tr><td>Dubuque County</td></tr><tr><td>Sampson County</td></tr><tr><td>McCracken County</td></tr><tr><td>Avoyelles Parish</td></tr><tr><td>Colonial Heights city</td></tr><tr><td>Canyon County</td></tr><tr><td>Santa Cruz County</td></tr><tr><td>Beaverhead County</td></tr><tr><td>Muscatine County</td></tr><tr><td>Martin County</td></tr><tr><td>Coshocton County</td></tr><tr><td>Cloud County</td></tr><tr><td>Gove County</td></tr><tr><td>Greer County</td></tr><tr><td>Florida Municipio</td></tr><tr><td>Skamania County</td></tr><tr><td>Isabella County</td></tr><tr><td>Hartford County</td></tr><tr><td>Howell County</td></tr><tr><td>Bowman County</td></tr><tr><td>Rockcastle County</td></tr><tr><td>Gallatin County</td></tr><tr><td>Roseau County</td></tr><tr><td>Fredericksburg city</td></tr><tr><td>Bingham County</td></tr><tr><td>Copiah County</td></tr><tr><td>Grays Harbor County</td></tr><tr><td>Minnehaha County</td></tr><tr><td>Napa County</td></tr><tr><td>Bristol Bay Borough</td></tr><tr><td>Weld County</td></tr><tr><td>Candler County</td></tr><tr><td>Denton County</td></tr><tr><td>Uvalde County</td></tr><tr><td>Umatilla County</td></tr><tr><td>Chesterfield County</td></tr><tr><td>Saginaw County</td></tr><tr><td>Hormigueros Municipio</td></tr><tr><td>Owyhee County</td></tr><tr><td>Weakley County</td></tr><tr><td>Crosby County</td></tr><tr><td>Parke County</td></tr><tr><td>Lake County</td></tr><tr><td>Atchison County</td></tr><tr><td>Kent County</td></tr><tr><td>Hughes County</td></tr><tr><td>Washita County</td></tr><tr><td>Gloucester County</td></tr><tr><td>Sierra County</td></tr><tr><td>Yuba County</td></tr><tr><td>Buncombe County</td></tr><tr><td>Dubois County</td></tr><tr><td>Dallam County</td></tr><tr><td>Jones County</td></tr><tr><td>Vance County</td></tr><tr><td>Miami County</td></tr><tr><td>Summit County</td></tr><tr><td>Ochiltree County</td></tr><tr><td>Swisher County</td></tr><tr><td>Kiowa County</td></tr><tr><td>Powhatan County</td></tr><tr><td>Emporia city</td></tr><tr><td>Buffalo County</td></tr><tr><td>Ada County</td></tr><tr><td>Fentress County</td></tr><tr><td>Tuscaloosa County</td></tr><tr><td>Bethel Census Area</td></tr><tr><td>Yakutat City and Borough</td></tr><tr><td>Baxter County</td></tr><tr><td>Person County</td></tr><tr><td>Ottawa County</td></tr><tr><td>Upshur County</td></tr><tr><td>Iron County</td></tr><tr><td>Bath County</td></tr><tr><td>Otsego County</td></tr><tr><td>Dodge County</td></tr><tr><td>Orleans Parish</td></tr><tr><td>Washakie County</td></tr><tr><td>Juana D?az Municipio</td></tr><tr><td>Honolulu County</td></tr><tr><td>Bear Lake County</td></tr><tr><td>Chattooga County</td></tr><tr><td>Hendricks County</td></tr><tr><td>Ripley County</td></tr><tr><td>Hart County</td></tr><tr><td>Oakland County</td></tr><tr><td>Chisago County</td></tr><tr><td>Berks County</td></tr><tr><td>Philadelphia County</td></tr><tr><td>Danville city</td></tr><tr><td>San Germ?n Municipio</td></tr><tr><td>Tippah County</td></tr><tr><td>Avery County</td></tr><tr><td>Riley County</td></tr><tr><td>Meade County</td></tr><tr><td>McCreary County</td></tr><tr><td>Blaine County</td></tr><tr><td>Rockdale County</td></tr><tr><td>Sumter County</td></tr><tr><td>Archuleta County</td></tr><tr><td>Gray County</td></tr><tr><td>Ward County</td></tr><tr><td>Wells County</td></tr><tr><td>Erie County</td></tr><tr><td>Pushmataha County</td></tr><tr><td>Laramie County</td></tr><tr><td>Galax city</td></tr><tr><td>West Carroll Parish</td></tr><tr><td>Coweta County</td></tr><tr><td>Dickenson County</td></tr><tr><td>Bucks County</td></tr><tr><td>Telfair County</td></tr><tr><td>Bay County</td></tr><tr><td>Carter County</td></tr><tr><td>Niobrara County</td></tr><tr><td>Muscogee County</td></tr><tr><td>Cheatham County</td></tr><tr><td>Greenlee County</td></tr><tr><td>Pinal County</td></tr><tr><td>Briscoe County</td></tr><tr><td>Muskingum County</td></tr><tr><td>Kleberg County</td></tr><tr><td>McPherson County</td></tr><tr><td>Middlesex County</td></tr><tr><td>Newberry County</td></tr><tr><td>Dixon County</td></tr><tr><td>Ontario County</td></tr><tr><td>Crane County</td></tr><tr><td>Rockwall County</td></tr><tr><td>Vernon County</td></tr><tr><td>Morovis Municipio</td></tr><tr><td>Crowley County</td></tr><tr><td>New Castle County</td></tr><tr><td>Prince of Wales-Hyder Census Area</td></tr><tr><td>Conway County</td></tr><tr><td>Tulare County</td></tr><tr><td>Audubon County</td></tr><tr><td>Mills County</td></tr><tr><td>Athens County</td></tr><tr><td>Kay County</td></tr><tr><td>Amherst County</td></tr><tr><td>Ocean County</td></tr><tr><td>Northampton County</td></tr><tr><td>Alexandria city</td></tr><tr><td>Teton County</td></tr><tr><td>A?asco Municipio</td></tr><tr><td>San Sebasti?n Municipio</td></tr><tr><td>Branch County</td></tr><tr><td>Wilkes County</td></tr><tr><td>Red River County</td></tr><tr><td>Seward County</td></tr><tr><td>Cheyenne County</td></tr><tr><td>Klamath County</td></tr><tr><td>Franklin Parish</td></tr><tr><td>Stillwater County</td></tr><tr><td>Cooke County</td></tr><tr><td>McKenzie County</td></tr><tr><td>Ohio County</td></tr><tr><td>Fairfax County</td></tr><tr><td>Malheur County</td></tr><tr><td>Hanover County</td></tr><tr><td>Ozaukee County</td></tr><tr><td>Minidoka County</td></tr><tr><td>Alger County</td></tr><tr><td>La Paz County</td></tr><tr><td>Los Alamos County</td></tr><tr><td>Porter County</td></tr><tr><td>Motley County</td></tr><tr><td>Curry County</td></tr><tr><td>Bland County</td></tr><tr><td>Coal County</td></tr><tr><td>Concordia Parish</td></tr><tr><td>Virginia Beach city</td></tr><tr><td>West Baton Rouge Parish</td></tr><tr><td>Cooper County</td></tr><tr><td>Sharp County</td></tr><tr><td>Lassen County</td></tr><tr><td>Rio Grande County</td></tr><tr><td>Matanuska-Susitna Borough</td></tr><tr><td>Independence County</td></tr><tr><td>Grand Forks County</td></tr><tr><td>Huron County</td></tr><tr><td>King William County</td></tr><tr><td>Hennepin County</td></tr><tr><td>Luna County</td></tr><tr><td>Jeff Davis County</td></tr><tr><td>Todd County</td></tr><tr><td>Loudon County</td></tr><tr><td>Oxford County</td></tr><tr><td>Hayes County</td></tr><tr><td>Sebastian County</td></tr><tr><td>Marin County</td></tr><tr><td>Elbert County</td></tr><tr><td>Dearborn County</td></tr><tr><td>Emmons County</td></tr><tr><td>Sedgwick County</td></tr><tr><td>Sevier County</td></tr><tr><td>Woodford County</td></tr><tr><td>Obion County</td></tr><tr><td>New Kent County</td></tr><tr><td>Caldwell Parish</td></tr><tr><td>St. James Parish</td></tr><tr><td>St. Mary's County</td></tr><tr><td>Eaton County</td></tr><tr><td>Tucker County</td></tr><tr><td>Yuma County</td></tr><tr><td>Poweshiek County</td></tr><tr><td>Perquimans County</td></tr><tr><td>Leon County</td></tr><tr><td>Wagoner County</td></tr><tr><td>Hood River County</td></tr><tr><td>Marinette County</td></tr><tr><td>Sauk County</td></tr><tr><td>Arthur County</td></tr><tr><td>Manat? Municipio</td></tr><tr><td>Maui County</td></tr><tr><td>Saluda County</td></tr><tr><td>Boundary County</td></tr><tr><td>Allegan County</td></tr><tr><td>Drew County</td></tr><tr><td>Dunklin County</td></tr><tr><td>Harris County</td></tr><tr><td>Anderson County</td></tr><tr><td>Darke County</td></tr><tr><td>Grand Isle County</td></tr><tr><td>Mifflin County</td></tr><tr><td>Overton County</td></tr><tr><td>Converse County</td></tr><tr><td>Wabasha County</td></tr><tr><td>Las Piedras Municipio</td></tr><tr><td>Rabun County</td></tr><tr><td>Barnstable County</td></tr><tr><td>Thurston County</td></tr><tr><td>Cocke County</td></tr><tr><td>Oswego County</td></tr><tr><td>Rio Arriba County</td></tr><tr><td>Gaston County</td></tr><tr><td>Guadalupe County</td></tr><tr><td>Barber County</td></tr><tr><td>Huntingdon County</td></tr><tr><td>Fillmore County</td></tr><tr><td>Sussex County</td></tr><tr><td>Vernon Parish</td></tr><tr><td>Penobscot County</td></tr><tr><td>Wilcox County</td></tr><tr><td>Nantucket County</td></tr><tr><td>Larimer County</td></tr><tr><td>Hardee County</td></tr><tr><td>Camp County</td></tr><tr><td>Montague County</td></tr><tr><td>Uinta County</td></tr><tr><td>Holt County</td></tr><tr><td>Idaho County</td></tr><tr><td>Indian River County</td></tr><tr><td>Randolph County</td></tr><tr><td>Towner County</td></tr><tr><td>Baker County</td></tr><tr><td>Treutlen County</td></tr><tr><td>Red Willow County</td></tr><tr><td>Blackford County</td></tr><tr><td>Webb County</td></tr><tr><td>Graves County</td></tr><tr><td>Indiana County</td></tr><tr><td>Loudoun County</td></tr><tr><td>Hampton County</td></tr><tr><td>Latah County</td></tr><tr><td>Grand Traverse County</td></tr><tr><td>Tripp County</td></tr><tr><td>Allamakee County</td></tr><tr><td>Refugio County</td></tr><tr><td>LaSalle County</td></tr><tr><td>Madison Parish</td></tr><tr><td>Kemper County</td></tr><tr><td>Butte County</td></tr><tr><td>R?o Grande Municipio</td></tr><tr><td>Charlevoix County</td></tr><tr><td>Brazoria County</td></tr><tr><td>Grayson County</td></tr><tr><td>McCurtain County</td></tr><tr><td>Green County</td></tr><tr><td>Sumner County</td></tr><tr><td>Southampton County</td></tr><tr><td>Bienville Parish</td></tr><tr><td>Natchitoches Parish</td></tr><tr><td>Asotin County</td></tr><tr><td>Deuel County</td></tr><tr><td>Sabana Grande Municipio</td></tr><tr><td>Mingo County</td></tr><tr><td>Gunnison County</td></tr><tr><td>Bastrop County</td></tr><tr><td>Stonewall County</td></tr><tr><td>Deschutes County</td></tr><tr><td>Brunswick County</td></tr><tr><td>Grady County</td></tr><tr><td>Aguadilla Municipio</td></tr><tr><td>Schuyler County</td></tr><tr><td>Paulding County</td></tr><tr><td>Ashland County</td></tr><tr><td>Llano County</td></tr><tr><td>Val Verde County</td></tr><tr><td>Appomattox County</td></tr><tr><td>Caguas Municipio</td></tr><tr><td>Guayama Municipio</td></tr><tr><td>Perkins County</td></tr><tr><td>San Juan Municipio</td></tr><tr><td>Villalba Municipio</td></tr><tr><td>Brazos County</td></tr><tr><td>Nicholas County</td></tr><tr><td>Kankakee County</td></tr><tr><td>Lincoln Parish</td></tr><tr><td>Sibley County</td></tr><tr><td>Lo?za Municipio</td></tr><tr><td>Atascosa County</td></tr><tr><td>Wapello County</td></tr><tr><td>Davis County</td></tr><tr><td>Upton County</td></tr><tr><td>Sanilac County</td></tr><tr><td>Luzerne County</td></tr><tr><td>Sequatchie County</td></tr><tr><td>Rockbridge County</td></tr><tr><td>Wadena County</td></tr><tr><td>Buena Vista city</td></tr><tr><td>Grand County</td></tr><tr><td>Harmon County</td></tr><tr><td>Lehigh County</td></tr><tr><td>Kingsbury County</td></tr><tr><td>Whitman County</td></tr><tr><td>Cannon County</td></tr><tr><td>Carteret County</td></tr><tr><td>Botetourt County</td></tr><tr><td>McDonough County</td></tr><tr><td>Lackawanna County</td></tr><tr><td>Barranquitas Municipio</td></tr><tr><td>Gila County</td></tr><tr><td>Lonoke County</td></tr><tr><td>Hamilton County</td></tr><tr><td>Robeson County</td></tr><tr><td>Currituck County</td></tr><tr><td>Roberts County</td></tr><tr><td>Marquette County</td></tr><tr><td>Milwaukee County</td></tr><tr><td>Norfolk city</td></tr><tr><td>Orangeburg County</td></tr><tr><td>Brule County</td></tr><tr><td>Furnas County</td></tr><tr><td>Nye County</td></tr><tr><td>Boulder County</td></tr><tr><td>Angelina County</td></tr><tr><td>Humphreys County</td></tr><tr><td>Langlade County</td></tr><tr><td>Schuylkill County</td></tr><tr><td>Patillas Municipio</td></tr><tr><td>Shoshone County</td></tr><tr><td>Cullman County</td></tr><tr><td>Miami-Dade County</td></tr><tr><td>Bacon County</td></tr><tr><td>Osborne County</td></tr><tr><td>Haralson County</td></tr><tr><td>Berkshire County</td></tr><tr><td>Falls County</td></tr><tr><td>Wallowa County</td></tr><tr><td>Red Lake County</td></tr><tr><td>Abbeville County</td></tr><tr><td>Wheatland County</td></tr><tr><td>Turner County</td></tr><tr><td>Gosper County</td></tr><tr><td>Pasco County</td></tr><tr><td>Yates County</td></tr><tr><td>Fountain County</td></tr><tr><td>Saline County</td></tr><tr><td>Hockley County</td></tr><tr><td>Finney County</td></tr><tr><td>Caroline County</td></tr><tr><td>Edgar County</td></tr><tr><td>Glascock County</td></tr><tr><td>Kanabec County</td></tr><tr><td>Meeker County</td></tr><tr><td>Charleston County</td></tr><tr><td>Schley County</td></tr><tr><td>Wilkinson County</td></tr><tr><td>Keith County</td></tr><tr><td>Haakon County</td></tr><tr><td>Preston County</td></tr><tr><td>Rensselaer County</td></tr><tr><td>Clark County</td></tr><tr><td>Garfield County</td></tr><tr><td>Magoffin County</td></tr><tr><td>Centre County</td></tr><tr><td>Spokane County</td></tr><tr><td>Otoe County</td></tr><tr><td>Moore County</td></tr><tr><td>Nolan County</td></tr><tr><td>Live Oak County</td></tr><tr><td>Douglas County</td></tr><tr><td>Antelope County</td></tr><tr><td>Anne Arundel County</td></tr><tr><td>Bon Homme County</td></tr><tr><td>Hernando County</td></tr><tr><td>Crockett County</td></tr><tr><td>Iowa County</td></tr><tr><td>Randall County</td></tr><tr><td>Auglaize County</td></tr><tr><td>Winkler County</td></tr><tr><td>Goochland County</td></tr><tr><td>Pope County</td></tr><tr><td>Dorado Municipio</td></tr><tr><td>Twiggs County</td></tr><tr><td>Dukes County</td></tr><tr><td>Bates County</td></tr><tr><td>Luce County</td></tr><tr><td>Cape May County</td></tr><tr><td>Izard County</td></tr><tr><td>Tompkins County</td></tr><tr><td>Eddy County</td></tr><tr><td>Bexar County</td></tr><tr><td>Tippecanoe County</td></tr><tr><td>St. Clair County</td></tr><tr><td>Cook County</td></tr><tr><td>Tioga County</td></tr><tr><td>Forrest County</td></tr><tr><td>Utuado Municipio</td></tr><tr><td>North Slope Borough</td></tr><tr><td>Skagway-Hoonah-Angoon Census Area</td></tr><tr><td>Wrangell-Petersburg Census Area</td></tr><tr><td>Dona Ana County</td></tr><tr><td>Clifton Forge city</td></tr><tr><td>Prince of Wales-Outer Ketchikan Census Area</td></tr></tbody></table></div>"
      ]
     },
     "metadata": {
      "application/vnd.databricks.v1+output": {
       "addedWidgets": {},
       "aggData": [],
       "aggError": "",
       "aggOverflow": false,
       "aggSchema": [],
       "aggSeriesLimitReached": false,
       "aggType": "",
       "arguments": {},
       "columnCustomDisplayInfos": {},
       "data": [
        [
         "Owen County"
        ],
        [
         "McLennan County"
        ],
        [
         "Williamson County"
        ],
        [
         "Yoakum County"
        ],
        [
         "Wasatch County"
        ],
        [
         "Canadian County"
        ],
        [
         "Unicoi County"
        ],
        [
         "Rock County"
        ],
        [
         "Lewis and Clark County"
        ],
        [
         "Webster County"
        ],
        [
         "Cumberland County"
        ],
        [
         "Woodward County"
        ],
        [
         "Muskegon County"
        ],
        [
         "Kingman County"
        ],
        [
         "Wexford County"
        ],
        [
         "DuPage County"
        ],
        [
         "Rosebud County"
        ],
        [
         "Cole County"
        ],
        [
         "La Plata County"
        ],
        [
         "Hempstead County"
        ],
        [
         "El Paso County"
        ],
        [
         "Robertson County"
        ],
        [
         "Dakota County"
        ],
        [
         "Sutter County"
        ],
        [
         "Montcalm County"
        ],
        [
         "Roscommon County"
        ],
        [
         "Williamsburg city"
        ],
        [
         "Garrett County"
        ],
        [
         "Will County"
        ],
        [
         "Bryan County"
        ],
        [
         "Beltrami County"
        ],
        [
         "Lycoming County"
        ],
        [
         "Rhea County"
        ],
        [
         "Habersham County"
        ],
        [
         "Yazoo County"
        ],
        [
         "Wade Hampton Census Area"
        ],
        [
         "Blanco County"
        ],
        [
         "Cochran County"
        ],
        [
         "Concho County"
        ],
        [
         "Eastland County"
        ],
        [
         "Lucas County"
        ],
        [
         "Ness County"
        ],
        [
         "Kinney County"
        ],
        [
         "Benton County"
        ],
        [
         "Wyandotte County"
        ],
        [
         "Woodson County"
        ],
        [
         "Garvin County"
        ],
        [
         "Lumpkin County"
        ],
        [
         "Clinch County"
        ],
        [
         "Bladen County"
        ],
        [
         "Osceola County"
        ],
        [
         "Starr County"
        ],
        [
         "Clermont County"
        ],
        [
         "Knox County"
        ],
        [
         "Gilliam County"
        ],
        [
         "Custer County"
        ],
        [
         "Roanoke County"
        ],
        [
         "St. Helena Parish"
        ],
        [
         "Dundy County"
        ],
        [
         "Morrill County"
        ],
        [
         "Gratiot County"
        ],
        [
         "Colusa County"
        ],
        [
         "Butts County"
        ],
        [
         "Bernalillo County"
        ],
        [
         "Lorain County"
        ],
        [
         "Reeves County"
        ],
        [
         "Muhlenberg County"
        ],
        [
         "Waseca County"
        ],
        [
         "Kalkaska County"
        ],
        [
         "Deer Lodge County"
        ],
        [
         "Labette County"
        ],
        [
         "St. Charles Parish"
        ],
        [
         "Fairfax city"
        ],
        [
         "Bayam?n Municipio"
        ],
        [
         "Dyer County"
        ],
        [
         "Madera County"
        ],
        [
         "Conecuh County"
        ],
        [
         "Dickey County"
        ],
        [
         "Frio County"
        ],
        [
         "Shawnee County"
        ],
        [
         "Bourbon County"
        ],
        [
         "McLean County"
        ],
        [
         "Ballard County"
        ],
        [
         "Livingston Parish"
        ],
        [
         "Martinsville city"
        ],
        [
         "Claiborne County"
        ],
        [
         "Mackinac County"
        ],
        [
         "Denver County"
        ],
        [
         "Ouachita County"
        ],
        [
         "McHenry County"
        ],
        [
         "LaMoure County"
        ],
        [
         "Cottonwood County"
        ],
        [
         "Wicomico County"
        ],
        [
         "Hillsborough County"
        ],
        [
         "Routt County"
        ],
        [
         "Juneau City and Borough"
        ],
        [
         "Kenai Peninsula Borough"
        ],
        [
         "Yolo County"
        ],
        [
         "Nueces County"
        ],
        [
         "Muskogee County"
        ],
        [
         "Kenosha County"
        ],
        [
         "Patrick County"
        ],
        [
         "Richland Parish"
        ],
        [
         "Bannock County"
        ],
        [
         "Trujillo Alto Municipio"
        ],
        [
         "Del Norte County"
        ],
        [
         "Chilton County"
        ],
        [
         "Gulf County"
        ],
        [
         "Wise County"
        ],
        [
         "Box Elder County"
        ],
        [
         "Craig County"
        ],
        [
         "Oscoda County"
        ],
        [
         "Olmsted County"
        ],
        [
         "Snohomish County"
        ],
        [
         "Winston County"
        ],
        [
         "Riverside County"
        ],
        [
         "Solano County"
        ],
        [
         "Grundy County"
        ],
        [
         "Slope County"
        ],
        [
         "Missaukee County"
        ],
        [
         "Cass County"
        ],
        [
         "Pickett County"
        ],
        [
         "Corson County"
        ],
        [
         "Kittitas County"
        ],
        [
         "Pend Oreille County"
        ],
        [
         "McDowell County"
        ],
        [
         "Crenshaw County"
        ],
        [
         "Scotland County"
        ],
        [
         "Highland County"
        ],
        [
         "Clackamas County"
        ],
        [
         "Oglethorpe County"
        ],
        [
         "Calhoun County"
        ],
        [
         "Aguas Buenas Municipio"
        ],
        [
         "Hatillo Municipio"
        ],
        [
         "Grenada County"
        ],
        [
         "Modoc County"
        ],
        [
         "Parker County"
        ],
        [
         "Champaign County"
        ],
        [
         "Lamar County"
        ],
        [
         "Major County"
        ],
        [
         "Acadia Parish"
        ],
        [
         "Creek County"
        ],
        [
         "Washington Parish"
        ],
        [
         "Mineral County"
        ],
        [
         "Montezuma County"
        ],
        [
         "Rusk County"
        ],
        [
         "Lampasas County"
        ],
        [
         "Somerset County"
        ],
        [
         "Dawes County"
        ],
        [
         "Cowlitz County"
        ],
        [
         "Waldo County"
        ],
        [
         "Hinds County"
        ],
        [
         "Merced County"
        ],
        [
         "Sacramento County"
        ],
        [
         "Moffat County"
        ],
        [
         "Suwannee County"
        ],
        [
         "Maries County"
        ],
        [
         "Williams County"
        ],
        [
         "Cowley County"
        ],
        [
         "Fluvanna County"
        ],
        [
         "Simpson County"
        ],
        [
         "Shawano County"
        ],
        [
         "Plaquemines Parish"
        ],
        [
         "St. Tammany Parish"
        ],
        [
         "Dane County"
        ],
        [
         "Mohave County"
        ],
        [
         "St. Lawrence County"
        ],
        [
         "Hays County"
        ],
        [
         "Craven County"
        ],
        [
         "Caledonia County"
        ],
        [
         "Sunflower County"
        ],
        [
         "Broward County"
        ],
        [
         "Nome Census Area"
        ],
        [
         "De Baca County"
        ],
        [
         "Fremont County"
        ],
        [
         "Jackson County"
        ],
        [
         "Clay County"
        ],
        [
         "Geary County"
        ],
        [
         "Rogers County"
        ],
        [
         "Accomack County"
        ],
        [
         "Wabaunsee County"
        ],
        [
         "Allegheny County"
        ],
        [
         "Rapides Parish"
        ],
        [
         "Traverse County"
        ],
        [
         "Barceloneta Municipio"
        ],
        [
         "Luquillo Municipio"
        ],
        [
         "Benewah County"
        ],
        [
         "Camas County"
        ],
        [
         "Otero County"
        ],
        [
         "Bartow County"
        ],
        [
         "Broomfield County"
        ],
        [
         "Taos County"
        ],
        [
         "Vermilion County"
        ],
        [
         "Collingsworth County"
        ],
        [
         "Phillips County"
        ],
        [
         "Kearny County"
        ],
        [
         "Mayes County"
        ],
        [
         "Willacy County"
        ],
        [
         "Menifee County"
        ],
        [
         "Juneau County"
        ],
        [
         "Chester County"
        ],
        [
         "Mellette County"
        ],
        [
         "Nash County"
        ],
        [
         "Rush County"
        ],
        [
         "Menard County"
        ],
        [
         "Edmonson County"
        ],
        [
         "East Baton Rouge Parish"
        ],
        [
         "Dillon County"
        ],
        [
         "Manassas city"
        ],
        [
         "Portsmouth city"
        ],
        [
         "Staunton city"
        ],
        [
         "Leake County"
        ],
        [
         "Kitsap County"
        ],
        [
         "Yabucoa Municipio"
        ],
        [
         "Rains County"
        ],
        [
         "Piute County"
        ],
        [
         "Coos County"
        ],
        [
         "Heard County"
        ],
        [
         "Grant Parish"
        ],
        [
         "Harrisonburg city"
        ],
        [
         "Iosco County"
        ],
        [
         "Hot Spring County"
        ],
        [
         "Echols County"
        ],
        [
         "St. Louis city"
        ],
        [
         "Watauga County"
        ],
        [
         "Shackelford County"
        ],
        [
         "Spotsylvania County"
        ],
        [
         "Sweetwater County"
        ],
        [
         "Bureau County"
        ],
        [
         "Benzie County"
        ],
        [
         "Gladwin County"
        ],
        [
         "Brevard County"
        ],
        [
         "Pickaway County"
        ],
        [
         "Manitowoc County"
        ],
        [
         "Morehouse Parish"
        ],
        [
         "Troup County"
        ],
        [
         "Queen Anne's County"
        ],
        [
         "Klickitat County"
        ],
        [
         "Naguabo Municipio"
        ],
        [
         "Cleburne County"
        ],
        [
         "Adams County"
        ],
        [
         "McClain County"
        ],
        [
         "Lebanon County"
        ],
        [
         "Bossier Parish"
        ],
        [
         "Tensas Parish"
        ],
        [
         "St. Louis County"
        ],
        [
         "Edgefield County"
        ],
        [
         "Cedar County"
        ],
        [
         "Audrain County"
        ],
        [
         "Navajo County"
        ],
        [
         "Mississippi County"
        ],
        [
         "Laclede County"
        ],
        [
         "Pratt County"
        ],
        [
         "Kendall County"
        ],
        [
         "Tuscola County"
        ],
        [
         "Roane County"
        ],
        [
         "Waupaca County"
        ],
        [
         "McCone County"
        ],
        [
         "Newport County"
        ],
        [
         "Baltimore city"
        ],
        [
         "Beadle County"
        ],
        [
         "Ionia County"
        ],
        [
         "Lake and Peninsula Borough"
        ],
        [
         "Pima County"
        ],
        [
         "Chenango County"
        ],
        [
         "Hertford County"
        ],
        [
         "Harrison County"
        ],
        [
         "Dickinson County"
        ],
        [
         "Fleming County"
        ],
        [
         "Iroquois County"
        ],
        [
         "Kershaw County"
        ],
        [
         "Chesapeake city"
        ],
        [
         "Richardson County"
        ],
        [
         "Strafford County"
        ],
        [
         "Monongalia County"
        ],
        [
         "Dolores County"
        ],
        [
         "Pueblo County"
        ],
        [
         "Maricopa County"
        ],
        [
         "Gasconade County"
        ],
        [
         "Gentry County"
        ],
        [
         "Dimmit County"
        ],
        [
         "Donley County"
        ],
        [
         "Hardeman County"
        ],
        [
         "Whitley County"
        ],
        [
         "Bullitt County"
        ],
        [
         "Schoolcraft County"
        ],
        [
         "Mahnomen County"
        ],
        [
         "Keya Paha County"
        ],
        [
         "Hanson County"
        ],
        [
         "Genesee County"
        ],
        [
         "DeKalb County"
        ],
        [
         "Macomb County"
        ],
        [
         "Ketchikan Gateway Borough"
        ],
        [
         "Bee County"
        ],
        [
         "Winneshiek County"
        ],
        [
         "Humboldt County"
        ],
        [
         "Garrard County"
        ],
        [
         "Spalding County"
        ],
        [
         "Amite County"
        ],
        [
         "Norfolk County"
        ],
        [
         "Manistee County"
        ],
        [
         "Nassau County"
        ],
        [
         "Bulloch County"
        ],
        [
         "Van Buren County"
        ],
        [
         "Yadkin County"
        ],
        [
         "Newton County"
        ],
        [
         "Midland County"
        ],
        [
         "Garden County"
        ],
        [
         "Brooke County"
        ],
        [
         "Ulster County"
        ],
        [
         "Foard County"
        ],
        [
         "Garza County"
        ],
        [
         "Greene County"
        ],
        [
         "Gallia County"
        ],
        [
         "Nottoway County"
        ],
        [
         "Washburn County"
        ],
        [
         "Otter Tail County"
        ],
        [
         "Hampton city"
        ],
        [
         "Cayey Municipio"
        ],
        [
         "Spink County"
        ],
        [
         "Sitka City and Borough"
        ],
        [
         "Santa Barbara County"
        ],
        [
         "Stanislaus County"
        ],
        [
         "Alamosa County"
        ],
        [
         "Weber County"
        ],
        [
         "Berkeley County"
        ],
        [
         "Worcester County"
        ],
        [
         "San Bernardino County"
        ],
        [
         "Chouteau County"
        ],
        [
         "Nodaway County"
        ],
        [
         "Madison County"
        ],
        [
         "Matagorda County"
        ],
        [
         "Utah County"
        ],
        [
         "Choctaw County"
        ],
        [
         "King George County"
        ],
        [
         "Peach County"
        ],
        [
         "Waynesboro city"
        ],
        [
         "Bolivar County"
        ],
        [
         "Spartanburg County"
        ],
        [
         "Pacific County"
        ],
        [
         "Hunterdon County"
        ],
        [
         "Northwest Arctic Borough"
        ],
        [
         "Ashley County"
        ],
        [
         "Hodgeman County"
        ],
        [
         "Lafayette County"
        ],
        [
         "Phelps County"
        ],
        [
         "Ponce Municipio"
        ],
        [
         "Nez Perce County"
        ],
        [
         "Mono County"
        ],
        [
         "Moniteau County"
        ],
        [
         "Fayette County"
        ],
        [
         "Chautauqua County"
        ],
        [
         "Charlotte County"
        ],
        [
         "Jo Daviess County"
        ],
        [
         "Cata?o Municipio"
        ],
        [
         "Piscataquis County"
        ],
        [
         "Rinc?n Municipio"
        ],
        [
         "Cheshire County"
        ],
        [
         "Yell County"
        ],
        [
         "Mountrail County"
        ],
        [
         "La Salle County"
        ],
        [
         "Frederick County"
        ],
        [
         "Windham County"
        ],
        [
         "Trousdale County"
        ],
        [
         "Webster Parish"
        ],
        [
         "Juncos Municipio"
        ],
        [
         "Jefferson Davis County"
        ],
        [
         "Wahkiakum County"
        ],
        [
         "Duplin County"
        ],
        [
         "Jack County"
        ],
        [
         "Barton County"
        ],
        [
         "Union Parish"
        ],
        [
         "Barron County"
        ],
        [
         "Schoharie County"
        ],
        [
         "Bosque County"
        ],
        [
         "Cavalier County"
        ],
        [
         "Bracken County"
        ],
        [
         "Jessamine County"
        ],
        [
         "Macon County"
        ],
        [
         "James City County"
        ],
        [
         "Lanier County"
        ],
        [
         "Meriwether County"
        ],
        [
         "Jackson Parish"
        ],
        [
         "Charlottesville city"
        ],
        [
         "Issaquena County"
        ],
        [
         "Prince George's County"
        ],
        [
         "Hamlin County"
        ],
        [
         "Dade County"
        ],
        [
         "Decatur County"
        ],
        [
         "Ramsey County"
        ],
        [
         "Laurel County"
        ],
        [
         "Gordon County"
        ],
        [
         "Arenac County"
        ],
        [
         "Granite County"
        ],
        [
         "Schenectady County"
        ],
        [
         "Swain County"
        ],
        [
         "Switzerland County"
        ],
        [
         "Edgecombe County"
        ],
        [
         "Kaufman County"
        ],
        [
         "Casey County"
        ],
        [
         "Moultrie County"
        ],
        [
         "Pittsylvania County"
        ],
        [
         "Lafourche Parish"
        ],
        [
         "Westmoreland County"
        ],
        [
         "Jerauld County"
        ],
        [
         "Tate County"
        ],
        [
         "Lee County"
        ],
        [
         "LaPorte County"
        ],
        [
         "Perry County"
        ],
        [
         "San Augustine County"
        ],
        [
         "Doniphan County"
        ],
        [
         "Lauderdale County"
        ],
        [
         "Mathews County"
        ],
        [
         "Jefferson Davis Parish"
        ],
        [
         "Lyman County"
        ],
        [
         "Cross County"
        ],
        [
         "Chaves County"
        ],
        [
         "Palo Alto County"
        ],
        [
         "Vanderburgh County"
        ],
        [
         "Amelia County"
        ],
        [
         "Oconto County"
        ],
        [
         "La Salle Parish"
        ],
        [
         "Lapeer County"
        ],
        [
         "Fresno County"
        ],
        [
         "Las Animas County"
        ],
        [
         "Pender County"
        ],
        [
         "Charles City County"
        ],
        [
         "Freeborn County"
        ],
        [
         "Silver Bow County"
        ],
        [
         "Charles County"
        ],
        [
         "Litchfield County"
        ],
        [
         "Bandera County"
        ],
        [
         "Borden County"
        ],
        [
         "Childress County"
        ],
        [
         "Floyd County"
        ],
        [
         "Des Moines County"
        ],
        [
         "Cleveland County"
        ],
        [
         "Russell County"
        ],
        [
         "Renville County"
        ],
        [
         "Young County"
        ],
        [
         "Chittenden County"
        ],
        [
         "Miller County"
        ],
        [
         "Winn Parish"
        ],
        [
         "Hopewell city"
        ],
        [
         "Lenawee County"
        ],
        [
         "Coffee County"
        ],
        [
         "Elko County"
        ],
        [
         "Denali Borough"
        ],
        [
         "St. Johns County"
        ],
        [
         "Wrangell City and Borough"
        ],
        [
         "Santa Clara County"
        ],
        [
         "Freestone County"
        ],
        [
         "Kenedy County"
        ],
        [
         "Holmes County"
        ],
        [
         "Zapata County"
        ],
        [
         "Montmorency County"
        ],
        [
         "Merrick County"
        ],
        [
         "Arkansas County"
        ],
        [
         "Chatham County"
        ],
        [
         "Nowata County"
        ],
        [
         "Halifax County"
        ],
        [
         "Fajardo Municipio"
        ],
        [
         "Marlboro County"
        ],
        [
         "Bronx County"
        ],
        [
         "Ransom County"
        ],
        [
         "Carroll County"
        ],
        [
         "Hunt County"
        ],
        [
         "Green Lake County"
        ],
        [
         "Armstrong County"
        ],
        [
         "Stewart County"
        ],
        [
         "St. Bernard Parish"
        ],
        [
         "Musselshell County"
        ],
        [
         "Florence County"
        ],
        [
         "Sagadahoc County"
        ],
        [
         "Marengo County"
        ],
        [
         "Broome County"
        ],
        [
         "Burleigh County"
        ],
        [
         "Caswell County"
        ],
        [
         "Osage County"
        ],
        [
         "Buckingham County"
        ],
        [
         "Culpeper County"
        ],
        [
         "Mecklenburg County"
        ],
        [
         "Bristol County"
        ],
        [
         "Nobles County"
        ],
        [
         "Sherburne County"
        ],
        [
         "Mayag?ez Municipio"
        ],
        [
         "Alpena County"
        ],
        [
         "Santa Rosa County"
        ],
        [
         "Crisp County"
        ],
        [
         "Ralls County"
        ],
        [
         "Crawford County"
        ],
        [
         "Uintah County"
        ],
        [
         "Harford County"
        ],
        [
         "Raleigh County"
        ],
        [
         "Mesa County"
        ],
        [
         "Ben Hill County"
        ],
        [
         "Crittenden County"
        ],
        [
         "Hot Springs County"
        ],
        [
         "Iberia Parish"
        ],
        [
         "Esmeralda County"
        ],
        [
         "Bottineau County"
        ],
        [
         "Billings County"
        ],
        [
         "Catawba County"
        ],
        [
         "Cuyahoga County"
        ],
        [
         "Hopkins County"
        ],
        [
         "Travis County"
        ],
        [
         "Cimarron County"
        ],
        [
         "Harding County"
        ],
        [
         "Vega Alta Municipio"
        ],
        [
         "Lemhi County"
        ],
        [
         "Pearl River County"
        ],
        [
         "Burnett County"
        ],
        [
         "Talladega County"
        ],
        [
         "Levy County"
        ],
        [
         "Golden Valley County"
        ],
        [
         "Page County"
        ],
        [
         "Sac County"
        ],
        [
         "Tyrrell County"
        ],
        [
         "Presidio County"
        ],
        [
         "Runnels County"
        ],
        [
         "Tarrant County"
        ],
        [
         "Vilas County"
        ],
        [
         "Quitman County"
        ],
        [
         "Kings County"
        ],
        [
         "Mahaska County"
        ],
        [
         "Portage County"
        ],
        [
         "Parmer County"
        ],
        [
         "Reno County"
        ],
        [
         "Traill County"
        ],
        [
         "Seminole County"
        ],
        [
         "Albemarle County"
        ],
        [
         "Ogle County"
        ],
        [
         "Henrico County"
        ],
        [
         "Greenville County"
        ],
        [
         "Hamblen County"
        ],
        [
         "Black Hawk County"
        ],
        [
         "Deaf Smith County"
        ],
        [
         "Caddo Parish"
        ],
        [
         "Jenkins County"
        ],
        [
         "Pembina County"
        ],
        [
         "Ford County"
        ],
        [
         "Juab County"
        ],
        [
         "Itasca County"
        ],
        [
         "West Feliciana Parish"
        ],
        [
         "Coahoma County"
        ],
        [
         "Braxton County"
        ],
        [
         "Miner County"
        ],
        [
         "White Pine County"
        ],
        [
         "Rio Blanco County"
        ],
        [
         "New London County"
        ],
        [
         "Kidder County"
        ],
        [
         "Richmond County"
        ],
        [
         "Surry County"
        ],
        [
         "San Jacinto County"
        ],
        [
         "Kimble County"
        ],
        [
         "Talbot County"
        ],
        [
         "Valencia County"
        ],
        [
         "Hettinger County"
        ],
        [
         "Transylvania County"
        ],
        [
         "Wright County"
        ],
        [
         "Love County"
        ],
        [
         "Owsley County"
        ],
        [
         "Letcher County"
        ],
        [
         "Colfax County"
        ],
        [
         "Whatcom County"
        ],
        [
         "Hendry County"
        ],
        [
         "Tehama County"
        ],
        [
         "Eagle County"
        ],
        [
         "Rock Island County"
        ],
        [
         "Hardin County"
        ],
        [
         "Rowan County"
        ],
        [
         "Scurry County"
        ],
        [
         "Sherman County"
        ],
        [
         "Cotton County"
        ],
        [
         "Koochiching County"
        ],
        [
         "Roanoke city"
        ],
        [
         "Naranjito Municipio"
        ],
        [
         "Alexander County"
        ],
        [
         "Bollinger County"
        ],
        [
         "Hudson County"
        ],
        [
         "Charlton County"
        ],
        [
         "Chemung County"
        ],
        [
         "Starke County"
        ],
        [
         "Cherokee County"
        ],
        [
         "Lane County"
        ],
        [
         "Tom Green County"
        ],
        [
         "Salt Lake County"
        ],
        [
         "Tooele County"
        ],
        [
         "Lunenburg County"
        ],
        [
         "Wythe County"
        ],
        [
         "Sweet Grass County"
        ],
        [
         "Oktibbeha County"
        ],
        [
         "Alachua County"
        ],
        [
         "Alamance County"
        ],
        [
         "Galveston County"
        ],
        [
         "Stanly County"
        ],
        [
         "Pulaski County"
        ],
        [
         "Beauregard Parish"
        ],
        [
         "Price County"
        ],
        [
         "Susquehanna County"
        ],
        [
         "Beaufort County"
        ],
        [
         "Newport News city"
        ],
        [
         "Nuckolls County"
        ],
        [
         "Clayton County"
        ],
        [
         "Judith Basin County"
        ],
        [
         "Herkimer County"
        ],
        [
         "Reynolds County"
        ],
        [
         "Fannin County"
        ],
        [
         "Houston County"
        ],
        [
         "Pepin County"
        ],
        [
         "Prairie County"
        ],
        [
         "Aguada Municipio"
        ],
        [
         "Jayuya Municipio"
        ],
        [
         "Lajas Municipio"
        ],
        [
         "Walton County"
        ],
        [
         "New Haven County"
        ],
        [
         "Queens County"
        ],
        [
         "Jay County"
        ],
        [
         "Beckham County"
        ],
        [
         "Venango County"
        ],
        [
         "Norton city"
        ],
        [
         "Kanawha County"
        ],
        [
         "Carson City"
        ],
        [
         "Huerfano County"
        ],
        [
         "Morgan County"
        ],
        [
         "Greeley County"
        ],
        [
         "Johnston County"
        ],
        [
         "Waller County"
        ],
        [
         "Campbell County"
        ],
        [
         "McDuffie County"
        ],
        [
         "Hillsdale County"
        ],
        [
         "Bibb County"
        ],
        [
         "Oregon County"
        ],
        [
         "Catron County"
        ],
        [
         "Bailey County"
        ],
        [
         "DeWitt County"
        ],
        [
         "Vinton County"
        ],
        [
         "Republic County"
        ],
        [
         "Steele County"
        ],
        [
         "Powell County"
        ],
        [
         "Roger Mills County"
        ],
        [
         "Blair County"
        ],
        [
         "Gilmer County"
        ],
        [
         "Alpine County"
        ],
        [
         "Cibola County"
        ],
        [
         "Loving County"
        ],
        [
         "Prince William County"
        ],
        [
         "Mille Lacs County"
        ],
        [
         "Gu?nica Municipio"
        ],
        [
         "Guayanilla Municipio"
        ],
        [
         "Brookings County"
        ],
        [
         "Maricao Municipio"
        ],
        [
         "Haines Borough"
        ],
        [
         "Foster County"
        ],
        [
         "Haskell County"
        ],
        [
         "Spencer County"
        ],
        [
         "Sheridan County"
        ],
        [
         "Walker County"
        ],
        [
         "Sequoyah County"
        ],
        [
         "White County"
        ],
        [
         "Leelanau County"
        ],
        [
         "Petersburg Census Area"
        ],
        [
         "Chicot County"
        ],
        [
         "Dent County"
        ],
        [
         "Colorado County"
        ],
        [
         "Putnam County"
        ],
        [
         "Pottawatomie County"
        ],
        [
         "Jim Hogg County"
        ],
        [
         "Boyd County"
        ],
        [
         "Towns County"
        ],
        [
         "Upson County"
        ],
        [
         "Niagara County"
        ],
        [
         "Burnet County"
        ],
        [
         "Steuben County"
        ],
        [
         "Durham County"
        ],
        [
         "Clinton County"
        ],
        [
         "Trinity County"
        ],
        [
         "Effingham County"
        ],
        [
         "Irwin County"
        ],
        [
         "Dorchester County"
        ],
        [
         "Franklin city"
        ],
        [
         "Jerome County"
        ],
        [
         "Teller County"
        ],
        [
         "Hoonah-Angoon Census Area"
        ],
        [
         "Huntington County"
        ],
        [
         "Jefferson County"
        ],
        [
         "Davidson County"
        ],
        [
         "Arlington County"
        ],
        [
         "Shiawassee County"
        ],
        [
         "Maury County"
        ],
        [
         "Walworth County"
        ],
        [
         "Catahoula Parish"
        ],
        [
         "Twin Falls County"
        ],
        [
         "Gogebic County"
        ],
        [
         "Brantley County"
        ],
        [
         "Cayuga County"
        ],
        [
         "Wake County"
        ],
        [
         "Hudspeth County"
        ],
        [
         "Clatsop County"
        ],
        [
         "Le Sueur County"
        ],
        [
         "Lafayette Parish"
        ],
        [
         "Wyoming County"
        ],
        [
         "Morrison County"
        ],
        [
         "Swift County"
        ],
        [
         "Calvert County"
        ],
        [
         "Thayer County"
        ],
        [
         "Autauga County"
        ],
        [
         "Franklin County"
        ],
        [
         "Hancock County"
        ],
        [
         "Wilbarger County"
        ],
        [
         "Christian County"
        ],
        [
         "Josephine County"
        ],
        [
         "Bell County"
        ],
        [
         "Macoupin County"
        ],
        [
         "Platte County"
        ],
        [
         "Sharkey County"
        ],
        [
         "Walthall County"
        ],
        [
         "Ziebach County"
        ],
        [
         "Kodiak Island Borough"
        ],
        [
         "Brewster County"
        ],
        [
         "Oklahoma County"
        ],
        [
         "Windsor County"
        ],
        [
         "Prince Edward County"
        ],
        [
         "Outagamie County"
        ],
        [
         "Calcasieu Parish"
        ],
        [
         "Pondera County"
        ],
        [
         "Hampshire County"
        ],
        [
         "Dillingham Census Area"
        ],
        [
         "Coconino County"
        ],
        [
         "Bleckley County"
        ],
        [
         "Catoosa County"
        ],
        [
         "Ste. Genevieve County"
        ],
        [
         "Hall County"
        ],
        [
         "Hemphill County"
        ],
        [
         "Nelson County"
        ],
        [
         "Breathitt County"
        ],
        [
         "St. Martin Parish"
        ],
        [
         "Snyder County"
        ],
        [
         "Covington city"
        ],
        [
         "Arecibo Municipio"
        ],
        [
         "Covington County"
        ],
        [
         "Faulk County"
        ],
        [
         "Moca Municipio"
        ],
        [
         "Baldwin County"
        ],
        [
         "Terrell County"
        ],
        [
         "Alleghany County"
        ],
        [
         "Augusta County"
        ],
        [
         "Hubbard County"
        ],
        [
         "Barnwell County"
        ],
        [
         "Lynchburg city"
        ],
        [
         "Clallam County"
        ],
        [
         "Screven County"
        ],
        [
         "Leflore County"
        ],
        [
         "Costilla County"
        ],
        [
         "Pamlico County"
        ],
        [
         "Guernsey County"
        ],
        [
         "Kenton County"
        ],
        [
         "Sanders County"
        ],
        [
         "Davison County"
        ],
        [
         "Bonneville County"
        ],
        [
         "Contra Costa County"
        ],
        [
         "Kane County"
        ],
        [
         "San Juan County"
        ],
        [
         "Elliott County"
        ],
        [
         "Addison County"
        ],
        [
         "Atoka County"
        ],
        [
         "Callaway County"
        ],
        [
         "Andrew County"
        ],
        [
         "Prowers County"
        ],
        [
         "Chattahoochee County"
        ],
        [
         "Onondaga County"
        ],
        [
         "Bowie County"
        ],
        [
         "Tipton County"
        ],
        [
         "Meigs County"
        ],
        [
         "Stanton County"
        ],
        [
         "Oliver County"
        ],
        [
         "Columbiana County"
        ],
        [
         "Carbon County"
        ],
        [
         "Carolina Municipio"
        ],
        [
         "Gibson County"
        ],
        [
         "District of Columbia"
        ],
        [
         "Milam County"
        ],
        [
         "San Patricio County"
        ],
        [
         "Albany County"
        ],
        [
         "Long County"
        ],
        [
         "Sublette County"
        ],
        [
         "Flathead County"
        ],
        [
         "Lamb County"
        ],
        [
         "Breckinridge County"
        ],
        [
         "Stearns County"
        ],
        [
         "Gooding County"
        ],
        [
         "Shannon County"
        ],
        [
         "Chaffee County"
        ],
        [
         "Dallas County"
        ],
        [
         "Vermillion County"
        ],
        [
         "Terrebonne Parish"
        ],
        [
         "Orocovis Municipio"
        ],
        [
         "Broadwater County"
        ],
        [
         "Lea County"
        ],
        [
         "Henderson County"
        ],
        [
         "Marshall County"
        ],
        [
         "Ida County"
        ],
        [
         "Stephens County"
        ],
        [
         "Harney County"
        ],
        [
         "Stevens County"
        ],
        [
         "Faribault County"
        ],
        [
         "East Carroll Parish"
        ],
        [
         "Bamberg County"
        ],
        [
         "Cabo Rojo Municipio"
        ],
        [
         "Poquoson city"
        ],
        [
         "Hawaii County"
        ],
        [
         "Codington County"
        ],
        [
         "Emanuel County"
        ],
        [
         "Warrick County"
        ],
        [
         "Harper County"
        ],
        [
         "Adair County"
        ],
        [
         "Ontonagon County"
        ],
        [
         "East Feliciana Parish"
        ],
        [
         "Hardy County"
        ],
        [
         "Barry County"
        ],
        [
         "Amador County"
        ],
        [
         "Colquitt County"
        ],
        [
         "Poinsett County"
        ],
        [
         "Kosciusko County"
        ],
        [
         "Divide County"
        ],
        [
         "Stark County"
        ],
        [
         "Fairfield County"
        ],
        [
         "Orleans County"
        ],
        [
         "Hawkins County"
        ],
        [
         "Horry County"
        ],
        [
         "Ciales Municipio"
        ],
        [
         "Yankton County"
        ],
        [
         "Burlington County"
        ],
        [
         "Sandoval County"
        ],
        [
         "Comal County"
        ],
        [
         "Pocahontas County"
        ],
        [
         "Sutton County"
        ],
        [
         "Neosho County"
        ],
        [
         "Metcalfe County"
        ],
        [
         "Assumption Parish"
        ],
        [
         "Knott County"
        ],
        [
         "Rappahannock County"
        ],
        [
         "Richmond city"
        ],
        [
         "Gregory County"
        ],
        [
         "Toa Alta Municipio"
        ],
        [
         "Wetzel County"
        ],
        [
         "Dixie County"
        ],
        [
         "Skagway Municipality"
        ],
        [
         "New York County"
        ],
        [
         "Granville County"
        ],
        [
         "Polk County"
        ],
        [
         "Navarro County"
        ],
        [
         "Sargent County"
        ],
        [
         "Wood County"
        ],
        [
         "Calloway County"
        ],
        [
         "Monmouth County"
        ],
        [
         "Pickens County"
        ],
        [
         "Manassas Park city"
        ],
        [
         "Quebradillas Municipio"
        ],
        [
         "Coles County"
        ],
        [
         "Cochise County"
        ],
        [
         "Cerro Gordo County"
        ],
        [
         "Goliad County"
        ],
        [
         "Gillespie County"
        ],
        [
         "Rice County"
        ],
        [
         "Beaver County"
        ],
        [
         "Larue County"
        ],
        [
         "Dauphin County"
        ],
        [
         "Powder River County"
        ],
        [
         "Mariposa County"
        ],
        [
         "San Miguel County"
        ],
        [
         "Banks County"
        ],
        [
         "Evans County"
        ],
        [
         "Westchester County"
        ],
        [
         "Quay County"
        ],
        [
         "Archer County"
        ],
        [
         "Coke County"
        ],
        [
         "Ellsworth County"
        ],
        [
         "Trego County"
        ],
        [
         "Wallace County"
        ],
        [
         "Burt County"
        ],
        [
         "Adjuntas Municipio"
        ],
        [
         "Whitfield County"
        ],
        [
         "Bennett County"
        ],
        [
         "Charles Mix County"
        ],
        [
         "Itawamba County"
        ],
        [
         "Doddridge County"
        ],
        [
         "Greenbrier County"
        ],
        [
         "Washoe County"
        ],
        [
         "Grant County"
        ],
        [
         "Rooks County"
        ],
        [
         "Terry County"
        ],
        [
         "Leslie County"
        ],
        [
         "De Witt County"
        ],
        [
         "Peoria County"
        ],
        [
         "Marathon County"
        ],
        [
         "Menominee County"
        ],
        [
         "Iberville Parish"
        ],
        [
         "Ravalli County"
        ],
        [
         "Yellowstone County"
        ],
        [
         "Banner County"
        ],
        [
         "Kearney County"
        ],
        [
         "Caribou County"
        ],
        [
         "Payette County"
        ],
        [
         "Nevada County"
        ],
        [
         "Gilchrist County"
        ],
        [
         "Highlands County"
        ],
        [
         "Pettis County"
        ],
        [
         "Do?a Ana County"
        ],
        [
         "Logan County"
        ],
        [
         "Hansford County"
        ],
        [
         "Pottawattamie County"
        ],
        [
         "Clearfield County"
        ],
        [
         "Oneida County"
        ],
        [
         "Claiborne Parish"
        ],
        [
         "Kittson County"
        ],
        [
         "Pointe Coupee Parish"
        ],
        [
         "Redwood County"
        ],
        [
         "Providence County"
        ],
        [
         "Neshoba County"
        ],
        [
         "Blount County"
        ],
        [
         "Eau Claire County"
        ],
        [
         "Sarasota County"
        ],
        [
         "Cobb County"
        ],
        [
         "Mora County"
        ],
        [
         "Appanoose County"
        ],
        [
         "Panola County"
        ],
        [
         "Liberty County"
        ],
        [
         "Okfuskee County"
        ],
        [
         "Kennebec County"
        ],
        [
         "Ware County"
        ],
        [
         "Monterey County"
        ],
        [
         "Ellis County"
        ],
        [
         "Henry County"
        ],
        [
         "Tillamook County"
        ],
        [
         "Corozal Municipio"
        ],
        [
         "Vega Baja Municipio"
        ],
        [
         "Yalobusha County"
        ],
        [
         "Dickson County"
        ],
        [
         "Fond du Lac County"
        ],
        [
         "Collin County"
        ],
        [
         "Allen County"
        ],
        [
         "McCulloch County"
        ],
        [
         "Mason County"
        ],
        [
         "Alfalfa County"
        ],
        [
         "Big Stone County"
        ],
        [
         "St. Landry Parish"
        ],
        [
         "Watonwan County"
        ],
        [
         "Tift County"
        ],
        [
         "Williamsburg County"
        ],
        [
         "Gem County"
        ],
        [
         "Storey County"
        ],
        [
         "Tallapoosa County"
        ],
        [
         "Glacier County"
        ],
        [
         "Hood County"
        ],
        [
         "Forest County"
        ],
        [
         "Ouachita Parish"
        ],
        [
         "Fall River County"
        ],
        [
         "Bledsoe County"
        ],
        [
         "Atlantic County"
        ],
        [
         "Bent County"
        ],
        [
         "Searcy County"
        ],
        [
         "McIntosh County"
        ],
        [
         "Noble County"
        ],
        [
         "Camden County"
        ],
        [
         "Newaygo County"
        ],
        [
         "Radford city"
        ],
        [
         "Santa Isabel Municipio"
        ],
        [
         "Door County"
        ],
        [
         "Anchorage Municipality"
        ],
        [
         "Real County"
        ],
        [
         "Lancaster County"
        ],
        [
         "Aibonito Municipio"
        ],
        [
         "Dunn County"
        ],
        [
         "Bullock County"
        ],
        [
         "Dougherty County"
        ],
        [
         "San Mateo County"
        ],
        [
         "Carson County"
        ],
        [
         "Potter County"
        ],
        [
         "Toombs County"
        ],
        [
         "Noxubee County"
        ],
        [
         "Little River County"
        ],
        [
         "St. Francis County"
        ],
        [
         "Taney County"
        ],
        [
         "Sangamon County"
        ],
        [
         "Mercer County"
        ],
        [
         "Mower County"
        ],
        [
         "Bedford city"
        ],
        [
         "Hooker County"
        ],
        [
         "St. Lucie County"
        ],
        [
         "Dooly County"
        ],
        [
         "Clear Creek County"
        ],
        [
         "Elkhart County"
        ],
        [
         "Gates County"
        ],
        [
         "Scott County"
        ],
        [
         "Maverick County"
        ],
        [
         "Kingfisher County"
        ],
        [
         "Boyle County"
        ],
        [
         "Frontier County"
        ],
        [
         "Skagit County"
        ],
        [
         "Pe?uelas Municipio"
        ],
        [
         "Moody County"
        ],
        [
         "Geneva County"
        ],
        [
         "Wakulla County"
        ],
        [
         "Siskiyou County"
        ],
        [
         "Torrance County"
        ],
        [
         "Glasscock County"
        ],
        [
         "Sioux County"
        ],
        [
         "Rich County"
        ],
        [
         "McMinn County"
        ],
        [
         "Sarpy County"
        ],
        [
         "Wirt County"
        ],
        [
         "Gregg County"
        ],
        [
         "Pawnee County"
        ],
        [
         "Kewaunee County"
        ],
        [
         "Waukesha County"
        ],
        [
         "Can?vanas Municipio"
        ],
        [
         "Hyde County"
        ],
        [
         "Barbour County"
        ],
        [
         "Salinas Municipio"
        ],
        [
         "Bremer County"
        ],
        [
         "Ross County"
        ],
        [
         "Harvey County"
        ],
        [
         "Glynn County"
        ],
        [
         "Taliaferro County"
        ],
        [
         "Prentiss County"
        ],
        [
         "Rankin County"
        ],
        [
         "Eureka County"
        ],
        [
         "Yavapai County"
        ],
        [
         "Daniels County"
        ],
        [
         "Taylor County"
        ],
        [
         "Trigg County"
        ],
        [
         "Clearwater County"
        ],
        [
         "Grainger County"
        ],
        [
         "Piatt County"
        ],
        [
         "Aiken County"
        ],
        [
         "Placer County"
        ],
        [
         "Fairbanks North Star Borough"
        ],
        [
         "Tolland County"
        ],
        [
         "Faulkner County"
        ],
        [
         "St. Francois County"
        ],
        [
         "Hoke County"
        ],
        [
         "Lavaca County"
        ],
        [
         "Graham County"
        ],
        [
         "Stafford County"
        ],
        [
         "Nicollet County"
        ],
        [
         "Walla Walla County"
        ],
        [
         "Saunders County"
        ],
        [
         "Pershing County"
        ],
        [
         "New Madrid County"
        ],
        [
         "Harnett County"
        ],
        [
         "Lenoir County"
        ],
        [
         "Washington County"
        ],
        [
         "Rutherford County"
        ],
        [
         "Lawrence County"
        ],
        [
         "Smith County"
        ],
        [
         "Titus County"
        ],
        [
         "Emery County"
        ],
        [
         "McKean County"
        ],
        [
         "Salem city"
        ],
        [
         "Cassia County"
        ],
        [
         "Cape Girardeau County"
        ],
        [
         "Keweenaw County"
        ],
        [
         "St. Charles County"
        ],
        [
         "Fergus County"
        ],
        [
         "Jasper County"
        ],
        [
         "Louisa County"
        ],
        [
         "Barnes County"
        ],
        [
         "McMullen County"
        ],
        [
         "La Crosse County"
        ],
        [
         "Cameron Parish"
        ],
        [
         "Falls Church city"
        ],
        [
         "Kimball County"
        ],
        [
         "Okanogan County"
        ],
        [
         "Kern County"
        ],
        [
         "Chambers County"
        ],
        [
         "Ashe County"
        ],
        [
         "Bartholomew County"
        ],
        [
         "Austin County"
        ],
        [
         "Fort Bend County"
        ],
        [
         "Nemaha County"
        ],
        [
         "Leavenworth County"
        ],
        [
         "Estill County"
        ],
        [
         "Evangeline Parish"
        ],
        [
         "Red River Parish"
        ],
        [
         "Comer?o Municipio"
        ],
        [
         "Bond County"
        ],
        [
         "Baca County"
        ],
        [
         "Montgomery County"
        ],
        [
         "Story County"
        ],
        [
         "Van Wert County"
        ],
        [
         "Pine County"
        ],
        [
         "Cuming County"
        ],
        [
         "Gurabo Municipio"
        ],
        [
         "Alcona County"
        ],
        [
         "Sonoma County"
        ],
        [
         "Griggs County"
        ],
        [
         "Preble County"
        ],
        [
         "Hidalgo County"
        ],
        [
         "Aitkin County"
        ],
        [
         "Racine County"
        ],
        [
         "Dickens County"
        ],
        [
         "Tuscarawas County"
        ],
        [
         "Ashtabula County"
        ],
        [
         "Lewis County"
        ],
        [
         "Multnomah County"
        ],
        [
         "Bedford County"
        ],
        [
         "St. Croix County"
        ],
        [
         "Suffolk city"
        ],
        [
         "Nance County"
        ],
        [
         "Toa Baja Municipio"
        ],
        [
         "Duval County"
        ],
        [
         "Gaines County"
        ],
        [
         "Hickman County"
        ],
        [
         "Woods County"
        ],
        [
         "Carlton County"
        ],
        [
         "Gwinnett County"
        ],
        [
         "Lake of the Woods County"
        ],
        [
         "Vermilion Parish"
        ],
        [
         "Coamo Municipio"
        ],
        [
         "Culebra Municipio"
        ],
        [
         "Kauai County"
        ],
        [
         "Scotts Bluff County"
        ],
        [
         "Ritchie County"
        ],
        [
         "Santa Fe County"
        ],
        [
         "Walsh County"
        ],
        [
         "Greenwood County"
        ],
        [
         "Giles County"
        ],
        [
         "Shenandoah County"
        ],
        [
         "Pennington County"
        ],
        [
         "Yakima County"
        ],
        [
         "San Lorenzo Municipio"
        ],
        [
         "Berrien County"
        ],
        [
         "Glenn County"
        ],
        [
         "Aleutians West Census Area"
        ],
        [
         "Montrose County"
        ],
        [
         "Atkinson County"
        ],
        [
         "Chariton County"
        ],
        [
         "Warren County"
        ],
        [
         "Schleicher County"
        ],
        [
         "Chippewa County"
        ],
        [
         "De Soto Parish"
        ],
        [
         "Jefferson Parish"
        ],
        [
         "Tangipahoa Parish"
        ],
        [
         "Missoula County"
        ],
        [
         "Aurora County"
        ],
        [
         "Tunica County"
        ],
        [
         "Sanborn County"
        ],
        [
         "Hinsdale County"
        ],
        [
         "Apache County"
        ],
        [
         "Delta County"
        ],
        [
         "Stokes County"
        ],
        [
         "Dinwiddie County"
        ],
        [
         "Wyandot County"
        ],
        [
         "Guaynabo Municipio"
        ],
        [
         "Passaic County"
        ],
        [
         "Ouray County"
        ],
        [
         "Collier County"
        ],
        [
         "Conejos County"
        ],
        [
         "Mahoning County"
        ],
        [
         "Coffey County"
        ],
        [
         "Comanche County"
        ],
        [
         "Haywood County"
        ],
        [
         "Big Horn County"
        ],
        [
         "Allendale County"
        ],
        [
         "McCormick County"
        ],
        [
         "Lexington County"
        ],
        [
         "Alcorn County"
        ],
        [
         "Jennings County"
        ],
        [
         "New Hanover County"
        ],
        [
         "Benson County"
        ],
        [
         "Cottle County"
        ],
        [
         "Oldham County"
        ],
        [
         "Reagan County"
        ],
        [
         "San Saba County"
        ],
        [
         "Jim Wells County"
        ],
        [
         "Zavala County"
        ],
        [
         "Rutland County"
        ],
        [
         "Carver County"
        ],
        [
         "Clarion County"
        ],
        [
         "Sheboygan County"
        ],
        [
         "Darlington County"
        ],
        [
         "Allegany County"
        ],
        [
         "Stone County"
        ],
        [
         "Pitkin County"
        ],
        [
         "Grimes County"
        ],
        [
         "Culberson County"
        ],
        [
         "Anoka County"
        ],
        [
         "McNairy County"
        ],
        [
         "Toole County"
        ],
        [
         "Flagler County"
        ],
        [
         "Pitt County"
        ],
        [
         "Licking County"
        ],
        [
         "Rawlins County"
        ],
        [
         "Wharton County"
        ],
        [
         "Allen Parish"
        ],
        [
         "Crow Wing County"
        ],
        [
         "Jersey County"
        ],
        [
         "Stanley County"
        ],
        [
         "Coosa County"
        ],
        [
         "Le Flore County"
        ],
        [
         "Edmunds County"
        ],
        [
         "Vieques Municipio"
        ],
        [
         "Kootenai County"
        ],
        [
         "Cheboygan County"
        ],
        [
         "Ector County"
        ],
        [
         "Orange County"
        ],
        [
         "Cabarrus County"
        ],
        [
         "Fulton County"
        ],
        [
         "Kerr County"
        ],
        [
         "Victoria County"
        ],
        [
         "York County"
        ],
        [
         "Treasure County"
        ],
        [
         "Maunabo Municipio"
        ],
        [
         "Ingham County"
        ],
        [
         "Bergen County"
        ],
        [
         "Etowah County"
        ],
        [
         "Pinellas County"
        ],
        [
         "Valdez-Cordova Census Area"
        ],
        [
         "Callahan County"
        ],
        [
         "Fisher County"
        ],
        [
         "Seneca County"
        ],
        [
         "Sanpete County"
        ],
        [
         "Washtenaw County"
        ],
        [
         "Oconee County"
        ],
        [
         "Baraga County"
        ],
        [
         "Kit Carson County"
        ],
        [
         "Okeechobee County"
        ],
        [
         "San Luis Obispo County"
        ],
        [
         "Ozark County"
        ],
        [
         "Keokuk County"
        ],
        [
         "Plymouth County"
        ],
        [
         "Sabine County"
        ],
        [
         "Chase County"
        ],
        [
         "Buchanan County"
        ],
        [
         "Juniata County"
        ],
        [
         "Vigo County"
        ],
        [
         "Jewell County"
        ],
        [
         "Texas County"
        ],
        [
         "Caddo County"
        ],
        [
         "Meagher County"
        ],
        [
         "Wibaux County"
        ],
        [
         "Bradley County"
        ],
        [
         "Mobile County"
        ],
        [
         "Mitchell County"
        ],
        [
         "Sandusky County"
        ],
        [
         "Lincoln County"
        ],
        [
         "Cache County"
        ],
        [
         "Prince George County"
        ],
        [
         "Lander County"
        ],
        [
         "Socorro County"
        ],
        [
         "Tama County"
        ],
        [
         "Belmont County"
        ],
        [
         "Irion County"
        ],
        [
         "Murray County"
        ],
        [
         "Greenup County"
        ],
        [
         "Crook County"
        ],
        [
         "Lamoille County"
        ],
        [
         "Boone County"
        ],
        [
         "Smyth County"
        ],
        [
         "Arroyo Municipio"
        ],
        [
         "Kalamazoo County"
        ],
        [
         "El Dorado County"
        ],
        [
         "Brooks County"
        ],
        [
         "McDonald County"
        ],
        [
         "Shelby County"
        ],
        [
         "Throckmorton County"
        ],
        [
         "King and Queen County"
        ],
        [
         "Tuolumne County"
        ],
        [
         "Saratoga County"
        ],
        [
         "Aransas County"
        ],
        [
         "Buena Vista County"
        ],
        [
         "Gonzales County"
        ],
        [
         "Stutsman County"
        ],
        [
         "Trimble County"
        ],
        [
         "Tattnall County"
        ],
        [
         "Androscoggin County"
        ],
        [
         "Houghton County"
        ],
        [
         "Bayfield County"
        ],
        [
         "Citrus County"
        ],
        [
         "Cattaraugus County"
        ],
        [
         "Coleman County"
        ],
        [
         "Livingston County"
        ],
        [
         "Montour County"
        ],
        [
         "George County"
        ],
        [
         "Palm Beach County"
        ],
        [
         "LaGrange County"
        ],
        [
         "Whiteside County"
        ],
        [
         "Forsyth County"
        ],
        [
         "Morris County"
        ],
        [
         "Barren County"
        ],
        [
         "Petersburg city"
        ],
        [
         "Ferry County"
        ],
        [
         "Summers County"
        ],
        [
         "Escambia County"
        ],
        [
         "Howard County"
        ],
        [
         "Yamhill County"
        ],
        [
         "Winchester city"
        ],
        [
         "Dale County"
        ],
        [
         "Coryell County"
        ],
        [
         "Erath County"
        ],
        [
         "Marion County"
        ],
        [
         "Richland County"
        ],
        [
         "Morton County"
        ],
        [
         "Lipscomb County"
        ],
        [
         "Payne County"
        ],
        [
         "Lowndes County"
        ],
        [
         "Baltimore County"
        ],
        [
         "Imperial County"
        ],
        [
         "San Francisco County"
        ],
        [
         "Dawson County"
        ],
        [
         "Guthrie County"
        ],
        [
         "Sullivan County"
        ],
        [
         "Karnes County"
        ],
        [
         "Daggett County"
        ],
        [
         "Cecil County"
        ],
        [
         "Yellow Medicine County"
        ],
        [
         "Power County"
        ],
        [
         "Gilpin County"
        ],
        [
         "Anson County"
        ],
        [
         "Pemiscot County"
        ],
        [
         "Stephenson County"
        ],
        [
         "Guilford County"
        ],
        [
         "Burleson County"
        ],
        [
         "Caldwell County"
        ],
        [
         "Morrow County"
        ],
        [
         "Geauga County"
        ],
        [
         "Carlisle County"
        ],
        [
         "Greensville County"
        ],
        [
         "Roosevelt County"
        ],
        [
         "Cidra Municipio"
        ],
        [
         "Tishomingo County"
        ],
        [
         "Southeast Fairbanks Census Area"
        ],
        [
         "Bertie County"
        ],
        [
         "Ray County"
        ],
        [
         "Winnebago County"
        ],
        [
         "Pasquotank County"
        ],
        [
         "Defiance County"
        ],
        [
         "Sabine Parish"
        ],
        [
         "Park County"
        ],
        [
         "Cherry County"
        ],
        [
         "Gage County"
        ],
        [
         "Churchill County"
        ],
        [
         "Calaveras County"
        ],
        [
         "Shasta County"
        ],
        [
         "Woodruff County"
        ],
        [
         "Cascade County"
        ],
        [
         "Appling County"
        ],
        [
         "Monona County"
        ],
        [
         "Ogemaw County"
        ],
        [
         "Humacao Municipio"
        ],
        [
         "Inyo County"
        ],
        [
         "Aleutians East Borough"
        ],
        [
         "Stoddard County"
        ],
        [
         "Cortland County"
        ],
        [
         "Bennington County"
        ],
        [
         "Northumberland County"
        ],
        [
         "Tazewell County"
        ],
        [
         "Kalawao County"
        ],
        [
         "Winona County"
        ],
        [
         "Alameda County"
        ],
        [
         "Los Angeles County"
        ],
        [
         "Okaloosa County"
        ],
        [
         "Arapahoe County"
        ],
        [
         "Hale County"
        ],
        [
         "Wichita County"
        ],
        [
         "Harlan County"
        ],
        [
         "Presque Isle County"
        ],
        [
         "Laurens County"
        ],
        [
         "Norman County"
        ],
        [
         "Sully County"
        ],
        [
         "Mendocino County"
        ],
        [
         "Andrews County"
        ],
        [
         "Rockingham County"
        ],
        [
         "Daviess County"
        ],
        [
         "Oceana County"
        ],
        [
         "Sawyer County"
        ],
        [
         "Cabell County"
        ],
        [
         "Elmore County"
        ],
        [
         "Iredell County"
        ],
        [
         "Linn County"
        ],
        [
         "Union County"
        ],
        [
         "Yancey County"
        ],
        [
         "Posey County"
        ],
        [
         "Somervell County"
        ],
        [
         "Butler County"
        ],
        [
         "Hill County"
        ],
        [
         "Tillman County"
        ],
        [
         "Waushara County"
        ],
        [
         "DeSoto County"
        ],
        [
         "Yukon-Koyukuk Census Area"
        ],
        [
         "Craighead County"
        ],
        [
         "Rockland County"
        ],
        [
         "Hickory County"
        ],
        [
         "Pike County"
        ],
        [
         "Nacogdoches County"
        ],
        [
         "Tulsa County"
        ],
        [
         "Kandiyohi County"
        ],
        [
         "McLeod County"
        ],
        [
         "Attala County"
        ],
        [
         "McCook County"
        ],
        [
         "Tallahatchie County"
        ],
        [
         "Manatee County"
        ],
        [
         "Barrow County"
        ],
        [
         "Onslow County"
        ],
        [
         "Woodbury County"
        ],
        [
         "Limestone County"
        ],
        [
         "Clarke County"
        ],
        [
         "Bradford County"
        ],
        [
         "Colleton County"
        ],
        [
         "Lexington city"
        ],
        [
         "Suffolk County"
        ],
        [
         "Edwards County"
        ],
        [
         "Columbus County"
        ],
        [
         "Fauquier County"
        ],
        [
         "Columbia County"
        ],
        [
         "Trempealeau County"
        ],
        [
         "Box Butte County"
        ],
        [
         "Bonner County"
        ],
        [
         "Saguache County"
        ],
        [
         "Garland County"
        ],
        [
         "Salem County"
        ],
        [
         "O'Brien County"
        ],
        [
         "Rolette County"
        ],
        [
         "Lubbock County"
        ],
        [
         "Valley County"
        ],
        [
         "Merrimack County"
        ],
        [
         "Glades County"
        ],
        [
         "Desha County"
        ],
        [
         "Monroe County"
        ],
        [
         "Wabash County"
        ],
        [
         "Latimer County"
        ],
        [
         "Wheeler County"
        ],
        [
         "Natrona County"
        ],
        [
         "Lac qui Parle County"
        ],
        [
         "Camuy Municipio"
        ],
        [
         "Fallon County"
        ],
        [
         "Hartley County"
        ],
        [
         "Lyon County"
        ],
        [
         "Brown County"
        ],
        [
         "Pontotoc County"
        ],
        [
         "Aroostook County"
        ],
        [
         "Yauco Municipio"
        ],
        [
         "Calumet County"
        ],
        [
         "Plumas County"
        ],
        [
         "Burke County"
        ],
        [
         "Pecos County"
        ],
        [
         "Lynn County"
        ],
        [
         "Tyler County"
        ],
        [
         "Cambria County"
        ],
        [
         "Wilkin County"
        ],
        [
         "Georgetown County"
        ],
        [
         "Las Mar?as Municipio"
        ],
        [
         "Hand County"
        ],
        [
         "Early County"
        ],
        [
         "Medina County"
        ],
        [
         "Pierce County"
        ],
        [
         "Duchesne County"
        ],
        [
         "Ascension Parish"
        ],
        [
         "Thomas County"
        ],
        [
         "Cameron County"
        ],
        [
         "Weston County"
        ],
        [
         "Chelan County"
        ],
        [
         "Chickasaw County"
        ],
        [
         "Hitchcock County"
        ],
        [
         "Pleasants County"
        ],
        [
         "Palo Pinto County"
        ],
        [
         "Dewey County"
        ],
        [
         "Isle of Wight County"
        ],
        [
         "Pipestone County"
        ],
        [
         "Bristol city"
        ],
        [
         "Belknap County"
        ],
        [
         "Gadsden County"
        ],
        [
         "Dutchess County"
        ],
        [
         "Castro County"
        ],
        [
         "Kossuth County"
        ],
        [
         "King County"
        ],
        [
         "Pendleton County"
        ],
        [
         "Essex County"
        ],
        [
         "Blue Earth County"
        ],
        [
         "Goshen County"
        ],
        [
         "Boise County"
        ],
        [
         "Antrim County"
        ],
        [
         "Grafton County"
        ],
        [
         "Ventura County"
        ],
        [
         "Wilson County"
        ],
        [
         "St. Joseph County"
        ],
        [
         "Norton County"
        ],
        [
         "Worth County"
        ],
        [
         "Hutchinson County"
        ],
        [
         "Elk County"
        ],
        [
         "Isanti County"
        ],
        [
         "Ceiba Municipio"
        ],
        [
         "Island County"
        ],
        [
         "Clare County"
        ],
        [
         "Volusia County"
        ],
        [
         "Delaware County"
        ],
        [
         "Davie County"
        ],
        [
         "Sterling County"
        ],
        [
         "Van Zandt County"
        ],
        [
         "Wolfe County"
        ],
        [
         "St. Mary Parish"
        ],
        [
         "Petroleum County"
        ],
        [
         "Mecosta County"
        ],
        [
         "Baylor County"
        ],
        [
         "Johnson County"
        ],
        [
         "Emmet County"
        ],
        [
         "Chowan County"
        ],
        [
         "Trumbull County"
        ],
        [
         "Hocking County"
        ],
        [
         "Wasco County"
        ],
        [
         "Becker County"
        ],
        [
         "St. John the Baptist Parish"
        ],
        [
         "San Joaquin County"
        ],
        [
         "Wayne County"
        ],
        [
         "Scioto County"
        ],
        [
         "Pittsburg County"
        ],
        [
         "Massac County"
        ],
        [
         "Goodhue County"
        ],
        [
         "Colbert County"
        ],
        [
         "San Diego County"
        ],
        [
         "Dare County"
        ],
        [
         "Millard County"
        ],
        [
         "Okmulgee County"
        ],
        [
         "Clarendon County"
        ],
        [
         "Isabela Municipio"
        ],
        [
         "Lares Municipio"
        ],
        [
         "Hampden County"
        ],
        [
         "Loup County"
        ],
        [
         "Day County"
        ],
        [
         "San Benito County"
        ],
        [
         "McKinley County"
        ],
        [
         "Ringgold County"
        ],
        [
         "Dubuque County"
        ],
        [
         "Sampson County"
        ],
        [
         "McCracken County"
        ],
        [
         "Avoyelles Parish"
        ],
        [
         "Colonial Heights city"
        ],
        [
         "Canyon County"
        ],
        [
         "Santa Cruz County"
        ],
        [
         "Beaverhead County"
        ],
        [
         "Muscatine County"
        ],
        [
         "Martin County"
        ],
        [
         "Coshocton County"
        ],
        [
         "Cloud County"
        ],
        [
         "Gove County"
        ],
        [
         "Greer County"
        ],
        [
         "Florida Municipio"
        ],
        [
         "Skamania County"
        ],
        [
         "Isabella County"
        ],
        [
         "Hartford County"
        ],
        [
         "Howell County"
        ],
        [
         "Bowman County"
        ],
        [
         "Rockcastle County"
        ],
        [
         "Gallatin County"
        ],
        [
         "Roseau County"
        ],
        [
         "Fredericksburg city"
        ],
        [
         "Bingham County"
        ],
        [
         "Copiah County"
        ],
        [
         "Grays Harbor County"
        ],
        [
         "Minnehaha County"
        ],
        [
         "Napa County"
        ],
        [
         "Bristol Bay Borough"
        ],
        [
         "Weld County"
        ],
        [
         "Candler County"
        ],
        [
         "Denton County"
        ],
        [
         "Uvalde County"
        ],
        [
         "Umatilla County"
        ],
        [
         "Chesterfield County"
        ],
        [
         "Saginaw County"
        ],
        [
         "Hormigueros Municipio"
        ],
        [
         "Owyhee County"
        ],
        [
         "Weakley County"
        ],
        [
         "Crosby County"
        ],
        [
         "Parke County"
        ],
        [
         "Lake County"
        ],
        [
         "Atchison County"
        ],
        [
         "Kent County"
        ],
        [
         "Hughes County"
        ],
        [
         "Washita County"
        ],
        [
         "Gloucester County"
        ],
        [
         "Sierra County"
        ],
        [
         "Yuba County"
        ],
        [
         "Buncombe County"
        ],
        [
         "Dubois County"
        ],
        [
         "Dallam County"
        ],
        [
         "Jones County"
        ],
        [
         "Vance County"
        ],
        [
         "Miami County"
        ],
        [
         "Summit County"
        ],
        [
         "Ochiltree County"
        ],
        [
         "Swisher County"
        ],
        [
         "Kiowa County"
        ],
        [
         "Powhatan County"
        ],
        [
         "Emporia city"
        ],
        [
         "Buffalo County"
        ],
        [
         "Ada County"
        ],
        [
         "Fentress County"
        ],
        [
         "Tuscaloosa County"
        ],
        [
         "Bethel Census Area"
        ],
        [
         "Yakutat City and Borough"
        ],
        [
         "Baxter County"
        ],
        [
         "Person County"
        ],
        [
         "Ottawa County"
        ],
        [
         "Upshur County"
        ],
        [
         "Iron County"
        ],
        [
         "Bath County"
        ],
        [
         "Otsego County"
        ],
        [
         "Dodge County"
        ],
        [
         "Orleans Parish"
        ],
        [
         "Washakie County"
        ],
        [
         "Juana D?az Municipio"
        ],
        [
         "Honolulu County"
        ],
        [
         "Bear Lake County"
        ],
        [
         "Chattooga County"
        ],
        [
         "Hendricks County"
        ],
        [
         "Ripley County"
        ],
        [
         "Hart County"
        ],
        [
         "Oakland County"
        ],
        [
         "Chisago County"
        ],
        [
         "Berks County"
        ],
        [
         "Philadelphia County"
        ],
        [
         "Danville city"
        ],
        [
         "San Germ?n Municipio"
        ],
        [
         "Tippah County"
        ],
        [
         "Avery County"
        ],
        [
         "Riley County"
        ],
        [
         "Meade County"
        ],
        [
         "McCreary County"
        ],
        [
         "Blaine County"
        ],
        [
         "Rockdale County"
        ],
        [
         "Sumter County"
        ],
        [
         "Archuleta County"
        ],
        [
         "Gray County"
        ],
        [
         "Ward County"
        ],
        [
         "Wells County"
        ],
        [
         "Erie County"
        ],
        [
         "Pushmataha County"
        ],
        [
         "Laramie County"
        ],
        [
         "Galax city"
        ],
        [
         "West Carroll Parish"
        ],
        [
         "Coweta County"
        ],
        [
         "Dickenson County"
        ],
        [
         "Bucks County"
        ],
        [
         "Telfair County"
        ],
        [
         "Bay County"
        ],
        [
         "Carter County"
        ],
        [
         "Niobrara County"
        ],
        [
         "Muscogee County"
        ],
        [
         "Cheatham County"
        ],
        [
         "Greenlee County"
        ],
        [
         "Pinal County"
        ],
        [
         "Briscoe County"
        ],
        [
         "Muskingum County"
        ],
        [
         "Kleberg County"
        ],
        [
         "McPherson County"
        ],
        [
         "Middlesex County"
        ],
        [
         "Newberry County"
        ],
        [
         "Dixon County"
        ],
        [
         "Ontario County"
        ],
        [
         "Crane County"
        ],
        [
         "Rockwall County"
        ],
        [
         "Vernon County"
        ],
        [
         "Morovis Municipio"
        ],
        [
         "Crowley County"
        ],
        [
         "New Castle County"
        ],
        [
         "Prince of Wales-Hyder Census Area"
        ],
        [
         "Conway County"
        ],
        [
         "Tulare County"
        ],
        [
         "Audubon County"
        ],
        [
         "Mills County"
        ],
        [
         "Athens County"
        ],
        [
         "Kay County"
        ],
        [
         "Amherst County"
        ],
        [
         "Ocean County"
        ],
        [
         "Northampton County"
        ],
        [
         "Alexandria city"
        ],
        [
         "Teton County"
        ],
        [
         "A?asco Municipio"
        ],
        [
         "San Sebasti?n Municipio"
        ],
        [
         "Branch County"
        ],
        [
         "Wilkes County"
        ],
        [
         "Red River County"
        ],
        [
         "Seward County"
        ],
        [
         "Cheyenne County"
        ],
        [
         "Klamath County"
        ],
        [
         "Franklin Parish"
        ],
        [
         "Stillwater County"
        ],
        [
         "Cooke County"
        ],
        [
         "McKenzie County"
        ],
        [
         "Ohio County"
        ],
        [
         "Fairfax County"
        ],
        [
         "Malheur County"
        ],
        [
         "Hanover County"
        ],
        [
         "Ozaukee County"
        ],
        [
         "Minidoka County"
        ],
        [
         "Alger County"
        ],
        [
         "La Paz County"
        ],
        [
         "Los Alamos County"
        ],
        [
         "Porter County"
        ],
        [
         "Motley County"
        ],
        [
         "Curry County"
        ],
        [
         "Bland County"
        ],
        [
         "Coal County"
        ],
        [
         "Concordia Parish"
        ],
        [
         "Virginia Beach city"
        ],
        [
         "West Baton Rouge Parish"
        ],
        [
         "Cooper County"
        ],
        [
         "Sharp County"
        ],
        [
         "Lassen County"
        ],
        [
         "Rio Grande County"
        ],
        [
         "Matanuska-Susitna Borough"
        ],
        [
         "Independence County"
        ],
        [
         "Grand Forks County"
        ],
        [
         "Huron County"
        ],
        [
         "King William County"
        ],
        [
         "Hennepin County"
        ],
        [
         "Luna County"
        ],
        [
         "Jeff Davis County"
        ],
        [
         "Todd County"
        ],
        [
         "Loudon County"
        ],
        [
         "Oxford County"
        ],
        [
         "Hayes County"
        ],
        [
         "Sebastian County"
        ],
        [
         "Marin County"
        ],
        [
         "Elbert County"
        ],
        [
         "Dearborn County"
        ],
        [
         "Emmons County"
        ],
        [
         "Sedgwick County"
        ],
        [
         "Sevier County"
        ],
        [
         "Woodford County"
        ],
        [
         "Obion County"
        ],
        [
         "New Kent County"
        ],
        [
         "Caldwell Parish"
        ],
        [
         "St. James Parish"
        ],
        [
         "St. Mary's County"
        ],
        [
         "Eaton County"
        ],
        [
         "Tucker County"
        ],
        [
         "Yuma County"
        ],
        [
         "Poweshiek County"
        ],
        [
         "Perquimans County"
        ],
        [
         "Leon County"
        ],
        [
         "Wagoner County"
        ],
        [
         "Hood River County"
        ],
        [
         "Marinette County"
        ],
        [
         "Sauk County"
        ],
        [
         "Arthur County"
        ],
        [
         "Manat? Municipio"
        ],
        [
         "Maui County"
        ],
        [
         "Saluda County"
        ],
        [
         "Boundary County"
        ],
        [
         "Allegan County"
        ],
        [
         "Drew County"
        ],
        [
         "Dunklin County"
        ],
        [
         "Harris County"
        ],
        [
         "Anderson County"
        ],
        [
         "Darke County"
        ],
        [
         "Grand Isle County"
        ],
        [
         "Mifflin County"
        ],
        [
         "Overton County"
        ],
        [
         "Converse County"
        ],
        [
         "Wabasha County"
        ],
        [
         "Las Piedras Municipio"
        ],
        [
         "Rabun County"
        ],
        [
         "Barnstable County"
        ],
        [
         "Thurston County"
        ],
        [
         "Cocke County"
        ],
        [
         "Oswego County"
        ],
        [
         "Rio Arriba County"
        ],
        [
         "Gaston County"
        ],
        [
         "Guadalupe County"
        ],
        [
         "Barber County"
        ],
        [
         "Huntingdon County"
        ],
        [
         "Fillmore County"
        ],
        [
         "Sussex County"
        ],
        [
         "Vernon Parish"
        ],
        [
         "Penobscot County"
        ],
        [
         "Wilcox County"
        ],
        [
         "Nantucket County"
        ],
        [
         "Larimer County"
        ],
        [
         "Hardee County"
        ],
        [
         "Camp County"
        ],
        [
         "Montague County"
        ],
        [
         "Uinta County"
        ],
        [
         "Holt County"
        ],
        [
         "Idaho County"
        ],
        [
         "Indian River County"
        ],
        [
         "Randolph County"
        ],
        [
         "Towner County"
        ],
        [
         "Baker County"
        ],
        [
         "Treutlen County"
        ],
        [
         "Red Willow County"
        ],
        [
         "Blackford County"
        ],
        [
         "Webb County"
        ],
        [
         "Graves County"
        ],
        [
         "Indiana County"
        ],
        [
         "Loudoun County"
        ],
        [
         "Hampton County"
        ],
        [
         "Latah County"
        ],
        [
         "Grand Traverse County"
        ],
        [
         "Tripp County"
        ],
        [
         "Allamakee County"
        ],
        [
         "Refugio County"
        ],
        [
         "LaSalle County"
        ],
        [
         "Madison Parish"
        ],
        [
         "Kemper County"
        ],
        [
         "Butte County"
        ],
        [
         "R?o Grande Municipio"
        ],
        [
         "Charlevoix County"
        ],
        [
         "Brazoria County"
        ],
        [
         "Grayson County"
        ],
        [
         "McCurtain County"
        ],
        [
         "Green County"
        ],
        [
         "Sumner County"
        ],
        [
         "Southampton County"
        ],
        [
         "Bienville Parish"
        ],
        [
         "Natchitoches Parish"
        ],
        [
         "Asotin County"
        ],
        [
         "Deuel County"
        ],
        [
         "Sabana Grande Municipio"
        ],
        [
         "Mingo County"
        ],
        [
         "Gunnison County"
        ],
        [
         "Bastrop County"
        ],
        [
         "Stonewall County"
        ],
        [
         "Deschutes County"
        ],
        [
         "Brunswick County"
        ],
        [
         "Grady County"
        ],
        [
         "Aguadilla Municipio"
        ],
        [
         "Schuyler County"
        ],
        [
         "Paulding County"
        ],
        [
         "Ashland County"
        ],
        [
         "Llano County"
        ],
        [
         "Val Verde County"
        ],
        [
         "Appomattox County"
        ],
        [
         "Caguas Municipio"
        ],
        [
         "Guayama Municipio"
        ],
        [
         "Perkins County"
        ],
        [
         "San Juan Municipio"
        ],
        [
         "Villalba Municipio"
        ],
        [
         "Brazos County"
        ],
        [
         "Nicholas County"
        ],
        [
         "Kankakee County"
        ],
        [
         "Lincoln Parish"
        ],
        [
         "Sibley County"
        ],
        [
         "Lo?za Municipio"
        ],
        [
         "Atascosa County"
        ],
        [
         "Wapello County"
        ],
        [
         "Davis County"
        ],
        [
         "Upton County"
        ],
        [
         "Sanilac County"
        ],
        [
         "Luzerne County"
        ],
        [
         "Sequatchie County"
        ],
        [
         "Rockbridge County"
        ],
        [
         "Wadena County"
        ],
        [
         "Buena Vista city"
        ],
        [
         "Grand County"
        ],
        [
         "Harmon County"
        ],
        [
         "Lehigh County"
        ],
        [
         "Kingsbury County"
        ],
        [
         "Whitman County"
        ],
        [
         "Cannon County"
        ],
        [
         "Carteret County"
        ],
        [
         "Botetourt County"
        ],
        [
         "McDonough County"
        ],
        [
         "Lackawanna County"
        ],
        [
         "Barranquitas Municipio"
        ],
        [
         "Gila County"
        ],
        [
         "Lonoke County"
        ],
        [
         "Hamilton County"
        ],
        [
         "Robeson County"
        ],
        [
         "Currituck County"
        ],
        [
         "Roberts County"
        ],
        [
         "Marquette County"
        ],
        [
         "Milwaukee County"
        ],
        [
         "Norfolk city"
        ],
        [
         "Orangeburg County"
        ],
        [
         "Brule County"
        ],
        [
         "Furnas County"
        ],
        [
         "Nye County"
        ],
        [
         "Boulder County"
        ],
        [
         "Angelina County"
        ],
        [
         "Humphreys County"
        ],
        [
         "Langlade County"
        ],
        [
         "Schuylkill County"
        ],
        [
         "Patillas Municipio"
        ],
        [
         "Shoshone County"
        ],
        [
         "Cullman County"
        ],
        [
         "Miami-Dade County"
        ],
        [
         "Bacon County"
        ],
        [
         "Osborne County"
        ],
        [
         "Haralson County"
        ],
        [
         "Berkshire County"
        ],
        [
         "Falls County"
        ],
        [
         "Wallowa County"
        ],
        [
         "Red Lake County"
        ],
        [
         "Abbeville County"
        ],
        [
         "Wheatland County"
        ],
        [
         "Turner County"
        ],
        [
         "Gosper County"
        ],
        [
         "Pasco County"
        ],
        [
         "Yates County"
        ],
        [
         "Fountain County"
        ],
        [
         "Saline County"
        ],
        [
         "Hockley County"
        ],
        [
         "Finney County"
        ],
        [
         "Caroline County"
        ],
        [
         "Edgar County"
        ],
        [
         "Glascock County"
        ],
        [
         "Kanabec County"
        ],
        [
         "Meeker County"
        ],
        [
         "Charleston County"
        ],
        [
         "Schley County"
        ],
        [
         "Wilkinson County"
        ],
        [
         "Keith County"
        ],
        [
         "Haakon County"
        ],
        [
         "Preston County"
        ],
        [
         "Rensselaer County"
        ],
        [
         "Clark County"
        ],
        [
         "Garfield County"
        ],
        [
         "Magoffin County"
        ],
        [
         "Centre County"
        ],
        [
         "Spokane County"
        ],
        [
         "Otoe County"
        ],
        [
         "Moore County"
        ],
        [
         "Nolan County"
        ],
        [
         "Live Oak County"
        ],
        [
         "Douglas County"
        ],
        [
         "Antelope County"
        ],
        [
         "Anne Arundel County"
        ],
        [
         "Bon Homme County"
        ],
        [
         "Hernando County"
        ],
        [
         "Crockett County"
        ],
        [
         "Iowa County"
        ],
        [
         "Randall County"
        ],
        [
         "Auglaize County"
        ],
        [
         "Winkler County"
        ],
        [
         "Goochland County"
        ],
        [
         "Pope County"
        ],
        [
         "Dorado Municipio"
        ],
        [
         "Twiggs County"
        ],
        [
         "Dukes County"
        ],
        [
         "Bates County"
        ],
        [
         "Luce County"
        ],
        [
         "Cape May County"
        ],
        [
         "Izard County"
        ],
        [
         "Tompkins County"
        ],
        [
         "Eddy County"
        ],
        [
         "Bexar County"
        ],
        [
         "Tippecanoe County"
        ],
        [
         "St. Clair County"
        ],
        [
         "Cook County"
        ],
        [
         "Tioga County"
        ],
        [
         "Forrest County"
        ],
        [
         "Utuado Municipio"
        ],
        [
         "North Slope Borough"
        ],
        [
         "Skagway-Hoonah-Angoon Census Area"
        ],
        [
         "Wrangell-Petersburg Census Area"
        ],
        [
         "Dona Ana County"
        ],
        [
         "Clifton Forge city"
        ],
        [
         "Prince of Wales-Outer Ketchikan Census Area"
        ]
       ],
       "datasetInfos": [],
       "dbfsResultPath": null,
       "isJsonSchema": true,
       "metadata": {},
       "overflow": false,
       "plotOptions": {
        "customPlotOptions": {},
        "displayType": "table",
        "pivotAggregation": null,
        "pivotColumns": null,
        "xColumns": null,
        "yColumns": null
       },
       "removedWidgets": [],
       "schema": [
        {
         "metadata": "{}",
         "name": "countyname",
         "type": "\"string\""
        }
       ],
       "type": "table"
      }
     },
     "output_type": "display_data"
    }
   ],
   "source": [
    "display(spark.sql('SELECT distinct countyname FROM source'))"
   ]
  },
  {
   "cell_type": "markdown",
   "metadata": {
    "application/vnd.databricks.v1+cell": {
     "cellMetadata": {},
     "inputWidgets": {},
     "nuid": "d499a539-d5d2-42c2-bc06-457471649f3d",
     "showTitle": false,
     "title": ""
    }
   },
   "source": [
    "Display total population by year"
   ]
  },
  {
   "cell_type": "code",
   "execution_count": 0,
   "metadata": {
    "application/vnd.databricks.v1+cell": {
     "cellMetadata": {
      "byteLimit": 2048000,
      "rowLimit": 10000
     },
     "inputWidgets": {},
     "nuid": "4af221f4-561b-442f-82a4-f4ea151be48b",
     "showTitle": false,
     "title": ""
    }
   },
   "outputs": [
    {
     "output_type": "display_data",
     "data": {
      "text/html": [
       "<style scoped>\n",
       "  .table-result-container {\n",
       "    max-height: 300px;\n",
       "    overflow: auto;\n",
       "  }\n",
       "  table, th, td {\n",
       "    border: 1px solid black;\n",
       "    border-collapse: collapse;\n",
       "  }\n",
       "  th, td {\n",
       "    padding: 5px;\n",
       "  }\n",
       "  th {\n",
       "    text-align: left;\n",
       "  }\n",
       "</style><div class='table-result-container'><table class='table-result'><thead style='background-color: white'><tr><th>year</th><th>Total_Population</th></tr></thead><tbody><tr><td>2010</td><td>1855296</td></tr><tr><td>2000</td><td>1809216</td></tr></tbody></table></div>"
      ]
     },
     "metadata": {
      "application/vnd.databricks.v1+output": {
       "addedWidgets": {},
       "aggData": [],
       "aggError": "",
       "aggOverflow": false,
       "aggSchema": [],
       "aggSeriesLimitReached": false,
       "aggType": "",
       "arguments": {},
       "columnCustomDisplayInfos": {},
       "data": [
        [
         2010,
         1855296
        ],
        [
         2000,
         1809216
        ]
       ],
       "datasetInfos": [],
       "dbfsResultPath": null,
       "isJsonSchema": true,
       "metadata": {},
       "overflow": false,
       "plotOptions": {
        "customPlotOptions": {},
        "displayType": "table",
        "pivotAggregation": null,
        "pivotColumns": null,
        "xColumns": null,
        "yColumns": null
       },
       "removedWidgets": [],
       "schema": [
        {
         "metadata": "{}",
         "name": "year",
         "type": "\"integer\""
        },
        {
         "metadata": "{}",
         "name": "Total_Population",
         "type": "\"long\""
        }
       ],
       "type": "table"
      }
     },
     "output_type": "display_data"
    },
    {
     "output_type": "display_data",
     "data": {
      "text/plain": [
       "Databricks visualization. Run in Databricks to view."
      ]
     },
     "metadata": {
      "application/vnd.databricks.v1.subcommand+json": {
       "baseErrorDetails": null,
       "bindings": {},
       "collapsed": false,
       "command": "%python\n__backend_agg_display_orig = display\n__backend_agg_dfs = []\ndef __backend_agg_display_new(df):\n    __backend_agg_df_modules = [\"pandas.core.frame\", \"databricks.koalas.frame\", \"pyspark.sql.dataframe\", \"pyspark.pandas.frame\", \"pyspark.sql.connect.dataframe\"]\n    if (type(df).__module__ in __backend_agg_df_modules and type(df).__name__ == 'DataFrame') or isinstance(df, list):\n        __backend_agg_dfs.append(df)\n\ndisplay = __backend_agg_display_new\n\ndef __backend_agg_user_code_fn():\n    import base64\n    exec(base64.standard_b64decode(\"ZGlzcGxheShzcGFyay5zcWwoJ1NFTEVDVCB5ZWFyLCBjb3VudChwb3B1bGF0aW9uKSBBUyBUb3RhbF9Qb3B1bGF0aW9uIEZST00gc291cmNlIGdyb3VwIGJ5IHllYXInKSk=\").decode())\n\ntry:\n    # run user code\n    __backend_agg_user_code_fn()\n\n    #reset display function\n    display = __backend_agg_display_orig\n\n    if len(__backend_agg_dfs) > 0:\n        # create a temp view\n        if type(__backend_agg_dfs[0]).__module__ == \"databricks.koalas.frame\":\n            # koalas dataframe\n            __backend_agg_dfs[0].to_spark().createOrReplaceTempView(\"DatabricksView7e767eb\")\n        elif type(__backend_agg_dfs[0]).__module__ == \"pandas.core.frame\" or isinstance(__backend_agg_dfs[0], list):\n            # pandas dataframe\n            spark.createDataFrame(__backend_agg_dfs[0]).createOrReplaceTempView(\"DatabricksView7e767eb\")\n        else:\n            __backend_agg_dfs[0].createOrReplaceTempView(\"DatabricksView7e767eb\")\n        #run backend agg\n        display(spark.sql(\"\"\"WITH q AS (select * from DatabricksView7e767eb) SELECT `year`,SUM(`Total_Population`) `column_4d9ecc9725` FROM q GROUP BY `year`\"\"\"))\n    else:\n        displayHTML(\"dataframe no longer exists. If you're using dataframe.display(), use display(dataframe) instead.\")\n\n\nfinally:\n    spark.sql(\"drop view if exists DatabricksView7e767eb\")\n    display = __backend_agg_display_orig\n    del __backend_agg_display_new\n    del __backend_agg_display_orig\n    del __backend_agg_dfs\n    del __backend_agg_user_code_fn\n\n",
       "commandTitle": "Pie Chart",
       "commandType": "auto",
       "commandVersion": 0,
       "commentThread": [],
       "commentsVisible": false,
       "contentSha256Hex": null,
       "customPlotOptions": {
        "redashChart": [
         {
          "key": "type",
          "value": "CHART"
         },
         {
          "key": "options",
          "value": {
           "alignYAxesAtZero": true,
           "coefficient": 1,
           "columnConfigurationMap": {
            "x": {
             "column": "year",
             "id": "column_4d9ecc9721"
            },
            "y": [
             {
              "column": "Total_Population",
              "id": "column_4d9ecc9725",
              "transform": "SUM"
             }
            ]
           },
           "dateTimeFormat": "DD/MM/YYYY HH:mm",
           "direction": {
            "type": "counterclockwise"
           },
           "error_y": {
            "type": "data",
            "visible": true
           },
           "globalSeriesType": "pie",
           "isAggregationOn": true,
           "legend": {
            "traceorder": "normal"
           },
           "missingValuesAsZero": true,
           "numberFormat": "0,0.[00000]",
           "percentFormat": "0[.]00%",
           "series": {
            "error_y": {
             "type": "data",
             "visible": true
            },
            "stacking": null
           },
           "seriesOptions": {
            "Total_Population": {
             "type": "pie",
             "yAxis": 0
            },
            "column_4d9ecc9722": {
             "type": "pie",
             "yAxis": 0
            },
            "column_4d9ecc9725": {
             "name": "Population",
             "type": "pie",
             "yAxis": 0
            }
           },
           "showDataLabels": true,
           "sizemode": "diameter",
           "sortX": true,
           "sortY": true,
           "swappedAxes": false,
           "textFormat": "",
           "useAggregationsUi": true,
           "valuesOptions": {},
           "version": 2,
           "xAxis": {
            "labels": {
             "enabled": true
            },
            "type": "-"
           },
           "yAxis": [
            {
             "type": "-"
            },
            {
             "opposite": true,
             "type": "-"
            }
           ]
          }
         }
        ]
       },
       "datasetPreviewNameToCmdIdMap": {},
       "diffDeletes": [],
       "diffInserts": [],
       "displayType": "redashChart",
       "error": null,
       "errorDetails": null,
       "errorSummary": null,
       "errorTraceType": null,
       "finishTime": 0,
       "globalVars": {},
       "guid": "",
       "height": "auto",
       "hideCommandCode": false,
       "hideCommandResult": false,
       "iPythonMetadata": null,
       "inputWidgets": {},
       "isLockedInExamMode": false,
       "latestUser": "a user",
       "latestUserId": null,
       "listResultMetadata": null,
       "metadata": {},
       "nuid": "54729b38-2f6d-47c3-bf9e-c5d4ee506801",
       "origId": 0,
       "parentHierarchy": [],
       "pivotAggregation": null,
       "pivotColumns": null,
       "position": 8.0,
       "resultDbfsErrorMessage": null,
       "resultDbfsStatus": "INLINED_IN_TREE",
       "results": null,
       "showCommandTitle": false,
       "startTime": 0,
       "state": "input",
       "streamStates": {},
       "subcommandOptions": {
        "queryPlan": {
         "groups": [
          {
           "column": "year",
           "type": "column"
          }
         ],
         "selects": [
          {
           "column": "year",
           "type": "column"
          },
          {
           "alias": "column_4d9ecc9725",
           "args": [
            {
             "column": "Total_Population",
             "type": "column"
            }
           ],
           "function": "SUM",
           "type": "function"
          }
         ]
        }
       },
       "submitTime": 0,
       "subtype": "tableResultSubCmd.visualization",
       "tableResultIndex": 0,
       "useConsistentColors": false,
       "version": "CommandV1",
       "width": "auto",
       "workflows": [],
       "xColumns": null,
       "yColumns": null
      }
     },
     "output_type": "display_data"
    }
   ],
   "source": [
    "display(spark.sql('SELECT year, count(population) AS Total_Population FROM source group by year'))"
   ]
  },
  {
   "cell_type": "code",
   "execution_count": 0,
   "metadata": {
    "application/vnd.databricks.v1+cell": {
     "cellMetadata": {
      "byteLimit": 2048000,
      "rowLimit": 10000
     },
     "inputWidgets": {},
     "nuid": "a3636427-b1e5-4c02-a78a-5f7aa02384c1",
     "showTitle": false,
     "title": ""
    }
   },
   "outputs": [
    {
     "output_type": "display_data",
     "data": {
      "text/html": [
       "<style scoped>\n",
       "  .table-result-container {\n",
       "    max-height: 300px;\n",
       "    overflow: auto;\n",
       "  }\n",
       "  table, th, td {\n",
       "    border: 1px solid black;\n",
       "    border-collapse: collapse;\n",
       "  }\n",
       "  th, td {\n",
       "    padding: 5px;\n",
       "  }\n",
       "  th {\n",
       "    text-align: left;\n",
       "  }\n",
       "</style><div class='table-result-container'><table class='table-result'><thead style='background-color: white'><tr><th>race</th></tr></thead><tbody><tr><td>AMERICAN INDIAN AND ALASKA NATIVE ALONE</td></tr><tr><td>null</td></tr><tr><td>WHITE ALONE</td></tr><tr><td>ASIAN ALONE</td></tr><tr><td>NATIVE HAWAIIAN AND OTHER PACIFIC ISLANDER ALONE</td></tr><tr><td>SOME OTHER RACE ALONE</td></tr><tr><td>TWO OR MORE RACES</td></tr><tr><td>BLACK OR AFRICAN AMERICAN ALONE</td></tr></tbody></table></div>"
      ]
     },
     "metadata": {
      "application/vnd.databricks.v1+output": {
       "addedWidgets": {},
       "aggData": [],
       "aggError": "",
       "aggOverflow": false,
       "aggSchema": [],
       "aggSeriesLimitReached": false,
       "aggType": "",
       "arguments": {},
       "columnCustomDisplayInfos": {},
       "data": [
        [
         "AMERICAN INDIAN AND ALASKA NATIVE ALONE"
        ],
        [
         null
        ],
        [
         "WHITE ALONE"
        ],
        [
         "ASIAN ALONE"
        ],
        [
         "NATIVE HAWAIIAN AND OTHER PACIFIC ISLANDER ALONE"
        ],
        [
         "SOME OTHER RACE ALONE"
        ],
        [
         "TWO OR MORE RACES"
        ],
        [
         "BLACK OR AFRICAN AMERICAN ALONE"
        ]
       ],
       "datasetInfos": [],
       "dbfsResultPath": null,
       "isJsonSchema": true,
       "metadata": {},
       "overflow": false,
       "plotOptions": {
        "customPlotOptions": {},
        "displayType": "table",
        "pivotAggregation": null,
        "pivotColumns": null,
        "xColumns": null,
        "yColumns": null
       },
       "removedWidgets": [],
       "schema": [
        {
         "metadata": "{}",
         "name": "race",
         "type": "\"string\""
        }
       ],
       "type": "table"
      }
     },
     "output_type": "display_data"
    }
   ],
   "source": [
    "display(spark.sql('SELECT distinct race FROM source'))"
   ]
  },
  {
   "cell_type": "code",
   "execution_count": 0,
   "metadata": {
    "application/vnd.databricks.v1+cell": {
     "cellMetadata": {
      "byteLimit": 2048000,
      "rowLimit": 10000
     },
     "inputWidgets": {},
     "nuid": "fa7bd5de-3709-4c91-ad24-bba660cf7064",
     "showTitle": false,
     "title": ""
    }
   },
   "outputs": [
    {
     "output_type": "display_data",
     "data": {
      "text/html": [
       "<style scoped>\n",
       "  .table-result-container {\n",
       "    max-height: 300px;\n",
       "    overflow: auto;\n",
       "  }\n",
       "  table, th, td {\n",
       "    border: 1px solid black;\n",
       "    border-collapse: collapse;\n",
       "  }\n",
       "  th, td {\n",
       "    padding: 5px;\n",
       "  }\n",
       "  th {\n",
       "    text-align: left;\n",
       "  }\n",
       "</style><div class='table-result-container'><table class='table-result'><thead style='background-color: white'><tr><th>year</th><th>statename</th><th>Total_Population</th></tr></thead><tbody><tr><td>2010</td><td>Alabama</td><td>38592</td></tr><tr><td>2000</td><td>Alabama</td><td>38592</td></tr><tr><td>2000</td><td>Alaska</td><td>15552</td></tr><tr><td>2010</td><td>Alaska</td><td>16704</td></tr><tr><td>2000</td><td>Arizona</td><td>8640</td></tr><tr><td>2010</td><td>Arizona</td><td>8640</td></tr><tr><td>2000</td><td>Arkansas</td><td>43200</td></tr><tr><td>2010</td><td>Arkansas</td><td>43200</td></tr><tr><td>2000</td><td>California</td><td>33408</td></tr><tr><td>2010</td><td>California</td><td>33408</td></tr><tr><td>2000</td><td>Colorado</td><td>36288</td></tr><tr><td>2010</td><td>Colorado</td><td>36864</td></tr><tr><td>2000</td><td>Connecticut</td><td>4608</td></tr><tr><td>2010</td><td>Connecticut</td><td>4608</td></tr><tr><td>2010</td><td>Delaware</td><td>1728</td></tr><tr><td>2000</td><td>Delaware</td><td>1728</td></tr><tr><td>2000</td><td>District of Columbia</td><td>576</td></tr><tr><td>2010</td><td>District of Columbia</td><td>576</td></tr><tr><td>2010</td><td>Florida</td><td>38592</td></tr><tr><td>2000</td><td>Florida</td><td>38592</td></tr><tr><td>2000</td><td>Georgia</td><td>91584</td></tr><tr><td>2010</td><td>Georgia</td><td>91584</td></tr><tr><td>2010</td><td>Hawaii</td><td>2880</td></tr><tr><td>2000</td><td>Hawaii</td><td>2880</td></tr><tr><td>2000</td><td>Idaho</td><td>25344</td></tr><tr><td>2010</td><td>Idaho</td><td>25344</td></tr><tr><td>2000</td><td>Illinois</td><td>58752</td></tr><tr><td>2010</td><td>Illinois</td><td>58752</td></tr><tr><td>2010</td><td>Indiana</td><td>52992</td></tr><tr><td>2000</td><td>Indiana</td><td>52992</td></tr><tr><td>2010</td><td>Iowa</td><td>57024</td></tr><tr><td>2000</td><td>Iowa</td><td>57024</td></tr><tr><td>2010</td><td>Kansas</td><td>60480</td></tr><tr><td>2000</td><td>Kansas</td><td>60480</td></tr><tr><td>2010</td><td>Kentucky</td><td>69120</td></tr><tr><td>2000</td><td>Kentucky</td><td>69120</td></tr><tr><td>2010</td><td>Louisiana</td><td>36864</td></tr><tr><td>2000</td><td>Louisiana</td><td>36864</td></tr><tr><td>2000</td><td>Maine</td><td>9216</td></tr><tr><td>2010</td><td>Maine</td><td>9216</td></tr><tr><td>2000</td><td>Maryland</td><td>13824</td></tr><tr><td>2010</td><td>Maryland</td><td>13824</td></tr><tr><td>2000</td><td>Massachusetts</td><td>8064</td></tr><tr><td>2010</td><td>Massachusetts</td><td>8064</td></tr><tr><td>2010</td><td>Michigan</td><td>47808</td></tr><tr><td>2000</td><td>Michigan</td><td>47808</td></tr><tr><td>2010</td><td>Minnesota</td><td>50112</td></tr><tr><td>2000</td><td>Minnesota</td><td>50112</td></tr><tr><td>2000</td><td>Mississippi</td><td>47232</td></tr><tr><td>2010</td><td>Mississippi</td><td>47232</td></tr><tr><td>2010</td><td>Missouri</td><td>66240</td></tr><tr><td>2000</td><td>Missouri</td><td>66240</td></tr><tr><td>2010</td><td>Montana</td><td>32256</td></tr><tr><td>2000</td><td>Montana</td><td>32256</td></tr><tr><td>2010</td><td>Nebraska</td><td>53568</td></tr><tr><td>2000</td><td>Nebraska</td><td>53568</td></tr><tr><td>2010</td><td>Nevada</td><td>9792</td></tr><tr><td>2000</td><td>Nevada</td><td>9792</td></tr><tr><td>2010</td><td>New Hampshire</td><td>5760</td></tr><tr><td>2000</td><td>New Hampshire</td><td>5760</td></tr><tr><td>2000</td><td>New Jersey</td><td>12096</td></tr><tr><td>2010</td><td>New Jersey</td><td>12096</td></tr><tr><td>2010</td><td>New Mexico</td><td>19008</td></tr><tr><td>2000</td><td>New Mexico</td><td>19008</td></tr><tr><td>2010</td><td>New York</td><td>35712</td></tr><tr><td>2000</td><td>New York</td><td>35712</td></tr><tr><td>2000</td><td>North Carolina</td><td>57600</td></tr><tr><td>2010</td><td>North Carolina</td><td>57600</td></tr><tr><td>2010</td><td>North Dakota</td><td>30528</td></tr><tr><td>2000</td><td>North Dakota</td><td>30528</td></tr><tr><td>2000</td><td>Ohio</td><td>50688</td></tr><tr><td>2010</td><td>Ohio</td><td>50688</td></tr><tr><td>2010</td><td>Oklahoma</td><td>44352</td></tr><tr><td>2000</td><td>Oklahoma</td><td>44352</td></tr><tr><td>2010</td><td>Oregon</td><td>20736</td></tr><tr><td>2000</td><td>Oregon</td><td>20736</td></tr><tr><td>2010</td><td>Pennsylvania</td><td>38592</td></tr><tr><td>2000</td><td>Pennsylvania</td><td>38592</td></tr><tr><td>2010</td><td>Puerto Rico</td><td>44928</td></tr><tr><td>2000</td><td>Rhode Island</td><td>2880</td></tr><tr><td>2010</td><td>Rhode Island</td><td>2880</td></tr><tr><td>2000</td><td>South Carolina</td><td>26496</td></tr><tr><td>2010</td><td>South Carolina</td><td>26496</td></tr><tr><td>2000</td><td>South Dakota</td><td>38016</td></tr><tr><td>2010</td><td>South Dakota</td><td>38016</td></tr><tr><td>2000</td><td>Tennessee</td><td>54720</td></tr><tr><td>2010</td><td>Tennessee</td><td>54720</td></tr><tr><td>2000</td><td>Texas</td><td>146304</td></tr><tr><td>2010</td><td>Texas</td><td>146304</td></tr><tr><td>2010</td><td>Utah</td><td>16704</td></tr><tr><td>2000</td><td>Utah</td><td>16704</td></tr><tr><td>2010</td><td>Vermont</td><td>8064</td></tr><tr><td>2000</td><td>Vermont</td><td>8064</td></tr><tr><td>2010</td><td>Virginia</td><td>77184</td></tr><tr><td>2000</td><td>Virginia</td><td>77760</td></tr><tr><td>2000</td><td>Washington</td><td>22464</td></tr><tr><td>2010</td><td>Washington</td><td>22464</td></tr><tr><td>2000</td><td>West Virginia</td><td>31680</td></tr><tr><td>2010</td><td>West Virginia</td><td>31680</td></tr><tr><td>2010</td><td>Wisconsin</td><td>41472</td></tr><tr><td>2000</td><td>Wisconsin</td><td>41472</td></tr><tr><td>2010</td><td>Wyoming</td><td>13248</td></tr><tr><td>2000</td><td>Wyoming</td><td>13248</td></tr></tbody></table></div>"
      ]
     },
     "metadata": {
      "application/vnd.databricks.v1+output": {
       "addedWidgets": {},
       "aggData": [],
       "aggError": "",
       "aggOverflow": false,
       "aggSchema": [],
       "aggSeriesLimitReached": false,
       "aggType": "",
       "arguments": {},
       "columnCustomDisplayInfos": {},
       "data": [
        [
         2010,
         "Alabama",
         38592
        ],
        [
         2000,
         "Alabama",
         38592
        ],
        [
         2000,
         "Alaska",
         15552
        ],
        [
         2010,
         "Alaska",
         16704
        ],
        [
         2000,
         "Arizona",
         8640
        ],
        [
         2010,
         "Arizona",
         8640
        ],
        [
         2000,
         "Arkansas",
         43200
        ],
        [
         2010,
         "Arkansas",
         43200
        ],
        [
         2000,
         "California",
         33408
        ],
        [
         2010,
         "California",
         33408
        ],
        [
         2000,
         "Colorado",
         36288
        ],
        [
         2010,
         "Colorado",
         36864
        ],
        [
         2000,
         "Connecticut",
         4608
        ],
        [
         2010,
         "Connecticut",
         4608
        ],
        [
         2010,
         "Delaware",
         1728
        ],
        [
         2000,
         "Delaware",
         1728
        ],
        [
         2000,
         "District of Columbia",
         576
        ],
        [
         2010,
         "District of Columbia",
         576
        ],
        [
         2010,
         "Florida",
         38592
        ],
        [
         2000,
         "Florida",
         38592
        ],
        [
         2000,
         "Georgia",
         91584
        ],
        [
         2010,
         "Georgia",
         91584
        ],
        [
         2010,
         "Hawaii",
         2880
        ],
        [
         2000,
         "Hawaii",
         2880
        ],
        [
         2000,
         "Idaho",
         25344
        ],
        [
         2010,
         "Idaho",
         25344
        ],
        [
         2000,
         "Illinois",
         58752
        ],
        [
         2010,
         "Illinois",
         58752
        ],
        [
         2010,
         "Indiana",
         52992
        ],
        [
         2000,
         "Indiana",
         52992
        ],
        [
         2010,
         "Iowa",
         57024
        ],
        [
         2000,
         "Iowa",
         57024
        ],
        [
         2010,
         "Kansas",
         60480
        ],
        [
         2000,
         "Kansas",
         60480
        ],
        [
         2010,
         "Kentucky",
         69120
        ],
        [
         2000,
         "Kentucky",
         69120
        ],
        [
         2010,
         "Louisiana",
         36864
        ],
        [
         2000,
         "Louisiana",
         36864
        ],
        [
         2000,
         "Maine",
         9216
        ],
        [
         2010,
         "Maine",
         9216
        ],
        [
         2000,
         "Maryland",
         13824
        ],
        [
         2010,
         "Maryland",
         13824
        ],
        [
         2000,
         "Massachusetts",
         8064
        ],
        [
         2010,
         "Massachusetts",
         8064
        ],
        [
         2010,
         "Michigan",
         47808
        ],
        [
         2000,
         "Michigan",
         47808
        ],
        [
         2010,
         "Minnesota",
         50112
        ],
        [
         2000,
         "Minnesota",
         50112
        ],
        [
         2000,
         "Mississippi",
         47232
        ],
        [
         2010,
         "Mississippi",
         47232
        ],
        [
         2010,
         "Missouri",
         66240
        ],
        [
         2000,
         "Missouri",
         66240
        ],
        [
         2010,
         "Montana",
         32256
        ],
        [
         2000,
         "Montana",
         32256
        ],
        [
         2010,
         "Nebraska",
         53568
        ],
        [
         2000,
         "Nebraska",
         53568
        ],
        [
         2010,
         "Nevada",
         9792
        ],
        [
         2000,
         "Nevada",
         9792
        ],
        [
         2010,
         "New Hampshire",
         5760
        ],
        [
         2000,
         "New Hampshire",
         5760
        ],
        [
         2000,
         "New Jersey",
         12096
        ],
        [
         2010,
         "New Jersey",
         12096
        ],
        [
         2010,
         "New Mexico",
         19008
        ],
        [
         2000,
         "New Mexico",
         19008
        ],
        [
         2010,
         "New York",
         35712
        ],
        [
         2000,
         "New York",
         35712
        ],
        [
         2000,
         "North Carolina",
         57600
        ],
        [
         2010,
         "North Carolina",
         57600
        ],
        [
         2010,
         "North Dakota",
         30528
        ],
        [
         2000,
         "North Dakota",
         30528
        ],
        [
         2000,
         "Ohio",
         50688
        ],
        [
         2010,
         "Ohio",
         50688
        ],
        [
         2010,
         "Oklahoma",
         44352
        ],
        [
         2000,
         "Oklahoma",
         44352
        ],
        [
         2010,
         "Oregon",
         20736
        ],
        [
         2000,
         "Oregon",
         20736
        ],
        [
         2010,
         "Pennsylvania",
         38592
        ],
        [
         2000,
         "Pennsylvania",
         38592
        ],
        [
         2010,
         "Puerto Rico",
         44928
        ],
        [
         2000,
         "Rhode Island",
         2880
        ],
        [
         2010,
         "Rhode Island",
         2880
        ],
        [
         2000,
         "South Carolina",
         26496
        ],
        [
         2010,
         "South Carolina",
         26496
        ],
        [
         2000,
         "South Dakota",
         38016
        ],
        [
         2010,
         "South Dakota",
         38016
        ],
        [
         2000,
         "Tennessee",
         54720
        ],
        [
         2010,
         "Tennessee",
         54720
        ],
        [
         2000,
         "Texas",
         146304
        ],
        [
         2010,
         "Texas",
         146304
        ],
        [
         2010,
         "Utah",
         16704
        ],
        [
         2000,
         "Utah",
         16704
        ],
        [
         2010,
         "Vermont",
         8064
        ],
        [
         2000,
         "Vermont",
         8064
        ],
        [
         2010,
         "Virginia",
         77184
        ],
        [
         2000,
         "Virginia",
         77760
        ],
        [
         2000,
         "Washington",
         22464
        ],
        [
         2010,
         "Washington",
         22464
        ],
        [
         2000,
         "West Virginia",
         31680
        ],
        [
         2010,
         "West Virginia",
         31680
        ],
        [
         2010,
         "Wisconsin",
         41472
        ],
        [
         2000,
         "Wisconsin",
         41472
        ],
        [
         2010,
         "Wyoming",
         13248
        ],
        [
         2000,
         "Wyoming",
         13248
        ]
       ],
       "datasetInfos": [],
       "dbfsResultPath": null,
       "isJsonSchema": true,
       "metadata": {},
       "overflow": false,
       "plotOptions": {
        "customPlotOptions": {},
        "displayType": "table",
        "pivotAggregation": null,
        "pivotColumns": null,
        "xColumns": null,
        "yColumns": null
       },
       "removedWidgets": [],
       "schema": [
        {
         "metadata": "{}",
         "name": "year",
         "type": "\"integer\""
        },
        {
         "metadata": "{}",
         "name": "statename",
         "type": "\"string\""
        },
        {
         "metadata": "{}",
         "name": "Total_Population",
         "type": "\"long\""
        }
       ],
       "type": "table"
      }
     },
     "output_type": "display_data"
    }
   ],
   "source": [
    "display(spark.sql('SELECT year, statename, count(population) AS Total_Population FROM source group by year, statename order by statename'))"
   ]
  },
  {
   "cell_type": "code",
   "execution_count": 0,
   "metadata": {
    "application/vnd.databricks.v1+cell": {
     "cellMetadata": {
      "byteLimit": 2048000,
      "rowLimit": 10000
     },
     "inputWidgets": {},
     "nuid": "0789ad59-e51c-41e5-9298-4f9ff7b90f04",
     "showTitle": false,
     "title": ""
    }
   },
   "outputs": [
    {
     "output_type": "display_data",
     "data": {
      "text/html": [
       "<style scoped>\n",
       "  .table-result-container {\n",
       "    max-height: 300px;\n",
       "    overflow: auto;\n",
       "  }\n",
       "  table, th, td {\n",
       "    border: 1px solid black;\n",
       "    border-collapse: collapse;\n",
       "  }\n",
       "  th, td {\n",
       "    padding: 5px;\n",
       "  }\n",
       "  th {\n",
       "    text-align: left;\n",
       "  }\n",
       "</style><div class='table-result-container'><table class='table-result'><thead style='background-color: white'><tr><th>year</th><th>statename</th><th>Total_Population</th></tr></thead><tbody><tr><td>2010</td><td>Alabama</td><td>38592</td></tr><tr><td>2010</td><td>Alaska</td><td>16704</td></tr><tr><td>2010</td><td>Arizona</td><td>8640</td></tr><tr><td>2010</td><td>Arkansas</td><td>43200</td></tr><tr><td>2010</td><td>California</td><td>33408</td></tr><tr><td>2010</td><td>Colorado</td><td>36864</td></tr><tr><td>2010</td><td>Connecticut</td><td>4608</td></tr><tr><td>2010</td><td>Delaware</td><td>1728</td></tr><tr><td>2010</td><td>District of Columbia</td><td>576</td></tr><tr><td>2010</td><td>Florida</td><td>38592</td></tr><tr><td>2010</td><td>Georgia</td><td>91584</td></tr><tr><td>2010</td><td>Hawaii</td><td>2880</td></tr><tr><td>2010</td><td>Idaho</td><td>25344</td></tr><tr><td>2010</td><td>Illinois</td><td>58752</td></tr><tr><td>2010</td><td>Indiana</td><td>52992</td></tr><tr><td>2010</td><td>Iowa</td><td>57024</td></tr><tr><td>2010</td><td>Kansas</td><td>60480</td></tr><tr><td>2010</td><td>Kentucky</td><td>69120</td></tr><tr><td>2010</td><td>Louisiana</td><td>36864</td></tr><tr><td>2010</td><td>Maine</td><td>9216</td></tr><tr><td>2010</td><td>Maryland</td><td>13824</td></tr><tr><td>2010</td><td>Massachusetts</td><td>8064</td></tr><tr><td>2010</td><td>Michigan</td><td>47808</td></tr><tr><td>2010</td><td>Minnesota</td><td>50112</td></tr><tr><td>2010</td><td>Mississippi</td><td>47232</td></tr><tr><td>2010</td><td>Missouri</td><td>66240</td></tr><tr><td>2010</td><td>Montana</td><td>32256</td></tr><tr><td>2010</td><td>Nebraska</td><td>53568</td></tr><tr><td>2010</td><td>Nevada</td><td>9792</td></tr><tr><td>2010</td><td>New Hampshire</td><td>5760</td></tr><tr><td>2010</td><td>New Jersey</td><td>12096</td></tr><tr><td>2010</td><td>New Mexico</td><td>19008</td></tr><tr><td>2010</td><td>New York</td><td>35712</td></tr><tr><td>2010</td><td>North Carolina</td><td>57600</td></tr><tr><td>2010</td><td>North Dakota</td><td>30528</td></tr><tr><td>2010</td><td>Ohio</td><td>50688</td></tr><tr><td>2010</td><td>Oklahoma</td><td>44352</td></tr><tr><td>2010</td><td>Oregon</td><td>20736</td></tr><tr><td>2010</td><td>Pennsylvania</td><td>38592</td></tr><tr><td>2010</td><td>Puerto Rico</td><td>44928</td></tr><tr><td>2010</td><td>Rhode Island</td><td>2880</td></tr><tr><td>2010</td><td>South Carolina</td><td>26496</td></tr><tr><td>2010</td><td>South Dakota</td><td>38016</td></tr><tr><td>2010</td><td>Tennessee</td><td>54720</td></tr><tr><td>2010</td><td>Texas</td><td>146304</td></tr><tr><td>2010</td><td>Utah</td><td>16704</td></tr><tr><td>2010</td><td>Vermont</td><td>8064</td></tr><tr><td>2010</td><td>Virginia</td><td>77184</td></tr><tr><td>2010</td><td>Washington</td><td>22464</td></tr><tr><td>2010</td><td>West Virginia</td><td>31680</td></tr><tr><td>2010</td><td>Wisconsin</td><td>41472</td></tr><tr><td>2010</td><td>Wyoming</td><td>13248</td></tr></tbody></table></div>"
      ]
     },
     "metadata": {
      "application/vnd.databricks.v1+output": {
       "addedWidgets": {},
       "aggData": [],
       "aggError": "",
       "aggOverflow": false,
       "aggSchema": [],
       "aggSeriesLimitReached": false,
       "aggType": "",
       "arguments": {},
       "columnCustomDisplayInfos": {},
       "data": [
        [
         2010,
         "Alabama",
         38592
        ],
        [
         2010,
         "Alaska",
         16704
        ],
        [
         2010,
         "Arizona",
         8640
        ],
        [
         2010,
         "Arkansas",
         43200
        ],
        [
         2010,
         "California",
         33408
        ],
        [
         2010,
         "Colorado",
         36864
        ],
        [
         2010,
         "Connecticut",
         4608
        ],
        [
         2010,
         "Delaware",
         1728
        ],
        [
         2010,
         "District of Columbia",
         576
        ],
        [
         2010,
         "Florida",
         38592
        ],
        [
         2010,
         "Georgia",
         91584
        ],
        [
         2010,
         "Hawaii",
         2880
        ],
        [
         2010,
         "Idaho",
         25344
        ],
        [
         2010,
         "Illinois",
         58752
        ],
        [
         2010,
         "Indiana",
         52992
        ],
        [
         2010,
         "Iowa",
         57024
        ],
        [
         2010,
         "Kansas",
         60480
        ],
        [
         2010,
         "Kentucky",
         69120
        ],
        [
         2010,
         "Louisiana",
         36864
        ],
        [
         2010,
         "Maine",
         9216
        ],
        [
         2010,
         "Maryland",
         13824
        ],
        [
         2010,
         "Massachusetts",
         8064
        ],
        [
         2010,
         "Michigan",
         47808
        ],
        [
         2010,
         "Minnesota",
         50112
        ],
        [
         2010,
         "Mississippi",
         47232
        ],
        [
         2010,
         "Missouri",
         66240
        ],
        [
         2010,
         "Montana",
         32256
        ],
        [
         2010,
         "Nebraska",
         53568
        ],
        [
         2010,
         "Nevada",
         9792
        ],
        [
         2010,
         "New Hampshire",
         5760
        ],
        [
         2010,
         "New Jersey",
         12096
        ],
        [
         2010,
         "New Mexico",
         19008
        ],
        [
         2010,
         "New York",
         35712
        ],
        [
         2010,
         "North Carolina",
         57600
        ],
        [
         2010,
         "North Dakota",
         30528
        ],
        [
         2010,
         "Ohio",
         50688
        ],
        [
         2010,
         "Oklahoma",
         44352
        ],
        [
         2010,
         "Oregon",
         20736
        ],
        [
         2010,
         "Pennsylvania",
         38592
        ],
        [
         2010,
         "Puerto Rico",
         44928
        ],
        [
         2010,
         "Rhode Island",
         2880
        ],
        [
         2010,
         "South Carolina",
         26496
        ],
        [
         2010,
         "South Dakota",
         38016
        ],
        [
         2010,
         "Tennessee",
         54720
        ],
        [
         2010,
         "Texas",
         146304
        ],
        [
         2010,
         "Utah",
         16704
        ],
        [
         2010,
         "Vermont",
         8064
        ],
        [
         2010,
         "Virginia",
         77184
        ],
        [
         2010,
         "Washington",
         22464
        ],
        [
         2010,
         "West Virginia",
         31680
        ],
        [
         2010,
         "Wisconsin",
         41472
        ],
        [
         2010,
         "Wyoming",
         13248
        ]
       ],
       "datasetInfos": [],
       "dbfsResultPath": null,
       "isJsonSchema": true,
       "metadata": {},
       "overflow": false,
       "plotOptions": {
        "customPlotOptions": {},
        "displayType": "table",
        "pivotAggregation": null,
        "pivotColumns": null,
        "xColumns": null,
        "yColumns": null
       },
       "removedWidgets": [],
       "schema": [
        {
         "metadata": "{}",
         "name": "year",
         "type": "\"integer\""
        },
        {
         "metadata": "{}",
         "name": "statename",
         "type": "\"string\""
        },
        {
         "metadata": "{}",
         "name": "Total_Population",
         "type": "\"long\""
        }
       ],
       "type": "table"
      }
     },
     "output_type": "display_data"
    }
   ],
   "source": [
    "display(spark.sql('SELECT year, statename, count(population) AS Total_Population FROM source WHERE year = 2010 group by year, statename order by statename'))"
   ]
  },
  {
   "cell_type": "code",
   "execution_count": 0,
   "metadata": {
    "application/vnd.databricks.v1+cell": {
     "cellMetadata": {
      "byteLimit": 2048000,
      "rowLimit": 10000
     },
     "inputWidgets": {},
     "nuid": "c245eaee-8db4-470a-af89-1ba2ce0cad43",
     "showTitle": false,
     "title": ""
    }
   },
   "outputs": [
    {
     "output_type": "display_data",
     "data": {
      "text/html": [
       "<style scoped>\n",
       "  .table-result-container {\n",
       "    max-height: 300px;\n",
       "    overflow: auto;\n",
       "  }\n",
       "  table, th, td {\n",
       "    border: 1px solid black;\n",
       "    border-collapse: collapse;\n",
       "  }\n",
       "  th, td {\n",
       "    padding: 5px;\n",
       "  }\n",
       "  th {\n",
       "    text-align: left;\n",
       "  }\n",
       "</style><div class='table-result-container'><table class='table-result'><thead style='background-color: white'><tr><th>year</th><th>sex</th><th>Total_Population</th></tr></thead><tbody><tr><td>2010</td><td>Male</td><td>618432</td></tr><tr><td>2010</td><td>Female</td><td>618432</td></tr><tr><td>2010</td><td>null</td><td>618432</td></tr><tr><td>2000</td><td>Male</td><td>603072</td></tr><tr><td>2000</td><td>null</td><td>603072</td></tr><tr><td>2000</td><td>Female</td><td>603072</td></tr></tbody></table></div>"
      ]
     },
     "metadata": {
      "application/vnd.databricks.v1+output": {
       "addedWidgets": {},
       "aggData": [],
       "aggError": "",
       "aggOverflow": false,
       "aggSchema": [],
       "aggSeriesLimitReached": false,
       "aggType": "",
       "arguments": {},
       "columnCustomDisplayInfos": {},
       "data": [
        [
         2010,
         "Male",
         618432
        ],
        [
         2010,
         "Female",
         618432
        ],
        [
         2010,
         null,
         618432
        ],
        [
         2000,
         "Male",
         603072
        ],
        [
         2000,
         null,
         603072
        ],
        [
         2000,
         "Female",
         603072
        ]
       ],
       "datasetInfos": [],
       "dbfsResultPath": null,
       "isJsonSchema": true,
       "metadata": {},
       "overflow": false,
       "plotOptions": {
        "customPlotOptions": {},
        "displayType": "table",
        "pivotAggregation": null,
        "pivotColumns": null,
        "xColumns": null,
        "yColumns": null
       },
       "removedWidgets": [],
       "schema": [
        {
         "metadata": "{}",
         "name": "year",
         "type": "\"integer\""
        },
        {
         "metadata": "{}",
         "name": "sex",
         "type": "\"string\""
        },
        {
         "metadata": "{}",
         "name": "Total_Population",
         "type": "\"long\""
        }
       ],
       "type": "table"
      }
     },
     "output_type": "display_data"
    },
    {
     "output_type": "display_data",
     "data": {
      "text/plain": [
       "Databricks visualization. Run in Databricks to view."
      ]
     },
     "metadata": {
      "application/vnd.databricks.v1.subcommand+json": {
       "baseErrorDetails": null,
       "bindings": {},
       "collapsed": false,
       "command": "%python\n__backend_agg_display_orig = display\n__backend_agg_dfs = []\ndef __backend_agg_display_new(df):\n    __backend_agg_df_modules = [\"pandas.core.frame\", \"databricks.koalas.frame\", \"pyspark.sql.dataframe\", \"pyspark.pandas.frame\", \"pyspark.sql.connect.dataframe\"]\n    if (type(df).__module__ in __backend_agg_df_modules and type(df).__name__ == 'DataFrame') or isinstance(df, list):\n        __backend_agg_dfs.append(df)\n\ndisplay = __backend_agg_display_new\n\ndef __backend_agg_user_code_fn():\n    import base64\n    exec(base64.standard_b64decode(\"ZGlzcGxheShzcGFyay5zcWwoJ1NFTEVDVCB5ZWFyLCBzZXgsIGNvdW50KHBvcHVsYXRpb24pIEFTIFRvdGFsX1BvcHVsYXRpb24gRlJPTSBzb3VyY2UgZ3JvdXAgYnkgeWVhcixzZXgnKSk=\").decode())\n\ntry:\n    # run user code\n    __backend_agg_user_code_fn()\n\n    #reset display function\n    display = __backend_agg_display_orig\n\n    if len(__backend_agg_dfs) > 0:\n        # create a temp view\n        if type(__backend_agg_dfs[0]).__module__ == \"databricks.koalas.frame\":\n            # koalas dataframe\n            __backend_agg_dfs[0].to_spark().createOrReplaceTempView(\"DatabricksView96df995\")\n        elif type(__backend_agg_dfs[0]).__module__ == \"pandas.core.frame\" or isinstance(__backend_agg_dfs[0], list):\n            # pandas dataframe\n            spark.createDataFrame(__backend_agg_dfs[0]).createOrReplaceTempView(\"DatabricksView96df995\")\n        else:\n            __backend_agg_dfs[0].createOrReplaceTempView(\"DatabricksView96df995\")\n        #run backend agg\n        display(spark.sql(\"\"\"WITH q AS (select * from DatabricksView96df995) SELECT `sex`,SUM(`Total_Population`) `column_4d9ecc9729`,`year` FROM q GROUP BY `sex`,`year`\"\"\"))\n    else:\n        displayHTML(\"dataframe no longer exists. If you're using dataframe.display(), use display(dataframe) instead.\")\n\n\nfinally:\n    spark.sql(\"drop view if exists DatabricksView96df995\")\n    display = __backend_agg_display_orig\n    del __backend_agg_display_new\n    del __backend_agg_display_orig\n    del __backend_agg_dfs\n    del __backend_agg_user_code_fn\n\n",
       "commandTitle": "Bar Graph",
       "commandType": "auto",
       "commandVersion": 0,
       "commentThread": [],
       "commentsVisible": false,
       "contentSha256Hex": null,
       "customPlotOptions": {
        "redashChart": [
         {
          "key": "type",
          "value": "CHART"
         },
         {
          "key": "options",
          "value": {
           "alignYAxesAtZero": true,
           "coefficient": 1,
           "columnConfigurationMap": {
            "series": {
             "column": "year",
             "id": "column_4d9ecc9736"
            },
            "x": {
             "column": "sex",
             "id": "column_4d9ecc9737"
            },
            "y": [
             {
              "column": "Total_Population",
              "id": "column_4d9ecc9729",
              "transform": "SUM"
             }
            ]
           },
           "dateTimeFormat": "DD/MM/YYYY HH:mm",
           "direction": {
            "type": "counterclockwise"
           },
           "error_y": {
            "type": "data",
            "visible": true
           },
           "globalSeriesType": "column",
           "hideYAxes": false,
           "isAggregationOn": true,
           "legend": {
            "traceorder": "normal"
           },
           "missingValuesAsZero": true,
           "numberFormat": "0,0.[00000]",
           "percentFormat": "0[.]00%",
           "series": {
            "error_y": {
             "type": "data",
             "visible": true
            },
            "stacking": null
           },
           "seriesOptions": {
            "2000": {
             "yAxis": 0
            },
            "2010": {
             "yAxis": 0
            },
            "column_4d9ecc9729": {
             "name": "Total_Population",
             "type": "column",
             "yAxis": 0
            }
           },
           "showDataLabels": false,
           "sizemode": "diameter",
           "sortX": true,
           "sortY": true,
           "swappedAxes": false,
           "textFormat": "",
           "useAggregationsUi": true,
           "valuesOptions": {},
           "version": 2,
           "xAxis": {
            "labels": {
             "enabled": true
            },
            "title": {
             "text": "Category"
            },
            "type": "-"
           },
           "yAxis": [
            {
             "title": {
              "text": "Total Population"
             },
             "type": "-"
            },
            {
             "opposite": true,
             "type": "-"
            }
           ]
          }
         }
        ]
       },
       "datasetPreviewNameToCmdIdMap": {},
       "diffDeletes": [],
       "diffInserts": [],
       "displayType": "redashChart",
       "error": null,
       "errorDetails": null,
       "errorSummary": null,
       "errorTraceType": null,
       "finishTime": 0,
       "globalVars": {},
       "guid": "",
       "height": "auto",
       "hideCommandCode": false,
       "hideCommandResult": false,
       "iPythonMetadata": null,
       "inputWidgets": {},
       "isLockedInExamMode": false,
       "latestUser": "a user",
       "latestUserId": null,
       "listResultMetadata": null,
       "metadata": {},
       "nuid": "32f4f80b-da2c-4308-9dc3-77a3cda5b583",
       "origId": 0,
       "parentHierarchy": [],
       "pivotAggregation": null,
       "pivotColumns": null,
       "position": 9.0,
       "resultDbfsErrorMessage": null,
       "resultDbfsStatus": "INLINED_IN_TREE",
       "results": null,
       "showCommandTitle": false,
       "startTime": 0,
       "state": "input",
       "streamStates": {},
       "subcommandOptions": {
        "queryPlan": {
         "groups": [
          {
           "column": "sex",
           "type": "column"
          },
          {
           "column": "year",
           "type": "column"
          }
         ],
         "selects": [
          {
           "column": "sex",
           "type": "column"
          },
          {
           "alias": "column_4d9ecc9729",
           "args": [
            {
             "column": "Total_Population",
             "type": "column"
            }
           ],
           "function": "SUM",
           "type": "function"
          },
          {
           "column": "year",
           "type": "column"
          }
         ]
        }
       },
       "submitTime": 0,
       "subtype": "tableResultSubCmd.visualization",
       "tableResultIndex": 0,
       "useConsistentColors": false,
       "version": "CommandV1",
       "width": "auto",
       "workflows": [],
       "xColumns": null,
       "yColumns": null
      }
     },
     "output_type": "display_data"
    }
   ],
   "source": [
    "display(spark.sql('SELECT year, sex, count(population) AS Total_Population FROM source group by year,sex'))"
   ]
  }
 ],
 "metadata": {
  "application/vnd.databricks.v1+notebook": {
   "dashboards": [],
   "environmentMetadata": null,
   "language": "python",
   "notebookMetadata": {
    "pythonIndentUnit": 4
   },
   "notebookName": "US Population By Country",
   "widgets": {}
  }
 },
 "nbformat": 4,
 "nbformat_minor": 0
}
