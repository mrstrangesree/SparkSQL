{
 "cells": [
  {
   "cell_type": "markdown",
   "metadata": {
    "application/vnd.databricks.v1+cell": {
     "cellMetadata": {
      "byteLimit": 2048000,
      "rowLimit": 10000
     },
     "inputWidgets": {},
     "nuid": "5f9dd443-f69b-4ab0-9961-db82b8857668",
     "showTitle": false,
     "title": ""
    }
   },
   "source": [
    "### Access respective Azure storage container and blob to fetch data."
   ]
  },
  {
   "cell_type": "code",
   "execution_count": 0,
   "metadata": {
    "application/vnd.databricks.v1+cell": {
     "cellMetadata": {
      "byteLimit": 2048000,
      "rowLimit": 10000
     },
     "inputWidgets": {},
     "nuid": "e5ebff6a-8e45-403c-81ad-5c93a357549f",
     "showTitle": false,
     "title": ""
    },
    "jupyter": {
     "outputs_hidden": true
    }
   },
   "outputs": [],
   "source": [
    "# Azure storage access info\n",
    "blob_account_name = \"azureopendatastorage\"\n",
    "blob_container_name = \"censusdatacontainer\"\n",
    "blob_relative_path = \"release/us_population_zip/\"\n",
    "blob_sas_token = r\"\""
   ]
  },
  {
   "cell_type": "markdown",
   "metadata": {
    "application/vnd.databricks.v1+cell": {
     "cellMetadata": {
      "byteLimit": 2048000,
      "rowLimit": 10000
     },
     "inputWidgets": {},
     "nuid": "1ab9ab8a-b5f9-4b17-90dc-d9623d5bb2e1",
     "showTitle": false,
     "title": ""
    }
   },
   "source": [
    "### Construct remote blob path to access the parquet files remotely."
   ]
  },
  {
   "cell_type": "code",
   "execution_count": 0,
   "metadata": {
    "application/vnd.databricks.v1+cell": {
     "cellMetadata": {
      "byteLimit": 2048000,
      "rowLimit": 10000
     },
     "inputWidgets": {},
     "nuid": "a011e7bf-e8d4-43b4-a3a1-075da5ee7b0d",
     "showTitle": false,
     "title": ""
    }
   },
   "outputs": [],
   "source": [
    "# Allow SPARK to read from Blob remotely\n",
    "wasbs_path = 'wasbs://%s@%s.blob.core.windows.net/%s' % (blob_container_name, blob_account_name, blob_relative_path)\n",
    "spark.conf.set(\n",
    "  'fs.azure.sas.%s.%s.blob.core.windows.net' % (blob_container_name, blob_account_name),\n",
    "  blob_sas_token)\n",
    "print('Remote blob path: ' + wasbs_path)"
   ]
  },
  {
   "cell_type": "markdown",
   "metadata": {
    "application/vnd.databricks.v1+cell": {
     "cellMetadata": {
      "byteLimit": 2048000,
      "rowLimit": 10000
     },
     "inputWidgets": {},
     "nuid": "f1f306b7-b1e3-4476-87c5-ed79f9905f79",
     "showTitle": false,
     "title": ""
    }
   },
   "source": [
    "### Read the parquet files and load the data into Temporary view."
   ]
  },
  {
   "cell_type": "code",
   "execution_count": 0,
   "metadata": {
    "application/vnd.databricks.v1+cell": {
     "cellMetadata": {
      "byteLimit": 2048000,
      "rowLimit": 10000
     },
     "inputWidgets": {},
     "nuid": "b80c1878-9d03-4be0-92d8-cb47fc97f531",
     "showTitle": false,
     "title": ""
    }
   },
   "outputs": [],
   "source": [
    "# SPARK read parquet, note that it won't load any data yet by now\n",
    "df = spark.read.parquet(wasbs_path)\n",
    "print('Register the DataFrame as a SQL temporary view: source')\n",
    "df.createOrReplaceTempView('source')"
   ]
  },
  {
   "cell_type": "markdown",
   "metadata": {
    "application/vnd.databricks.v1+cell": {
     "cellMetadata": {
      "byteLimit": 2048000,
      "rowLimit": 10000
     },
     "inputWidgets": {},
     "nuid": "f6dbba79-542b-4504-b5cf-db1dce20c92f",
     "showTitle": false,
     "title": ""
    }
   },
   "source": [
    "### SQL Operations on the Temporary View."
   ]
  },
  {
   "cell_type": "markdown",
   "metadata": {
    "application/vnd.databricks.v1+cell": {
     "cellMetadata": {
      "byteLimit": 2048000,
      "rowLimit": 10000
     },
     "inputWidgets": {},
     "nuid": "a5b1905e-4be8-4382-8ce3-949e29b931ba",
     "showTitle": false,
     "title": ""
    }
   },
   "source": [
    "Display total number of rows"
   ]
  },
  {
   "cell_type": "code",
   "execution_count": 0,
   "metadata": {
    "application/vnd.databricks.v1+cell": {
     "cellMetadata": {
      "byteLimit": 2048000,
      "rowLimit": 10000
     },
     "inputWidgets": {},
     "nuid": "53d756a9-f0f4-4a99-a85c-b85371623227",
     "showTitle": false,
     "title": ""
    }
   },
   "outputs": [],
   "source": [
    "#Display total number of rows:\n",
    "print(\"Count of rows :\")\n",
    "display(spark.sql('SELECT count(*) as Count FROM source'))"
   ]
  },
  {
   "cell_type": "markdown",
   "metadata": {
    "application/vnd.databricks.v1+cell": {
     "cellMetadata": {
      "byteLimit": 2048000,
      "rowLimit": 10000
     },
     "inputWidgets": {},
     "nuid": "5923550b-be77-4cdd-a611-df36e13d7b90",
     "showTitle": false,
     "title": ""
    }
   },
   "source": [
    "Display top 10 rows"
   ]
  },
  {
   "cell_type": "code",
   "execution_count": 0,
   "metadata": {
    "application/vnd.databricks.v1+cell": {
     "cellMetadata": {
      "byteLimit": 2048000,
      "rowLimit": 10000
     },
     "inputWidgets": {},
     "nuid": "1a672f37-ba69-4e21-bf90-5646f9b9987d",
     "showTitle": false,
     "title": ""
    }
   },
   "outputs": [],
   "source": [
    "# Display top 10 rows\n",
    "display(spark.sql('SELECT * FROM source LIMIT 10'))"
   ]
  },
  {
   "cell_type": "markdown",
   "metadata": {
    "application/vnd.databricks.v1+cell": {
     "cellMetadata": {
      "byteLimit": 2048000,
      "rowLimit": 10000
     },
     "inputWidgets": {},
     "nuid": "fa3fb3a2-eb2d-4127-8cf2-cadda4caf24b",
     "showTitle": false,
     "title": ""
    }
   },
   "source": [
    "Display top 10 rows by specifying column names"
   ]
  },
  {
   "cell_type": "code",
   "execution_count": 0,
   "metadata": {
    "application/vnd.databricks.v1+cell": {
     "cellMetadata": {
      "byteLimit": 2048000,
      "rowLimit": 10000
     },
     "inputWidgets": {},
     "nuid": "e1d5f274-b597-464d-bb0b-e07af96a25c0",
     "showTitle": false,
     "title": ""
    }
   },
   "outputs": [],
   "source": [
    "display(spark.sql('SELECT year, ZipCode, race, sex, minage, maxage, population FROM source LIMIT 10'))"
   ]
  },
  {
   "cell_type": "markdown",
   "metadata": {
    "application/vnd.databricks.v1+cell": {
     "cellMetadata": {
      "byteLimit": 2048000,
      "rowLimit": 10000
     },
     "inputWidgets": {},
     "nuid": "e775220c-01be-429d-90e1-4b301cf661a7",
     "showTitle": false,
     "title": ""
    }
   },
   "source": [
    "Display list of unique years from the data"
   ]
  },
  {
   "cell_type": "code",
   "execution_count": 0,
   "metadata": {
    "application/vnd.databricks.v1+cell": {
     "cellMetadata": {
      "byteLimit": 2048000,
      "rowLimit": 10000
     },
     "inputWidgets": {},
     "nuid": "c85b4696-0c49-4db4-8cc9-db84b3acce9d",
     "showTitle": false,
     "title": ""
    }
   },
   "outputs": [],
   "source": [
    "\n",
    "display(spark.sql('SELECT distinct year FROM source'))"
   ]
  },
  {
   "cell_type": "markdown",
   "metadata": {
    "application/vnd.databricks.v1+cell": {
     "cellMetadata": {
      "byteLimit": 2048000,
      "rowLimit": 10000
     },
     "inputWidgets": {},
     "nuid": "62452147-e0b9-4fd2-8672-807b5d5c43f2",
     "showTitle": false,
     "title": ""
    }
   },
   "source": [
    "Display the list of unique ZipCodes from the data"
   ]
  },
  {
   "cell_type": "code",
   "execution_count": 0,
   "metadata": {
    "application/vnd.databricks.v1+cell": {
     "cellMetadata": {
      "byteLimit": 2048000,
      "rowLimit": 10000
     },
     "inputWidgets": {},
     "nuid": "f91fbc14-bcf9-48a3-8d91-0a4b1c80129a",
     "showTitle": false,
     "title": ""
    }
   },
   "outputs": [],
   "source": [
    "display(spark.sql('SELECT distinct ZipCode FROM source'))"
   ]
  },
  {
   "cell_type": "markdown",
   "metadata": {
    "application/vnd.databricks.v1+cell": {
     "cellMetadata": {
      "byteLimit": 2048000,
      "rowLimit": 10000
     },
     "inputWidgets": {},
     "nuid": "49b66185-3453-44d2-973c-67267639f5b8",
     "showTitle": false,
     "title": ""
    }
   },
   "source": [
    "Display unique race from the data"
   ]
  },
  {
   "cell_type": "code",
   "execution_count": 0,
   "metadata": {
    "application/vnd.databricks.v1+cell": {
     "cellMetadata": {
      "byteLimit": 2048000,
      "rowLimit": 10000
     },
     "inputWidgets": {},
     "nuid": "a3636427-b1e5-4c02-a78a-5f7aa02384c1",
     "showTitle": false,
     "title": ""
    }
   },
   "outputs": [],
   "source": [
    "display(spark.sql('SELECT distinct race FROM source'))"
   ]
  },
  {
   "cell_type": "markdown",
   "metadata": {
    "application/vnd.databricks.v1+cell": {
     "cellMetadata": {
      "byteLimit": 2048000,
      "rowLimit": 10000
     },
     "inputWidgets": {},
     "nuid": "d499a539-d5d2-42c2-bc06-457471649f3d",
     "showTitle": false,
     "title": ""
    }
   },
   "source": [
    "Display total population by year"
   ]
  },
  {
   "cell_type": "code",
   "execution_count": 0,
   "metadata": {
    "application/vnd.databricks.v1+cell": {
     "cellMetadata": {
      "byteLimit": 2048000,
      "rowLimit": 10000
     },
     "inputWidgets": {},
     "nuid": "4af221f4-561b-442f-82a4-f4ea151be48b",
     "showTitle": false,
     "title": ""
    }
   },
   "outputs": [],
   "source": [
    "display(spark.sql('SELECT year, SUM(population) AS Total_Population FROM source group by year'))"
   ]
  },
  {
   "cell_type": "markdown",
   "metadata": {
    "application/vnd.databricks.v1+cell": {
     "cellMetadata": {
      "byteLimit": 2048000,
      "rowLimit": 10000
     },
     "inputWidgets": {},
     "nuid": "5d5411a6-67bb-41c5-b9c2-16e2d914e153",
     "showTitle": false,
     "title": ""
    }
   },
   "source": [
    "Display total population by year and ZipCode"
   ]
  },
  {
   "cell_type": "code",
   "execution_count": 0,
   "metadata": {
    "application/vnd.databricks.v1+cell": {
     "cellMetadata": {
      "byteLimit": 2048000,
      "rowLimit": 10000
     },
     "inputWidgets": {},
     "nuid": "fa7bd5de-3709-4c91-ad24-bba660cf7064",
     "showTitle": false,
     "title": ""
    }
   },
   "outputs": [],
   "source": [
    "display(spark.sql('SELECT year, ZipCode, SUM(population) AS Total_Population FROM source group by year, ZipCode order by year, ZipCode'))"
   ]
  },
  {
   "cell_type": "markdown",
   "metadata": {
    "application/vnd.databricks.v1+cell": {
     "cellMetadata": {},
     "inputWidgets": {},
     "nuid": "26e40bc4-f0d7-48a4-9b53-04618e65e045",
     "showTitle": false,
     "title": ""
    }
   },
   "source": [
    "Display top 100 populated ZipCode by year"
   ]
  },
  {
   "cell_type": "code",
   "execution_count": 0,
   "metadata": {
    "application/vnd.databricks.v1+cell": {
     "cellMetadata": {
      "byteLimit": 2048000,
      "rowLimit": 10000
     },
     "inputWidgets": {},
     "nuid": "f600bafd-7141-43d4-b104-e907affd354f",
     "showTitle": false,
     "title": ""
    }
   },
   "outputs": [],
   "source": [
    "display(spark.sql('SELECT year, ZipCode, SUM(population) AS Total_Population FROM source group by year, ZipCode order by Total_Population desc, year, ZipCode LIMIT 100'))"
   ]
  },
  {
   "cell_type": "markdown",
   "metadata": {
    "application/vnd.databricks.v1+cell": {
     "cellMetadata": {
      "byteLimit": 2048000,
      "rowLimit": 10000
     },
     "inputWidgets": {},
     "nuid": "15f5cdda-5d01-4658-847a-9b0b3655955c",
     "showTitle": false,
     "title": ""
    }
   },
   "source": [
    "Display total population by year, ZipCode and race"
   ]
  },
  {
   "cell_type": "code",
   "execution_count": 0,
   "metadata": {
    "application/vnd.databricks.v1+cell": {
     "cellMetadata": {
      "byteLimit": 2048000,
      "rowLimit": 10000
     },
     "inputWidgets": {},
     "nuid": "826ea69a-3bac-4bce-b82a-40051bfaa99a",
     "showTitle": false,
     "title": ""
    }
   },
   "outputs": [],
   "source": [
    "display(spark.sql('SELECT year, ZipCode, race, SUM(population) AS Total_Population FROM source group by year, ZipCode,race order by year, ZipCode, race'))"
   ]
  },
  {
   "cell_type": "markdown",
   "metadata": {
    "application/vnd.databricks.v1+cell": {
     "cellMetadata": {
      "byteLimit": 2048000,
      "rowLimit": 10000
     },
     "inputWidgets": {},
     "nuid": "7953a113-c812-40e8-84a3-bad6105968d8",
     "showTitle": false,
     "title": ""
    }
   },
   "source": [
    "Display total population by year and sex"
   ]
  },
  {
   "cell_type": "code",
   "execution_count": 0,
   "metadata": {
    "application/vnd.databricks.v1+cell": {
     "cellMetadata": {
      "byteLimit": 2048000,
      "rowLimit": 10000
     },
     "inputWidgets": {},
     "nuid": "c245eaee-8db4-470a-af89-1ba2ce0cad43",
     "showTitle": false,
     "title": ""
    }
   },
   "outputs": [],
   "source": [
    "display(spark.sql('SELECT year, sex, SUM(population) AS Total_Population FROM source group by year,sex'))"
   ]
  },
  {
   "cell_type": "markdown",
   "metadata": {
    "application/vnd.databricks.v1+cell": {
     "cellMetadata": {
      "byteLimit": 2048000,
      "rowLimit": 10000
     },
     "inputWidgets": {},
     "nuid": "2a4cc211-34aa-4576-93cf-8abdd0ada4e2",
     "showTitle": true,
     "title": ""
    },
    "jupyter": {
     "outputs_hidden": true
    }
   },
   "source": [
    "Display most populated ZipCode"
   ]
  },
  {
   "cell_type": "code",
   "execution_count": 0,
   "metadata": {
    "application/vnd.databricks.v1+cell": {
     "cellMetadata": {
      "byteLimit": 2048000,
      "rowLimit": 10000
     },
     "inputWidgets": {},
     "nuid": "90102a9e-bfee-4ffc-8489-fcf4830860a9",
     "showTitle": false,
     "title": ""
    }
   },
   "outputs": [],
   "source": [
    "display(spark.sql('SELECT ZipCode, SUM(population) AS Total_Population FROM source GROUP BY ZipCode ORDER BY Total_Population DESC LIMIT 1'))"
   ]
  },
  {
   "cell_type": "markdown",
   "metadata": {
    "application/vnd.databricks.v1+cell": {
     "cellMetadata": {
      "byteLimit": 2048000,
      "rowLimit": 10000
     },
     "inputWidgets": {},
     "nuid": "ac1bc3a2-576c-4e97-b1b6-656ccf619726",
     "showTitle": false,
     "title": ""
    }
   },
   "source": [
    "Display most populated ZipCode by year"
   ]
  },
  {
   "cell_type": "code",
   "execution_count": 0,
   "metadata": {
    "application/vnd.databricks.v1+cell": {
     "cellMetadata": {
      "byteLimit": 2048000,
      "rowLimit": 10000
     },
     "inputWidgets": {},
     "nuid": "8734bf7d-9ab0-49b1-9604-fb2f0ec8721e",
     "showTitle": false,
     "title": ""
    }
   },
   "outputs": [],
   "source": [
    "county_query = \"SELECT year, ZipCode, SUM(population) AS Total_Population FROM source GROUP BY year, ZipCode ORDER BY Total_Population DESC LIMIT 1\"\n",
    "display(spark.sql(county_query))"
   ]
  }
 ],
 "metadata": {
  "application/vnd.databricks.v1+notebook": {
   "dashboards": [],
   "environmentMetadata": null,
   "language": "python",
   "notebookMetadata": {
    "pythonIndentUnit": 4
   },
   "notebookName": "US Population By ZipCode",
   "widgets": {}
  }
 },
 "nbformat": 4,
 "nbformat_minor": 0
}
